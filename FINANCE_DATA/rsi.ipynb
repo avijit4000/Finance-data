{
 "cells": [
  {
   "cell_type": "code",
   "execution_count": 1,
   "metadata": {
    "collapsed": true,
    "pycharm": {
     "name": "#%%\n"
    }
   },
   "outputs": [
    {
     "name": "stdout",
     "output_type": "stream",
     "text": [
      "RSI values: [71.34387351778662, 74.14975315414156, 75.12687779131144, 76.58188859223017, 77.92461904083666, 79.50641209761643]\n"
     ]
    }
   ],
   "source": [
    "def calculate_rsi(data, period=14):\n",
    "    \"\"\"\n",
    "    Calculate Relative Strength Index (RSI) for a given dataset.\n",
    "\n",
    "    :param data: A list or numpy array of historical prices.\n",
    "    :param period: The number of periods to use in calculating RSI (default is 14).\n",
    "    :return: A list containing RSI values.\n",
    "    \"\"\"\n",
    "    delta = [data[i] - data[i - 1] for i in range(1, len(data))]\n",
    "    gain = [d if d > 0 else 0 for d in delta]\n",
    "    loss = [abs(d) if d < 0 else 0 for d in delta]\n",
    "\n",
    "    avg_gain = sum(gain[:period]) / period\n",
    "    avg_loss = sum(loss[:period]) / period\n",
    "    rs = avg_gain / avg_loss if avg_loss != 0 else 0\n",
    "\n",
    "    rsi_values = [100 - (100 / (1 + rs))]\n",
    "\n",
    "    for i in range(period, len(data) - 1):\n",
    "        avg_gain = (avg_gain * (period - 1) + gain[i]) / period\n",
    "        avg_loss = (avg_loss * (period - 1) + loss[i]) / period\n",
    "        rs = avg_gain / avg_loss if avg_loss != 0 else 0\n",
    "        rsi_values.append(100 - (100 / (1 + rs)))\n",
    "\n",
    "    return rsi_values\n",
    "\n",
    "# Example usage:\n",
    "prices = [55.36, 56.27, 56.71, 57.02, 56.95, 56.47, 56.86, 57.35, 57.94, 57.94,\n",
    "          57.60, 57.86, 57.71, 57.93, 57.52, 58.03, 58.22, 58.51, 58.79, 59.14]\n",
    "rsi_values = calculate_rsi(prices)\n",
    "print(\"RSI values:\", rsi_values)\n"
   ]
  },
  {
   "cell_type": "code",
   "execution_count": null,
   "outputs": [],
   "source": [],
   "metadata": {
    "collapsed": false,
    "pycharm": {
     "name": "#%%\n"
    }
   }
  }
 ],
 "metadata": {
  "kernelspec": {
   "display_name": "Python 3",
   "language": "python",
   "name": "python3"
  },
  "language_info": {
   "codemirror_mode": {
    "name": "ipython",
    "version": 2
   },
   "file_extension": ".py",
   "mimetype": "text/x-python",
   "name": "python",
   "nbconvert_exporter": "python",
   "pygments_lexer": "ipython2",
   "version": "2.7.6"
  }
 },
 "nbformat": 4,
 "nbformat_minor": 0
}