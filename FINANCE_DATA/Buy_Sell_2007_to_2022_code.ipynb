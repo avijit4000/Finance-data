{
 "nbformat": 4,
 "nbformat_minor": 0,
 "metadata": {
  "colab": {
   "provenance": []
  },
  "kernelspec": {
   "name": "python3",
   "display_name": "Python 3"
  },
  "language_info": {
   "name": "python"
  }
 },
 "cells": [
  {
   "cell_type": "code",
   "source": [
    "# Mount Drive...\n",
    "from google.colab import drive\n",
    "drive.mount('/content/gdrive')"
   ],
   "metadata": {
    "colab": {
     "base_uri": "https://localhost:8080/"
    },
    "id": "oLqY-drYuc4_",
    "outputId": "ac6fe7d7-1904-4802-a94d-292875bf76f0",
    "pycharm": {
     "name": "#%%\n"
    }
   },
   "execution_count": null,
   "outputs": [
    {
     "output_type": "stream",
     "name": "stdout",
     "text": [
      "Mounted at /content/gdrive\n"
     ]
    }
   ]
  },
  {
   "cell_type": "code",
   "source": [
    "# For Testing...\n",
    "!ls \"/content/gdrive/My Drive/Anmol/Anmol_8_57_Stock/\"  # remove this ..."
   ],
   "metadata": {
    "colab": {
     "base_uri": "https://localhost:8080/"
    },
    "id": "vl-__PafupQq",
    "outputId": "ff94c1ea-fd67-40f0-a1be-3e2cfe75b801",
    "pycharm": {
     "name": "#%%\n"
    }
   },
   "execution_count": null,
   "outputs": [
    {
     "output_type": "stream",
     "name": "stdout",
     "text": [
      "'Predict Stock and Implied Volatility Data OOS 5.0 2021 results.csv'\n",
      "'Predict Stock and Implied Volatility Data OOS 5.0.csv'\n"
     ]
    }
   ]
  },
  {
   "cell_type": "code",
   "source": [
    "import numpy as np\n",
    "import pandas as pd\n",
    "from math import sqrt\n",
    "import seaborn as sns\n",
    "import networkx as nx\n",
    "import matplotlib.pyplot as plt\n",
    "from scipy.cluster import hierarchy\n",
    "from keras.callbacks import EarlyStopping\n",
    "from sklearn.metrics import accuracy_score\n",
    "from tensorflow.keras.models import Sequential\n",
    "from sklearn.preprocessing import MinMaxScaler\n",
    "from sklearn.metrics import mean_squared_error\n",
    "from sklearn.model_selection import train_test_split\n",
    "from tensorflow.keras.layers import LSTM, Dense, Dropout"
   ],
   "metadata": {
    "id": "gS4nx_X-2S-2",
    "pycharm": {
     "name": "#%%\n"
    }
   },
   "execution_count": null,
   "outputs": []
  },
  {
   "cell_type": "code",
   "source": [
    "# Read data...\n",
    "dataset = pd.read_csv(f\"/content/gdrive/My Drive/Anmol/Anmol_8_57_Stock/Predict Stock and Implied Volatility Data OOS 5.0 2021 results.csv\")\n",
    "dataset.head()"
   ],
   "metadata": {
    "colab": {
     "base_uri": "https://localhost:8080/",
     "height": 255
    },
    "id": "KniE4jiq2S7f",
    "outputId": "1c552308-5fa5-48a8-addc-02fe6d152169",
    "pycharm": {
     "name": "#%%\n"
    }
   },
   "execution_count": null,
   "outputs": [
    {
     "output_type": "execute_result",
     "data": {
      "text/plain": [
       "   Predict>  StockPriceIn10days  tradeDate  pxAtmIv  orFcst20d  orIvFcst20d  \\\n",
       "0       NaN              0.0063  1/31/2007   143.75    10.1683       9.8551   \n",
       "1       NaN              0.0069   2/1/2007   144.61    10.1125       9.5683   \n",
       "2       NaN              0.0068   2/2/2007   144.81     9.5279       9.2018   \n",
       "3       NaN              0.0061   2/5/2007   144.85     9.2203       8.9397   \n",
       "4       NaN              0.0079   2/6/2007   144.89     9.6035       9.4875   \n",
       "\n",
       "   orFcstInf  orIvXern20d  orIvXernInf  volOfVol  ...  fbfwd60_30.1  \\\n",
       "0      12.22         9.63        13.26    0.0582  ...      0.992056   \n",
       "1      12.25         9.78        13.37    0.0581  ...      1.004600   \n",
       "2      11.95         9.27        13.22    0.0581  ...      1.018850   \n",
       "3      12.07        10.10        13.19    0.0581  ...      0.998004   \n",
       "4      11.78         9.22        13.74    0.0581  ...      0.997221   \n",
       "\n",
       "   fbfwd90_60.1  fbfwd180_90.1  fbfwd90_30.1  fbfexErn30_20.1  \\\n",
       "0       1.01718        1.00792       1.00103         1.017280   \n",
       "1       1.02285        1.01253       1.01074         1.010130   \n",
       "2       1.02511        1.02322       1.02063         1.034060   \n",
       "3       1.02197        1.00980       1.00642         0.983009   \n",
       "4       1.02271        1.01185       1.00576         0.973504   \n",
       "\n",
       "   fbfexErn60_30.1  fbfexErn90_60.1  fbfexErn180_90.1  fbfexErn90_30.1  \\\n",
       "0          1.02701          1.03060           1.01143          1.02713   \n",
       "1          1.02413          1.03344           1.01364          1.02607   \n",
       "2          1.03776          1.03269           1.02291          1.03527   \n",
       "3          1.01409          1.02823           1.01010          1.01865   \n",
       "4          1.01293          1.02914           1.01015          1.01734   \n",
       "\n",
       "   impliedEarningsMove  \n",
       "0                 2.82  \n",
       "1                 2.66  \n",
       "2                 2.43  \n",
       "3                 2.65  \n",
       "4                 2.50  \n",
       "\n",
       "[5 rows x 211 columns]"
      ],
      "text/html": [
       "\n",
       "  <div id=\"df-b5f9d43e-4116-4343-ab4d-85c3cc77dbaf\" class=\"colab-df-container\">\n",
       "    <div>\n",
       "<style scoped>\n",
       "    .dataframe tbody tr th:only-of-type {\n",
       "        vertical-align: middle;\n",
       "    }\n",
       "\n",
       "    .dataframe tbody tr th {\n",
       "        vertical-align: top;\n",
       "    }\n",
       "\n",
       "    .dataframe thead th {\n",
       "        text-align: right;\n",
       "    }\n",
       "</style>\n",
       "<table border=\"1\" class=\"dataframe\">\n",
       "  <thead>\n",
       "    <tr style=\"text-align: right;\">\n",
       "      <th></th>\n",
       "      <th>Predict&gt;</th>\n",
       "      <th>StockPriceIn10days</th>\n",
       "      <th>tradeDate</th>\n",
       "      <th>pxAtmIv</th>\n",
       "      <th>orFcst20d</th>\n",
       "      <th>orIvFcst20d</th>\n",
       "      <th>orFcstInf</th>\n",
       "      <th>orIvXern20d</th>\n",
       "      <th>orIvXernInf</th>\n",
       "      <th>volOfVol</th>\n",
       "      <th>...</th>\n",
       "      <th>fbfwd60_30.1</th>\n",
       "      <th>fbfwd90_60.1</th>\n",
       "      <th>fbfwd180_90.1</th>\n",
       "      <th>fbfwd90_30.1</th>\n",
       "      <th>fbfexErn30_20.1</th>\n",
       "      <th>fbfexErn60_30.1</th>\n",
       "      <th>fbfexErn90_60.1</th>\n",
       "      <th>fbfexErn180_90.1</th>\n",
       "      <th>fbfexErn90_30.1</th>\n",
       "      <th>impliedEarningsMove</th>\n",
       "    </tr>\n",
       "  </thead>\n",
       "  <tbody>\n",
       "    <tr>\n",
       "      <th>0</th>\n",
       "      <td>NaN</td>\n",
       "      <td>0.0063</td>\n",
       "      <td>1/31/2007</td>\n",
       "      <td>143.75</td>\n",
       "      <td>10.1683</td>\n",
       "      <td>9.8551</td>\n",
       "      <td>12.22</td>\n",
       "      <td>9.63</td>\n",
       "      <td>13.26</td>\n",
       "      <td>0.0582</td>\n",
       "      <td>...</td>\n",
       "      <td>0.992056</td>\n",
       "      <td>1.01718</td>\n",
       "      <td>1.00792</td>\n",
       "      <td>1.00103</td>\n",
       "      <td>1.017280</td>\n",
       "      <td>1.02701</td>\n",
       "      <td>1.03060</td>\n",
       "      <td>1.01143</td>\n",
       "      <td>1.02713</td>\n",
       "      <td>2.82</td>\n",
       "    </tr>\n",
       "    <tr>\n",
       "      <th>1</th>\n",
       "      <td>NaN</td>\n",
       "      <td>0.0069</td>\n",
       "      <td>2/1/2007</td>\n",
       "      <td>144.61</td>\n",
       "      <td>10.1125</td>\n",
       "      <td>9.5683</td>\n",
       "      <td>12.25</td>\n",
       "      <td>9.78</td>\n",
       "      <td>13.37</td>\n",
       "      <td>0.0581</td>\n",
       "      <td>...</td>\n",
       "      <td>1.004600</td>\n",
       "      <td>1.02285</td>\n",
       "      <td>1.01253</td>\n",
       "      <td>1.01074</td>\n",
       "      <td>1.010130</td>\n",
       "      <td>1.02413</td>\n",
       "      <td>1.03344</td>\n",
       "      <td>1.01364</td>\n",
       "      <td>1.02607</td>\n",
       "      <td>2.66</td>\n",
       "    </tr>\n",
       "    <tr>\n",
       "      <th>2</th>\n",
       "      <td>NaN</td>\n",
       "      <td>0.0068</td>\n",
       "      <td>2/2/2007</td>\n",
       "      <td>144.81</td>\n",
       "      <td>9.5279</td>\n",
       "      <td>9.2018</td>\n",
       "      <td>11.95</td>\n",
       "      <td>9.27</td>\n",
       "      <td>13.22</td>\n",
       "      <td>0.0581</td>\n",
       "      <td>...</td>\n",
       "      <td>1.018850</td>\n",
       "      <td>1.02511</td>\n",
       "      <td>1.02322</td>\n",
       "      <td>1.02063</td>\n",
       "      <td>1.034060</td>\n",
       "      <td>1.03776</td>\n",
       "      <td>1.03269</td>\n",
       "      <td>1.02291</td>\n",
       "      <td>1.03527</td>\n",
       "      <td>2.43</td>\n",
       "    </tr>\n",
       "    <tr>\n",
       "      <th>3</th>\n",
       "      <td>NaN</td>\n",
       "      <td>0.0061</td>\n",
       "      <td>2/5/2007</td>\n",
       "      <td>144.85</td>\n",
       "      <td>9.2203</td>\n",
       "      <td>8.9397</td>\n",
       "      <td>12.07</td>\n",
       "      <td>10.10</td>\n",
       "      <td>13.19</td>\n",
       "      <td>0.0581</td>\n",
       "      <td>...</td>\n",
       "      <td>0.998004</td>\n",
       "      <td>1.02197</td>\n",
       "      <td>1.00980</td>\n",
       "      <td>1.00642</td>\n",
       "      <td>0.983009</td>\n",
       "      <td>1.01409</td>\n",
       "      <td>1.02823</td>\n",
       "      <td>1.01010</td>\n",
       "      <td>1.01865</td>\n",
       "      <td>2.65</td>\n",
       "    </tr>\n",
       "    <tr>\n",
       "      <th>4</th>\n",
       "      <td>NaN</td>\n",
       "      <td>0.0079</td>\n",
       "      <td>2/6/2007</td>\n",
       "      <td>144.89</td>\n",
       "      <td>9.6035</td>\n",
       "      <td>9.4875</td>\n",
       "      <td>11.78</td>\n",
       "      <td>9.22</td>\n",
       "      <td>13.74</td>\n",
       "      <td>0.0581</td>\n",
       "      <td>...</td>\n",
       "      <td>0.997221</td>\n",
       "      <td>1.02271</td>\n",
       "      <td>1.01185</td>\n",
       "      <td>1.00576</td>\n",
       "      <td>0.973504</td>\n",
       "      <td>1.01293</td>\n",
       "      <td>1.02914</td>\n",
       "      <td>1.01015</td>\n",
       "      <td>1.01734</td>\n",
       "      <td>2.50</td>\n",
       "    </tr>\n",
       "  </tbody>\n",
       "</table>\n",
       "<p>5 rows × 211 columns</p>\n",
       "</div>\n",
       "    <div class=\"colab-df-buttons\">\n",
       "\n",
       "  <div class=\"colab-df-container\">\n",
       "    <button class=\"colab-df-convert\" onclick=\"convertToInteractive('df-b5f9d43e-4116-4343-ab4d-85c3cc77dbaf')\"\n",
       "            title=\"Convert this dataframe to an interactive table.\"\n",
       "            style=\"display:none;\">\n",
       "\n",
       "  <svg xmlns=\"http://www.w3.org/2000/svg\" height=\"24px\" viewBox=\"0 -960 960 960\">\n",
       "    <path d=\"M120-120v-720h720v720H120Zm60-500h600v-160H180v160Zm220 220h160v-160H400v160Zm0 220h160v-160H400v160ZM180-400h160v-160H180v160Zm440 0h160v-160H620v160ZM180-180h160v-160H180v160Zm440 0h160v-160H620v160Z\"/>\n",
       "  </svg>\n",
       "    </button>\n",
       "\n",
       "  <style>\n",
       "    .colab-df-container {\n",
       "      display:flex;\n",
       "      gap: 12px;\n",
       "    }\n",
       "\n",
       "    .colab-df-convert {\n",
       "      background-color: #E8F0FE;\n",
       "      border: none;\n",
       "      border-radius: 50%;\n",
       "      cursor: pointer;\n",
       "      display: none;\n",
       "      fill: #1967D2;\n",
       "      height: 32px;\n",
       "      padding: 0 0 0 0;\n",
       "      width: 32px;\n",
       "    }\n",
       "\n",
       "    .colab-df-convert:hover {\n",
       "      background-color: #E2EBFA;\n",
       "      box-shadow: 0px 1px 2px rgba(60, 64, 67, 0.3), 0px 1px 3px 1px rgba(60, 64, 67, 0.15);\n",
       "      fill: #174EA6;\n",
       "    }\n",
       "\n",
       "    .colab-df-buttons div {\n",
       "      margin-bottom: 4px;\n",
       "    }\n",
       "\n",
       "    [theme=dark] .colab-df-convert {\n",
       "      background-color: #3B4455;\n",
       "      fill: #D2E3FC;\n",
       "    }\n",
       "\n",
       "    [theme=dark] .colab-df-convert:hover {\n",
       "      background-color: #434B5C;\n",
       "      box-shadow: 0px 1px 3px 1px rgba(0, 0, 0, 0.15);\n",
       "      filter: drop-shadow(0px 1px 2px rgba(0, 0, 0, 0.3));\n",
       "      fill: #FFFFFF;\n",
       "    }\n",
       "  </style>\n",
       "\n",
       "    <script>\n",
       "      const buttonEl =\n",
       "        document.querySelector('#df-b5f9d43e-4116-4343-ab4d-85c3cc77dbaf button.colab-df-convert');\n",
       "      buttonEl.style.display =\n",
       "        google.colab.kernel.accessAllowed ? 'block' : 'none';\n",
       "\n",
       "      async function convertToInteractive(key) {\n",
       "        const element = document.querySelector('#df-b5f9d43e-4116-4343-ab4d-85c3cc77dbaf');\n",
       "        const dataTable =\n",
       "          await google.colab.kernel.invokeFunction('convertToInteractive',\n",
       "                                                    [key], {});\n",
       "        if (!dataTable) return;\n",
       "\n",
       "        const docLinkHtml = 'Like what you see? Visit the ' +\n",
       "          '<a target=\"_blank\" href=https://colab.research.google.com/notebooks/data_table.ipynb>data table notebook</a>'\n",
       "          + ' to learn more about interactive tables.';\n",
       "        element.innerHTML = '';\n",
       "        dataTable['output_type'] = 'display_data';\n",
       "        await google.colab.output.renderOutput(dataTable, element);\n",
       "        const docLink = document.createElement('div');\n",
       "        docLink.innerHTML = docLinkHtml;\n",
       "        element.appendChild(docLink);\n",
       "      }\n",
       "    </script>\n",
       "  </div>\n",
       "\n",
       "\n",
       "<div id=\"df-22ad6431-ed80-4496-905d-28e9fd7dec92\">\n",
       "  <button class=\"colab-df-quickchart\" onclick=\"quickchart('df-22ad6431-ed80-4496-905d-28e9fd7dec92')\"\n",
       "            title=\"Suggest charts\"\n",
       "            style=\"display:none;\">\n",
       "\n",
       "<svg xmlns=\"http://www.w3.org/2000/svg\" height=\"24px\"viewBox=\"0 0 24 24\"\n",
       "     width=\"24px\">\n",
       "    <g>\n",
       "        <path d=\"M19 3H5c-1.1 0-2 .9-2 2v14c0 1.1.9 2 2 2h14c1.1 0 2-.9 2-2V5c0-1.1-.9-2-2-2zM9 17H7v-7h2v7zm4 0h-2V7h2v10zm4 0h-2v-4h2v4z\"/>\n",
       "    </g>\n",
       "</svg>\n",
       "  </button>\n",
       "\n",
       "<style>\n",
       "  .colab-df-quickchart {\n",
       "      --bg-color: #E8F0FE;\n",
       "      --fill-color: #1967D2;\n",
       "      --hover-bg-color: #E2EBFA;\n",
       "      --hover-fill-color: #174EA6;\n",
       "      --disabled-fill-color: #AAA;\n",
       "      --disabled-bg-color: #DDD;\n",
       "  }\n",
       "\n",
       "  [theme=dark] .colab-df-quickchart {\n",
       "      --bg-color: #3B4455;\n",
       "      --fill-color: #D2E3FC;\n",
       "      --hover-bg-color: #434B5C;\n",
       "      --hover-fill-color: #FFFFFF;\n",
       "      --disabled-bg-color: #3B4455;\n",
       "      --disabled-fill-color: #666;\n",
       "  }\n",
       "\n",
       "  .colab-df-quickchart {\n",
       "    background-color: var(--bg-color);\n",
       "    border: none;\n",
       "    border-radius: 50%;\n",
       "    cursor: pointer;\n",
       "    display: none;\n",
       "    fill: var(--fill-color);\n",
       "    height: 32px;\n",
       "    padding: 0;\n",
       "    width: 32px;\n",
       "  }\n",
       "\n",
       "  .colab-df-quickchart:hover {\n",
       "    background-color: var(--hover-bg-color);\n",
       "    box-shadow: 0 1px 2px rgba(60, 64, 67, 0.3), 0 1px 3px 1px rgba(60, 64, 67, 0.15);\n",
       "    fill: var(--button-hover-fill-color);\n",
       "  }\n",
       "\n",
       "  .colab-df-quickchart-complete:disabled,\n",
       "  .colab-df-quickchart-complete:disabled:hover {\n",
       "    background-color: var(--disabled-bg-color);\n",
       "    fill: var(--disabled-fill-color);\n",
       "    box-shadow: none;\n",
       "  }\n",
       "\n",
       "  .colab-df-spinner {\n",
       "    border: 2px solid var(--fill-color);\n",
       "    border-color: transparent;\n",
       "    border-bottom-color: var(--fill-color);\n",
       "    animation:\n",
       "      spin 1s steps(1) infinite;\n",
       "  }\n",
       "\n",
       "  @keyframes spin {\n",
       "    0% {\n",
       "      border-color: transparent;\n",
       "      border-bottom-color: var(--fill-color);\n",
       "      border-left-color: var(--fill-color);\n",
       "    }\n",
       "    20% {\n",
       "      border-color: transparent;\n",
       "      border-left-color: var(--fill-color);\n",
       "      border-top-color: var(--fill-color);\n",
       "    }\n",
       "    30% {\n",
       "      border-color: transparent;\n",
       "      border-left-color: var(--fill-color);\n",
       "      border-top-color: var(--fill-color);\n",
       "      border-right-color: var(--fill-color);\n",
       "    }\n",
       "    40% {\n",
       "      border-color: transparent;\n",
       "      border-right-color: var(--fill-color);\n",
       "      border-top-color: var(--fill-color);\n",
       "    }\n",
       "    60% {\n",
       "      border-color: transparent;\n",
       "      border-right-color: var(--fill-color);\n",
       "    }\n",
       "    80% {\n",
       "      border-color: transparent;\n",
       "      border-right-color: var(--fill-color);\n",
       "      border-bottom-color: var(--fill-color);\n",
       "    }\n",
       "    90% {\n",
       "      border-color: transparent;\n",
       "      border-bottom-color: var(--fill-color);\n",
       "    }\n",
       "  }\n",
       "</style>\n",
       "\n",
       "  <script>\n",
       "    async function quickchart(key) {\n",
       "      const quickchartButtonEl =\n",
       "        document.querySelector('#' + key + ' button');\n",
       "      quickchartButtonEl.disabled = true;  // To prevent multiple clicks.\n",
       "      quickchartButtonEl.classList.add('colab-df-spinner');\n",
       "      try {\n",
       "        const charts = await google.colab.kernel.invokeFunction(\n",
       "            'suggestCharts', [key], {});\n",
       "      } catch (error) {\n",
       "        console.error('Error during call to suggestCharts:', error);\n",
       "      }\n",
       "      quickchartButtonEl.classList.remove('colab-df-spinner');\n",
       "      quickchartButtonEl.classList.add('colab-df-quickchart-complete');\n",
       "    }\n",
       "    (() => {\n",
       "      let quickchartButtonEl =\n",
       "        document.querySelector('#df-22ad6431-ed80-4496-905d-28e9fd7dec92 button');\n",
       "      quickchartButtonEl.style.display =\n",
       "        google.colab.kernel.accessAllowed ? 'block' : 'none';\n",
       "    })();\n",
       "  </script>\n",
       "</div>\n",
       "    </div>\n",
       "  </div>\n"
      ]
     },
     "metadata": {},
     "execution_count": 4
    }
   ]
  },
  {
   "cell_type": "code",
   "source": [
    "# Split the dataset into data & future_data...\n",
    "# Convert the date column to datetime...\n",
    "dataset['tradeDate'] = pd.to_datetime(dataset['tradeDate'])\n",
    "\n",
    "data = dataset[dataset['tradeDate'].dt.year == 2021]\n",
    "# data = dataset[(dataset['tradeDate'].dt.year >= 2018) & (dataset['tradeDate'].dt.year <= 2021)]\n",
    "test_data = dataset[dataset['tradeDate'].dt.year == 2022]\n",
    "future_data = dataset[dataset['tradeDate'].dt.year >= 2023]"
   ],
   "metadata": {
    "id": "CwE69f6H2S4S",
    "pycharm": {
     "name": "#%%\n"
    }
   },
   "execution_count": null,
   "outputs": []
  },
  {
   "cell_type": "code",
   "source": [
    "# test_data_\n",
    "\n",
    "# Top n Correlation with the target variable...\n",
    "test_data_correlation_with_target = test_data.corrwith(test_data['StockPriceIn10days']).abs()\n",
    "\n",
    "# Sorting and removing target variable's correlation...\n",
    "test_data_correlation_with_target = test_data_correlation_with_target.sort_values(ascending=False).drop('StockPriceIn10days')\n",
    "\n",
    "# Select the top n variables...\n",
    "test_data_correlation_with_target_n = test_data_correlation_with_target.head(33).index\n",
    "\n",
    "test_data_n_df = pd.DataFrame(test_data_correlation_with_target_n, columns=['Top n Variables'])\n",
    "test_data_n_df.style.set_table_attributes(\"style='display:inline'\")"
   ],
   "metadata": {
    "colab": {
     "base_uri": "https://localhost:8080/",
     "height": 1000
    },
    "id": "T1KTdwxI2Sya",
    "outputId": "5a0649bb-d7bd-49b7-d867-ab0c80060f52",
    "pycharm": {
     "name": "#%%\n"
    }
   },
   "execution_count": null,
   "outputs": [
    {
     "output_type": "stream",
     "name": "stderr",
     "text": [
      "<ipython-input-6-314e3d015439>:4: FutureWarning: The default value of numeric_only in DataFrame.corrwith is deprecated. In a future version, it will default to False. Select only valid columns or specify the value of numeric_only to silence this warning.\n",
      "  test_data_correlation_with_target = test_data.corrwith(test_data['StockPriceIn10days']).abs()\n"
     ]
    },
    {
     "output_type": "execute_result",
     "data": {
      "text/plain": [
       "<pandas.io.formats.style.Styler at 0x7a36a2623be0>"
      ],
      "text/html": [
       "<style type=\"text/css\">\n",
       "</style>\n",
       "<table id=\"T_5e06e\" class=\"dataframe\">\n",
       "  <thead>\n",
       "    <tr>\n",
       "      <th class=\"blank level0\" >&nbsp;</th>\n",
       "      <th id=\"T_5e06e_level0_col0\" class=\"col_heading level0 col0\" >Top n Variables</th>\n",
       "    </tr>\n",
       "  </thead>\n",
       "  <tbody>\n",
       "    <tr>\n",
       "      <th id=\"T_5e06e_level0_row0\" class=\"row_heading level0 row0\" >0</th>\n",
       "      <td id=\"T_5e06e_row0_col0\" class=\"data row0 col0\" >Predict></td>\n",
       "    </tr>\n",
       "    <tr>\n",
       "      <th id=\"T_5e06e_level0_row1\" class=\"row_heading level0 row1\" >1</th>\n",
       "      <td id=\"T_5e06e_row1_col0\" class=\"data row1 col0\" >pxAtmIv</td>\n",
       "    </tr>\n",
       "    <tr>\n",
       "      <th id=\"T_5e06e_level0_row2\" class=\"row_heading level0 row2\" >2</th>\n",
       "      <td id=\"T_5e06e_row2_col0\" class=\"data row2 col0\" >orFcst20d</td>\n",
       "    </tr>\n",
       "    <tr>\n",
       "      <th id=\"T_5e06e_level0_row3\" class=\"row_heading level0 row3\" >3</th>\n",
       "      <td id=\"T_5e06e_row3_col0\" class=\"data row3 col0\" >orIvFcst20d</td>\n",
       "    </tr>\n",
       "    <tr>\n",
       "      <th id=\"T_5e06e_level0_row4\" class=\"row_heading level0 row4\" >4</th>\n",
       "      <td id=\"T_5e06e_row4_col0\" class=\"data row4 col0\" >orFcstInf</td>\n",
       "    </tr>\n",
       "    <tr>\n",
       "      <th id=\"T_5e06e_level0_row5\" class=\"row_heading level0 row5\" >5</th>\n",
       "      <td id=\"T_5e06e_row5_col0\" class=\"data row5 col0\" >orIvXern20d</td>\n",
       "    </tr>\n",
       "    <tr>\n",
       "      <th id=\"T_5e06e_level0_row6\" class=\"row_heading level0 row6\" >6</th>\n",
       "      <td id=\"T_5e06e_row6_col0\" class=\"data row6 col0\" >orIvXernInf</td>\n",
       "    </tr>\n",
       "    <tr>\n",
       "      <th id=\"T_5e06e_level0_row7\" class=\"row_heading level0 row7\" >7</th>\n",
       "      <td id=\"T_5e06e_row7_col0\" class=\"data row7 col0\" >volOfVol</td>\n",
       "    </tr>\n",
       "    <tr>\n",
       "      <th id=\"T_5e06e_level0_row8\" class=\"row_heading level0 row8\" >8</th>\n",
       "      <td id=\"T_5e06e_row8_col0\" class=\"data row8 col0\" >volOfIvol</td>\n",
       "    </tr>\n",
       "    <tr>\n",
       "      <th id=\"T_5e06e_level0_row9\" class=\"row_heading level0 row9\" >9</th>\n",
       "      <td id=\"T_5e06e_row9_col0\" class=\"data row9 col0\" >slope</td>\n",
       "    </tr>\n",
       "    <tr>\n",
       "      <th id=\"T_5e06e_level0_row10\" class=\"row_heading level0 row10\" >10</th>\n",
       "      <td id=\"T_5e06e_row10_col0\" class=\"data row10 col0\" >slopeInf</td>\n",
       "    </tr>\n",
       "    <tr>\n",
       "      <th id=\"T_5e06e_level0_row11\" class=\"row_heading level0 row11\" >11</th>\n",
       "      <td id=\"T_5e06e_row11_col0\" class=\"data row11 col0\" >slopeFcst</td>\n",
       "    </tr>\n",
       "    <tr>\n",
       "      <th id=\"T_5e06e_level0_row12\" class=\"row_heading level0 row12\" >12</th>\n",
       "      <td id=\"T_5e06e_row12_col0\" class=\"data row12 col0\" >slopeFcstInf</td>\n",
       "    </tr>\n",
       "    <tr>\n",
       "      <th id=\"T_5e06e_level0_row13\" class=\"row_heading level0 row13\" >13</th>\n",
       "      <td id=\"T_5e06e_row13_col0\" class=\"data row13 col0\" >deriv</td>\n",
       "    </tr>\n",
       "    <tr>\n",
       "      <th id=\"T_5e06e_level0_row14\" class=\"row_heading level0 row14\" >14</th>\n",
       "      <td id=\"T_5e06e_row14_col0\" class=\"data row14 col0\" >derivInf</td>\n",
       "    </tr>\n",
       "    <tr>\n",
       "      <th id=\"T_5e06e_level0_row15\" class=\"row_heading level0 row15\" >15</th>\n",
       "      <td id=\"T_5e06e_row15_col0\" class=\"data row15 col0\" >derivFcst</td>\n",
       "    </tr>\n",
       "    <tr>\n",
       "      <th id=\"T_5e06e_level0_row16\" class=\"row_heading level0 row16\" >16</th>\n",
       "      <td id=\"T_5e06e_row16_col0\" class=\"data row16 col0\" >derivFcstInf</td>\n",
       "    </tr>\n",
       "    <tr>\n",
       "      <th id=\"T_5e06e_level0_row17\" class=\"row_heading level0 row17\" >17</th>\n",
       "      <td id=\"T_5e06e_row17_col0\" class=\"data row17 col0\" >mktWidthVol</td>\n",
       "    </tr>\n",
       "    <tr>\n",
       "      <th id=\"T_5e06e_level0_row18\" class=\"row_heading level0 row18\" >18</th>\n",
       "      <td id=\"T_5e06e_row18_col0\" class=\"data row18 col0\" >mktWidthVolInf</td>\n",
       "    </tr>\n",
       "    <tr>\n",
       "      <th id=\"T_5e06e_level0_row19\" class=\"row_heading level0 row19\" >19</th>\n",
       "      <td id=\"T_5e06e_row19_col0\" class=\"data row19 col0\" >orHv1d</td>\n",
       "    </tr>\n",
       "    <tr>\n",
       "      <th id=\"T_5e06e_level0_row20\" class=\"row_heading level0 row20\" >20</th>\n",
       "      <td id=\"T_5e06e_row20_col0\" class=\"data row20 col0\" >orHv5d</td>\n",
       "    </tr>\n",
       "    <tr>\n",
       "      <th id=\"T_5e06e_level0_row21\" class=\"row_heading level0 row21\" >21</th>\n",
       "      <td id=\"T_5e06e_row21_col0\" class=\"data row21 col0\" >orHv10d</td>\n",
       "    </tr>\n",
       "    <tr>\n",
       "      <th id=\"T_5e06e_level0_row22\" class=\"row_heading level0 row22\" >22</th>\n",
       "      <td id=\"T_5e06e_row22_col0\" class=\"data row22 col0\" >orHv20d</td>\n",
       "    </tr>\n",
       "    <tr>\n",
       "      <th id=\"T_5e06e_level0_row23\" class=\"row_heading level0 row23\" >23</th>\n",
       "      <td id=\"T_5e06e_row23_col0\" class=\"data row23 col0\" >orHv60d</td>\n",
       "    </tr>\n",
       "    <tr>\n",
       "      <th id=\"T_5e06e_level0_row24\" class=\"row_heading level0 row24\" >24</th>\n",
       "      <td id=\"T_5e06e_row24_col0\" class=\"data row24 col0\" >orHv90d</td>\n",
       "    </tr>\n",
       "    <tr>\n",
       "      <th id=\"T_5e06e_level0_row25\" class=\"row_heading level0 row25\" >25</th>\n",
       "      <td id=\"T_5e06e_row25_col0\" class=\"data row25 col0\" >clsHv5d</td>\n",
       "    </tr>\n",
       "    <tr>\n",
       "      <th id=\"T_5e06e_level0_row26\" class=\"row_heading level0 row26\" >26</th>\n",
       "      <td id=\"T_5e06e_row26_col0\" class=\"data row26 col0\" >clsHv10d</td>\n",
       "    </tr>\n",
       "    <tr>\n",
       "      <th id=\"T_5e06e_level0_row27\" class=\"row_heading level0 row27\" >27</th>\n",
       "      <td id=\"T_5e06e_row27_col0\" class=\"data row27 col0\" >clsHv20d</td>\n",
       "    </tr>\n",
       "    <tr>\n",
       "      <th id=\"T_5e06e_level0_row28\" class=\"row_heading level0 row28\" >28</th>\n",
       "      <td id=\"T_5e06e_row28_col0\" class=\"data row28 col0\" >clsHv60d</td>\n",
       "    </tr>\n",
       "    <tr>\n",
       "      <th id=\"T_5e06e_level0_row29\" class=\"row_heading level0 row29\" >29</th>\n",
       "      <td id=\"T_5e06e_row29_col0\" class=\"data row29 col0\" >clsHv90d</td>\n",
       "    </tr>\n",
       "    <tr>\n",
       "      <th id=\"T_5e06e_level0_row30\" class=\"row_heading level0 row30\" >30</th>\n",
       "      <td id=\"T_5e06e_row30_col0\" class=\"data row30 col0\" >iv10d</td>\n",
       "    </tr>\n",
       "    <tr>\n",
       "      <th id=\"T_5e06e_level0_row31\" class=\"row_heading level0 row31\" >31</th>\n",
       "      <td id=\"T_5e06e_row31_col0\" class=\"data row31 col0\" >iv20d</td>\n",
       "    </tr>\n",
       "    <tr>\n",
       "      <th id=\"T_5e06e_level0_row32\" class=\"row_heading level0 row32\" >32</th>\n",
       "      <td id=\"T_5e06e_row32_col0\" class=\"data row32 col0\" >iv30d</td>\n",
       "    </tr>\n",
       "  </tbody>\n",
       "</table>\n"
      ]
     },
     "metadata": {},
     "execution_count": 6
    }
   ]
  },
  {
   "cell_type": "code",
   "source": [
    "# data_\n",
    "\n",
    "# Top n Correlation with the target variable...\n",
    "data_correlation_with_target = data.corrwith(data['StockPriceIn10days']).abs()\n",
    "\n",
    "# Sorting and removing target variable's correlation...\n",
    "data_correlation_with_target = data_correlation_with_target.sort_values(ascending=False).drop('StockPriceIn10days')\n",
    "\n",
    "# Select the top n variables...\n",
    "data_correlation_with_target_n = data_correlation_with_target.head(33).index\n",
    "\n",
    "data_n_df = pd.DataFrame(data_correlation_with_target_n, columns=['Top n Variables'])\n",
    "data_n_df.style.set_table_attributes(\"style='display:inline'\")"
   ],
   "metadata": {
    "colab": {
     "base_uri": "https://localhost:8080/",
     "height": 1000
    },
    "id": "ra5u0MRRCW5g",
    "outputId": "e77ee869-c9f1-4c6c-92ec-975fc7839471",
    "pycharm": {
     "name": "#%%\n"
    }
   },
   "execution_count": null,
   "outputs": [
    {
     "output_type": "stream",
     "name": "stderr",
     "text": [
      "<ipython-input-7-7fbec066ca52>:4: FutureWarning: The default value of numeric_only in DataFrame.corrwith is deprecated. In a future version, it will default to False. Select only valid columns or specify the value of numeric_only to silence this warning.\n",
      "  data_correlation_with_target = data.corrwith(data['StockPriceIn10days']).abs()\n"
     ]
    },
    {
     "output_type": "execute_result",
     "data": {
      "text/plain": [
       "<pandas.io.formats.style.Styler at 0x7a36a2623d60>"
      ],
      "text/html": [
       "<style type=\"text/css\">\n",
       "</style>\n",
       "<table id=\"T_27f13\" class=\"dataframe\">\n",
       "  <thead>\n",
       "    <tr>\n",
       "      <th class=\"blank level0\" >&nbsp;</th>\n",
       "      <th id=\"T_27f13_level0_col0\" class=\"col_heading level0 col0\" >Top n Variables</th>\n",
       "    </tr>\n",
       "  </thead>\n",
       "  <tbody>\n",
       "    <tr>\n",
       "      <th id=\"T_27f13_level0_row0\" class=\"row_heading level0 row0\" >0</th>\n",
       "      <td id=\"T_27f13_row0_col0\" class=\"data row0 col0\" >ivEtfRatio.1</td>\n",
       "    </tr>\n",
       "    <tr>\n",
       "      <th id=\"T_27f13_level0_row1\" class=\"row_heading level0 row1\" >1</th>\n",
       "      <td id=\"T_27f13_row1_col0\" class=\"data row1 col0\" >ivPctileEtf.1</td>\n",
       "    </tr>\n",
       "    <tr>\n",
       "      <th id=\"T_27f13_level0_row2\" class=\"row_heading level0 row2\" >2</th>\n",
       "      <td id=\"T_27f13_row2_col0\" class=\"data row2 col0\" >fbfwd90_60</td>\n",
       "    </tr>\n",
       "    <tr>\n",
       "      <th id=\"T_27f13_level0_row3\" class=\"row_heading level0 row3\" >3</th>\n",
       "      <td id=\"T_27f13_row3_col0\" class=\"data row3 col0\" >fbfexErn90_60</td>\n",
       "    </tr>\n",
       "    <tr>\n",
       "      <th id=\"T_27f13_level0_row4\" class=\"row_heading level0 row4\" >4</th>\n",
       "      <td id=\"T_27f13_row4_col0\" class=\"data row4 col0\" >fbfwd90_30.1</td>\n",
       "    </tr>\n",
       "    <tr>\n",
       "      <th id=\"T_27f13_level0_row5\" class=\"row_heading level0 row5\" >5</th>\n",
       "      <td id=\"T_27f13_row5_col0\" class=\"data row5 col0\" >contango</td>\n",
       "    </tr>\n",
       "    <tr>\n",
       "      <th id=\"T_27f13_level0_row6\" class=\"row_heading level0 row6\" >6</th>\n",
       "      <td id=\"T_27f13_row6_col0\" class=\"data row6 col0\" >derivFcst</td>\n",
       "    </tr>\n",
       "    <tr>\n",
       "      <th id=\"T_27f13_level0_row7\" class=\"row_heading level0 row7\" >7</th>\n",
       "      <td id=\"T_27f13_row7_col0\" class=\"data row7 col0\" >contango.1</td>\n",
       "    </tr>\n",
       "    <tr>\n",
       "      <th id=\"T_27f13_level0_row8\" class=\"row_heading level0 row8\" >8</th>\n",
       "      <td id=\"T_27f13_row8_col0\" class=\"data row8 col0\" >fbfexErn60_30.1</td>\n",
       "    </tr>\n",
       "    <tr>\n",
       "      <th id=\"T_27f13_level0_row9\" class=\"row_heading level0 row9\" >9</th>\n",
       "      <td id=\"T_27f13_row9_col0\" class=\"data row9 col0\" >fbfexErn90_30</td>\n",
       "    </tr>\n",
       "    <tr>\n",
       "      <th id=\"T_27f13_level0_row10\" class=\"row_heading level0 row10\" >10</th>\n",
       "      <td id=\"T_27f13_row10_col0\" class=\"data row10 col0\" >fbfwd90_30</td>\n",
       "    </tr>\n",
       "    <tr>\n",
       "      <th id=\"T_27f13_level0_row11\" class=\"row_heading level0 row11\" >11</th>\n",
       "      <td id=\"T_27f13_row11_col0\" class=\"data row11 col0\" >fbfexErn90_30.1</td>\n",
       "    </tr>\n",
       "    <tr>\n",
       "      <th id=\"T_27f13_level0_row12\" class=\"row_heading level0 row12\" >12</th>\n",
       "      <td id=\"T_27f13_row12_col0\" class=\"data row12 col0\" >fbfwd90_60.1</td>\n",
       "    </tr>\n",
       "    <tr>\n",
       "      <th id=\"T_27f13_level0_row13\" class=\"row_heading level0 row13\" >13</th>\n",
       "      <td id=\"T_27f13_row13_col0\" class=\"data row13 col0\" >iv10d</td>\n",
       "    </tr>\n",
       "    <tr>\n",
       "      <th id=\"T_27f13_level0_row14\" class=\"row_heading level0 row14\" >14</th>\n",
       "      <td id=\"T_27f13_row14_col0\" class=\"data row14 col0\" >fbfwd60_30.1</td>\n",
       "    </tr>\n",
       "    <tr>\n",
       "      <th id=\"T_27f13_level0_row15\" class=\"row_heading level0 row15\" >15</th>\n",
       "      <td id=\"T_27f13_row15_col0\" class=\"data row15 col0\" >fbfexErn180_90</td>\n",
       "    </tr>\n",
       "    <tr>\n",
       "      <th id=\"T_27f13_level0_row16\" class=\"row_heading level0 row16\" >16</th>\n",
       "      <td id=\"T_27f13_row16_col0\" class=\"data row16 col0\" >fbfwd180_90</td>\n",
       "    </tr>\n",
       "    <tr>\n",
       "      <th id=\"T_27f13_level0_row17\" class=\"row_heading level0 row17\" >17</th>\n",
       "      <td id=\"T_27f13_row17_col0\" class=\"data row17 col0\" >ivSpyRatio</td>\n",
       "    </tr>\n",
       "    <tr>\n",
       "      <th id=\"T_27f13_level0_row18\" class=\"row_heading level0 row18\" >18</th>\n",
       "      <td id=\"T_27f13_row18_col0\" class=\"data row18 col0\" >iv20d</td>\n",
       "    </tr>\n",
       "    <tr>\n",
       "      <th id=\"T_27f13_level0_row19\" class=\"row_heading level0 row19\" >19</th>\n",
       "      <td id=\"T_27f13_row19_col0\" class=\"data row19 col0\" >fbfexErn90_60.1</td>\n",
       "    </tr>\n",
       "    <tr>\n",
       "      <th id=\"T_27f13_level0_row20\" class=\"row_heading level0 row20\" >20</th>\n",
       "      <td id=\"T_27f13_row20_col0\" class=\"data row20 col0\" >fbfexErn30_20</td>\n",
       "    </tr>\n",
       "    <tr>\n",
       "      <th id=\"T_27f13_level0_row21\" class=\"row_heading level0 row21\" >21</th>\n",
       "      <td id=\"T_27f13_row21_col0\" class=\"data row21 col0\" >fbfwd30_20</td>\n",
       "    </tr>\n",
       "    <tr>\n",
       "      <th id=\"T_27f13_level0_row22\" class=\"row_heading level0 row22\" >22</th>\n",
       "      <td id=\"T_27f13_row22_col0\" class=\"data row22 col0\" >deriv</td>\n",
       "    </tr>\n",
       "    <tr>\n",
       "      <th id=\"T_27f13_level0_row23\" class=\"row_heading level0 row23\" >23</th>\n",
       "      <td id=\"T_27f13_row23_col0\" class=\"data row23 col0\" >clsHv5d</td>\n",
       "    </tr>\n",
       "    <tr>\n",
       "      <th id=\"T_27f13_level0_row24\" class=\"row_heading level0 row24\" >24</th>\n",
       "      <td id=\"T_27f13_row24_col0\" class=\"data row24 col0\" >fbfexErn60_30</td>\n",
       "    </tr>\n",
       "    <tr>\n",
       "      <th id=\"T_27f13_level0_row25\" class=\"row_heading level0 row25\" >25</th>\n",
       "      <td id=\"T_27f13_row25_col0\" class=\"data row25 col0\" >fbfwd60_30</td>\n",
       "    </tr>\n",
       "    <tr>\n",
       "      <th id=\"T_27f13_level0_row26\" class=\"row_heading level0 row26\" >26</th>\n",
       "      <td id=\"T_27f13_row26_col0\" class=\"data row26 col0\" >iv10d.1</td>\n",
       "    </tr>\n",
       "    <tr>\n",
       "      <th id=\"T_27f13_level0_row27\" class=\"row_heading level0 row27\" >27</th>\n",
       "      <td id=\"T_27f13_row27_col0\" class=\"data row27 col0\" >orHv1d.1</td>\n",
       "    </tr>\n",
       "    <tr>\n",
       "      <th id=\"T_27f13_level0_row28\" class=\"row_heading level0 row28\" >28</th>\n",
       "      <td id=\"T_27f13_row28_col0\" class=\"data row28 col0\" >orHv20d</td>\n",
       "    </tr>\n",
       "    <tr>\n",
       "      <th id=\"T_27f13_level0_row29\" class=\"row_heading level0 row29\" >29</th>\n",
       "      <td id=\"T_27f13_row29_col0\" class=\"data row29 col0\" >derivFcstInf</td>\n",
       "    </tr>\n",
       "    <tr>\n",
       "      <th id=\"T_27f13_level0_row30\" class=\"row_heading level0 row30\" >30</th>\n",
       "      <td id=\"T_27f13_row30_col0\" class=\"data row30 col0\" >orHv5d</td>\n",
       "    </tr>\n",
       "    <tr>\n",
       "      <th id=\"T_27f13_level0_row31\" class=\"row_heading level0 row31\" >31</th>\n",
       "      <td id=\"T_27f13_row31_col0\" class=\"data row31 col0\" >iv30d</td>\n",
       "    </tr>\n",
       "    <tr>\n",
       "      <th id=\"T_27f13_level0_row32\" class=\"row_heading level0 row32\" >32</th>\n",
       "      <td id=\"T_27f13_row32_col0\" class=\"data row32 col0\" >ivPctileSpy</td>\n",
       "    </tr>\n",
       "  </tbody>\n",
       "</table>\n"
      ]
     },
     "metadata": {},
     "execution_count": 7
    }
   ]
  },
  {
   "cell_type": "code",
   "source": [
    "filtered_dataset = dataset[data_correlation_with_target_n.tolist() + ['tradeDate', 'StockPriceIn10days']]\n",
    "\n",
    "# Split the filtered dataset into training and testing datasets...\n",
    "train_filtered = filtered_dataset[filtered_dataset['tradeDate'].dt.year == 2021]\n",
    "# train_filtered = filtered_dataset[(filtered_dataset['tradeDate'].dt.year >= 2018) & (filtered_dataset['tradeDate'].dt.year <= 2021)]\n",
    "test_filtered = filtered_dataset[filtered_dataset['tradeDate'].dt.year == 2022]"
   ],
   "metadata": {
    "id": "syc7Cevdt1i3",
    "pycharm": {
     "name": "#%%\n"
    }
   },
   "execution_count": null,
   "outputs": []
  },
  {
   "cell_type": "code",
   "source": [
    "target_column = 'StockPriceIn10days'\n",
    "\n",
    "# Prepare data for plotting...\n",
    "train_plot = train_filtered[['tradeDate', 'StockPriceIn10days']].set_index('tradeDate')\n",
    "test_plot = test_filtered[['tradeDate', 'StockPriceIn10days']].set_index('tradeDate')\n",
    "\n",
    "trade_Date = test_filtered['tradeDate']\n",
    "\n",
    "plt.figure(figsize=(10,6))\n",
    "plt.grid(True)\n",
    "plt.xlabel('Dates')\n",
    "plt.ylabel('Stock Prices in 10 Days')\n",
    "plt.plot(train_plot, 'b', label='Train data')\n",
    "plt.plot(test_plot, 'g', label='Test data')\n",
    "plt.legend()\n",
    "plt.show()"
   ],
   "metadata": {
    "colab": {
     "base_uri": "https://localhost:8080/",
     "height": 536
    },
    "id": "h9vpT_DmpgjS",
    "outputId": "be9049fa-c065-4463-e7e6-d44096f7b75b",
    "pycharm": {
     "name": "#%%\n"
    }
   },
   "execution_count": null,
   "outputs": [
    {
     "output_type": "display_data",
     "data": {
      "text/plain": [
       "<Figure size 1000x600 with 1 Axes>"
      ],
      "image/png": "[encoded data removed]"
     },
     "metadata": {}
    }
   ]
  },
  {
   "cell_type": "code",
   "source": [
    "train_filtered = train_filtered.drop(['tradeDate'], axis=1)\n",
    "train_filtered = train_filtered.apply(pd.to_numeric, errors='ignore')\n",
    "\n",
    "\n",
    "test_filtered = test_filtered.drop(['tradeDate'], axis=1)\n",
    "test_filtered = test_filtered.apply(pd.to_numeric, errors='ignore')\n",
    "\n",
    "\n",
    "# Now split these into features and target\n",
    "X_train = train_filtered.drop('StockPriceIn10days', axis=1)\n",
    "y_train = train_filtered['StockPriceIn10days']\n",
    "X_test = test_filtered.drop('StockPriceIn10days', axis=1)\n",
    "y_test = test_filtered['StockPriceIn10days']"
   ],
   "metadata": {
    "id": "16RmKnzXw60q",
    "pycharm": {
     "name": "#%%\n"
    }
   },
   "execution_count": null,
   "outputs": []
  },
  {
   "cell_type": "code",
   "source": [
    "# Normalizing the feature data...\n",
    "scaler = MinMaxScaler(feature_range=(-1, 1))\n",
    "X_train_scaled = scaler.fit_transform(X_train)\n",
    "X_test_scaled = scaler.transform(X_test)\n",
    "\n",
    "# Reshape the input to be [samples, time steps, features]...\n",
    "X_train_reshaped = np.reshape(X_train_scaled, (X_train_scaled.shape[0], 1, X_train_scaled.shape[1]))\n",
    "X_test_reshaped = np.reshape(X_test_scaled, (X_test_scaled.shape[0], 1, X_test_scaled.shape[1]))"
   ],
   "metadata": {
    "id": "HUeiJ3P_5Vbd",
    "pycharm": {
     "name": "#%%\n"
    }
   },
   "execution_count": null,
   "outputs": []
  },
  {
   "cell_type": "code",
   "source": [
    "# LSTM model architecture...\n",
    "model = Sequential()\n",
    "\n",
    "model.add(LSTM(units=128, return_sequences=True, input_shape=(X_train_reshaped.shape[1], X_train_reshaped.shape[2])))\n",
    "model.add(Dropout(0.2))\n",
    "model.add(LSTM(units=128, return_sequences=True))\n",
    "model.add(Dropout(0.2))\n",
    "model.add(LSTM(units=100, return_sequences=False))\n",
    "model.add(Dropout(0.2))\n",
    "\n",
    "model.add(Dense(units=50))  # Adding more Dense layers...\n",
    "model.add(Dense(units=25))\n",
    "model.add(Dense(units=1))  # Output layer...\n",
    "\n",
    "model.compile(optimizer='adam', loss='mean_squared_error')  # Compile the model...\n",
    "\n",
    "# Early stopping callback\n",
    "early_stop = EarlyStopping(monitor='val_loss', patience=5)"
   ],
   "metadata": {
    "id": "-25n5NotT4xZ",
    "pycharm": {
     "name": "#%%\n"
    }
   },
   "execution_count": null,
   "outputs": []
  },
  {
   "cell_type": "code",
   "source": [
    "# Training the model...\n",
    "model.fit(X_train_reshaped, y_train, batch_size=32, epochs=50, shuffle=False, callbacks=[early_stop])  # Set epochs as needed\n",
    "\n",
    "# Predicting and Evaluating...\n",
    "y_pred = model.predict(X_test_reshaped)"
   ],
   "metadata": {
    "colab": {
     "base_uri": "https://localhost:8080/"
    },
    "id": "cpID-JaP5VYB",
    "outputId": "a2d046ef-ddf1-4225-e7a7-f016b363c6c9",
    "pycharm": {
     "name": "#%%\n"
    }
   },
   "execution_count": null,
   "outputs": [
    {
     "output_type": "stream",
     "name": "stdout",
     "text": [
      "Epoch 1/50\n",
      "6/8 [=====================>........] - ETA: 0s - loss: 3.7249e-04 "
     ]
    },
    {
     "output_type": "stream",
     "name": "stderr",
     "text": [
      "WARNING:tensorflow:Early stopping conditioned on metric `val_loss` which is not available. Available metrics are: loss\n"
     ]
    },
    {
     "output_type": "stream",
     "name": "stdout",
     "text": [
      "\b\b\b\b\b\b\b\b\b\b\b\b\b\b\b\b\b\b\b\b\b\b\b\b\b\b\b\b\b\b\b\b\b\b\b\b\b\b\b\b\b\b\b\b\b\b\b\b\b\b\b\b\b\b\b\b\b\b\b\b\b\b\b\b\b\r8/8 [==============================] - 7s 12ms/step - loss: 3.5595e-04\n",
      "Epoch 2/50\n",
      "6/8 [=====================>........] - ETA: 0s - loss: 2.8850e-04"
     ]
    },
    {
     "output_type": "stream",
     "name": "stderr",
     "text": [
      "WARNING:tensorflow:Early stopping conditioned on metric `val_loss` which is not available. Available metrics are: loss\n"
     ]
    },
    {
     "output_type": "stream",
     "name": "stdout",
     "text": [
      "\b\b\b\b\b\b\b\b\b\b\b\b\b\b\b\b\b\b\b\b\b\b\b\b\b\b\b\b\b\b\b\b\b\b\b\b\b\b\b\b\b\b\b\b\b\b\b\b\b\b\b\b\b\b\b\b\b\b\b\b\b\b\b\b\b\r8/8 [==============================] - 0s 12ms/step - loss: 2.7841e-04\n",
      "Epoch 3/50\n",
      "6/8 [=====================>........] - ETA: 0s - loss: 3.4738e-04"
     ]
    },
    {
     "output_type": "stream",
     "name": "stderr",
     "text": [
      "WARNING:tensorflow:Early stopping conditioned on metric `val_loss` which is not available. Available metrics are: loss\n"
     ]
    },
    {
     "output_type": "stream",
     "name": "stdout",
     "text": [
      "\b\b\b\b\b\b\b\b\b\b\b\b\b\b\b\b\b\b\b\b\b\b\b\b\b\b\b\b\b\b\b\b\b\b\b\b\b\b\b\b\b\b\b\b\b\b\b\b\b\b\b\b\b\b\b\b\b\b\b\b\b\b\b\b\b\r8/8 [==============================] - 0s 11ms/step - loss: 3.2991e-04\n",
      "Epoch 4/50\n",
      "6/8 [=====================>........] - ETA: 0s - loss: 2.7508e-04"
     ]
    },
    {
     "output_type": "stream",
     "name": "stderr",
     "text": [
      "WARNING:tensorflow:Early stopping conditioned on metric `val_loss` which is not available. Available metrics are: loss\n"
     ]
    },
    {
     "output_type": "stream",
     "name": "stdout",
     "text": [
      "\b\b\b\b\b\b\b\b\b\b\b\b\b\b\b\b\b\b\b\b\b\b\b\b\b\b\b\b\b\b\b\b\b\b\b\b\b\b\b\b\b\b\b\b\b\b\b\b\b\b\b\b\b\b\b\b\b\b\b\b\b\b\b\b\b\r8/8 [==============================] - 0s 11ms/step - loss: 2.7112e-04\n",
      "Epoch 5/50\n",
      "6/8 [=====================>........] - ETA: 0s - loss: 2.6192e-04"
     ]
    },
    {
     "output_type": "stream",
     "name": "stderr",
     "text": [
      "WARNING:tensorflow:Early stopping conditioned on metric `val_loss` which is not available. Available metrics are: loss\n"
     ]
    },
    {
     "output_type": "stream",
     "name": "stdout",
     "text": [
      "\b\b\b\b\b\b\b\b\b\b\b\b\b\b\b\b\b\b\b\b\b\b\b\b\b\b\b\b\b\b\b\b\b\b\b\b\b\b\b\b\b\b\b\b\b\b\b\b\b\b\b\b\b\b\b\b\b\b\b\b\b\b\b\b\b\r8/8 [==============================] - 0s 12ms/step - loss: 2.5057e-04\n",
      "Epoch 6/50\n",
      "6/8 [=====================>........] - ETA: 0s - loss: 2.7564e-04"
     ]
    },
    {
     "output_type": "stream",
     "name": "stderr",
     "text": [
      "WARNING:tensorflow:Early stopping conditioned on metric `val_loss` which is not available. Available metrics are: loss\n"
     ]
    },
    {
     "output_type": "stream",
     "name": "stdout",
     "text": [
      "\b\b\b\b\b\b\b\b\b\b\b\b\b\b\b\b\b\b\b\b\b\b\b\b\b\b\b\b\b\b\b\b\b\b\b\b\b\b\b\b\b\b\b\b\b\b\b\b\b\b\b\b\b\b\b\b\b\b\b\b\b\b\b\b\b\r8/8 [==============================] - 0s 12ms/step - loss: 2.6024e-04\n",
      "Epoch 7/50\n",
      "6/8 [=====================>........] - ETA: 0s - loss: 2.3623e-04"
     ]
    },
    {
     "output_type": "stream",
     "name": "stderr",
     "text": [
      "WARNING:tensorflow:Early stopping conditioned on metric `val_loss` which is not available. Available metrics are: loss\n"
     ]
    },
    {
     "output_type": "stream",
     "name": "stdout",
     "text": [
      "\b\b\b\b\b\b\b\b\b\b\b\b\b\b\b\b\b\b\b\b\b\b\b\b\b\b\b\b\b\b\b\b\b\b\b\b\b\b\b\b\b\b\b\b\b\b\b\b\b\b\b\b\b\b\b\b\b\b\b\b\b\b\b\b\b\r8/8 [==============================] - 0s 12ms/step - loss: 2.3363e-04\n",
      "Epoch 8/50\n",
      "6/8 [=====================>........] - ETA: 0s - loss: 2.3381e-04"
     ]
    },
    {
     "output_type": "stream",
     "name": "stderr",
     "text": [
      "WARNING:tensorflow:Early stopping conditioned on metric `val_loss` which is not available. Available metrics are: loss\n"
     ]
    },
    {
     "output_type": "stream",
     "name": "stdout",
     "text": [
      "\b\b\b\b\b\b\b\b\b\b\b\b\b\b\b\b\b\b\b\b\b\b\b\b\b\b\b\b\b\b\b\b\b\b\b\b\b\b\b\b\b\b\b\b\b\b\b\b\b\b\b\b\b\b\b\b\b\b\b\b\b\b\b\b\b\r8/8 [==============================] - 0s 11ms/step - loss: 2.2817e-04\n",
      "Epoch 9/50\n",
      "6/8 [=====================>........] - ETA: 0s - loss: 2.3957e-04"
     ]
    },
    {
     "output_type": "stream",
     "name": "stderr",
     "text": [
      "WARNING:tensorflow:Early stopping conditioned on metric `val_loss` which is not available. Available metrics are: loss\n"
     ]
    },
    {
     "output_type": "stream",
     "name": "stdout",
     "text": [
      "\b\b\b\b\b\b\b\b\b\b\b\b\b\b\b\b\b\b\b\b\b\b\b\b\b\b\b\b\b\b\b\b\b\b\b\b\b\b\b\b\b\b\b\b\b\b\b\b\b\b\b\b\b\b\b\b\b\b\b\b\b\b\b\b\b\r8/8 [==============================] - 0s 11ms/step - loss: 2.3068e-04\n",
      "Epoch 10/50\n",
      "6/8 [=====================>........] - ETA: 0s - loss: 2.2472e-04"
     ]
    },
    {
     "output_type": "stream",
     "name": "stderr",
     "text": [
      "WARNING:tensorflow:Early stopping conditioned on metric `val_loss` which is not available. Available metrics are: loss\n"
     ]
    },
    {
     "output_type": "stream",
     "name": "stdout",
     "text": [
      "\b\b\b\b\b\b\b\b\b\b\b\b\b\b\b\b\b\b\b\b\b\b\b\b\b\b\b\b\b\b\b\b\b\b\b\b\b\b\b\b\b\b\b\b\b\b\b\b\b\b\b\b\b\b\b\b\b\b\b\b\b\b\b\b\b\r8/8 [==============================] - 0s 12ms/step - loss: 2.1600e-04\n",
      "Epoch 11/50\n",
      "6/8 [=====================>........] - ETA: 0s - loss: 2.2514e-04"
     ]
    },
    {
     "output_type": "stream",
     "name": "stderr",
     "text": [
      "WARNING:tensorflow:Early stopping conditioned on metric `val_loss` which is not available. Available metrics are: loss\n"
     ]
    },
    {
     "output_type": "stream",
     "name": "stdout",
     "text": [
      "\b\b\b\b\b\b\b\b\b\b\b\b\b\b\b\b\b\b\b\b\b\b\b\b\b\b\b\b\b\b\b\b\b\b\b\b\b\b\b\b\b\b\b\b\b\b\b\b\b\b\b\b\b\b\b\b\b\b\b\b\b\b\b\b\b\r8/8 [==============================] - 0s 12ms/step - loss: 2.2183e-04\n",
      "Epoch 12/50\n",
      "6/8 [=====================>........] - ETA: 0s - loss: 2.2168e-04"
     ]
    },
    {
     "output_type": "stream",
     "name": "stderr",
     "text": [
      "WARNING:tensorflow:Early stopping conditioned on metric `val_loss` which is not available. Available metrics are: loss\n"
     ]
    },
    {
     "output_type": "stream",
     "name": "stdout",
     "text": [
      "\b\b\b\b\b\b\b\b\b\b\b\b\b\b\b\b\b\b\b\b\b\b\b\b\b\b\b\b\b\b\b\b\b\b\b\b\b\b\b\b\b\b\b\b\b\b\b\b\b\b\b\b\b\b\b\b\b\b\b\b\b\b\b\b\b\r8/8 [==============================] - 0s 12ms/step - loss: 2.1344e-04\n",
      "Epoch 13/50\n",
      "6/8 [=====================>........] - ETA: 0s - loss: 2.2601e-04"
     ]
    },
    {
     "output_type": "stream",
     "name": "stderr",
     "text": [
      "WARNING:tensorflow:Early stopping conditioned on metric `val_loss` which is not available. Available metrics are: loss\n"
     ]
    },
    {
     "output_type": "stream",
     "name": "stdout",
     "text": [
      "\b\b\b\b\b\b\b\b\b\b\b\b\b\b\b\b\b\b\b\b\b\b\b\b\b\b\b\b\b\b\b\b\b\b\b\b\b\b\b\b\b\b\b\b\b\b\b\b\b\b\b\b\b\b\b\b\b\b\b\b\b\b\b\b\b\r8/8 [==============================] - 0s 11ms/step - loss: 2.1873e-04\n",
      "Epoch 14/50\n",
      "6/8 [=====================>........] - ETA: 0s - loss: 2.1095e-04"
     ]
    },
    {
     "output_type": "stream",
     "name": "stderr",
     "text": [
      "WARNING:tensorflow:Early stopping conditioned on metric `val_loss` which is not available. Available metrics are: loss\n"
     ]
    },
    {
     "output_type": "stream",
     "name": "stdout",
     "text": [
      "\b\b\b\b\b\b\b\b\b\b\b\b\b\b\b\b\b\b\b\b\b\b\b\b\b\b\b\b\b\b\b\b\b\b\b\b\b\b\b\b\b\b\b\b\b\b\b\b\b\b\b\b\b\b\b\b\b\b\b\b\b\b\b\b\b\r8/8 [==============================] - 0s 12ms/step - loss: 2.1214e-04\n",
      "Epoch 15/50\n",
      "6/8 [=====================>........] - ETA: 0s - loss: 2.1536e-04"
     ]
    },
    {
     "output_type": "stream",
     "name": "stderr",
     "text": [
      "WARNING:tensorflow:Early stopping conditioned on metric `val_loss` which is not available. Available metrics are: loss\n"
     ]
    },
    {
     "output_type": "stream",
     "name": "stdout",
     "text": [
      "\b\b\b\b\b\b\b\b\b\b\b\b\b\b\b\b\b\b\b\b\b\b\b\b\b\b\b\b\b\b\b\b\b\b\b\b\b\b\b\b\b\b\b\b\b\b\b\b\b\b\b\b\b\b\b\b\b\b\b\b\b\b\b\b\b\r8/8 [==============================] - 0s 14ms/step - loss: 2.0606e-04\n",
      "Epoch 16/50\n",
      "6/8 [=====================>........] - ETA: 0s - loss: 2.2051e-04"
     ]
    },
    {
     "output_type": "stream",
     "name": "stderr",
     "text": [
      "WARNING:tensorflow:Early stopping conditioned on metric `val_loss` which is not available. Available metrics are: loss\n"
     ]
    },
    {
     "output_type": "stream",
     "name": "stdout",
     "text": [
      "\b\b\b\b\b\b\b\b\b\b\b\b\b\b\b\b\b\b\b\b\b\b\b\b\b\b\b\b\b\b\b\b\b\b\b\b\b\b\b\b\b\b\b\b\b\b\b\b\b\b\b\b\b\b\b\b\b\b\b\b\b\b\b\b\b\r8/8 [==============================] - 0s 12ms/step - loss: 2.1133e-04\n",
      "Epoch 17/50\n",
      "6/8 [=====================>........] - ETA: 0s - loss: 2.1234e-04"
     ]
    },
    {
     "output_type": "stream",
     "name": "stderr",
     "text": [
      "WARNING:tensorflow:Early stopping conditioned on metric `val_loss` which is not available. Available metrics are: loss\n"
     ]
    },
    {
     "output_type": "stream",
     "name": "stdout",
     "text": [
      "\b\b\b\b\b\b\b\b\b\b\b\b\b\b\b\b\b\b\b\b\b\b\b\b\b\b\b\b\b\b\b\b\b\b\b\b\b\b\b\b\b\b\b\b\b\b\b\b\b\b\b\b\b\b\b\b\b\b\b\b\b\b\b\b\b\r8/8 [==============================] - 0s 12ms/step - loss: 2.0716e-04\n",
      "Epoch 18/50\n",
      "6/8 [=====================>........] - ETA: 0s - loss: 2.1067e-04"
     ]
    },
    {
     "output_type": "stream",
     "name": "stderr",
     "text": [
      "WARNING:tensorflow:Early stopping conditioned on metric `val_loss` which is not available. Available metrics are: loss\n"
     ]
    },
    {
     "output_type": "stream",
     "name": "stdout",
     "text": [
      "\b\b\b\b\b\b\b\b\b\b\b\b\b\b\b\b\b\b\b\b\b\b\b\b\b\b\b\b\b\b\b\b\b\b\b\b\b\b\b\b\b\b\b\b\b\b\b\b\b\b\b\b\b\b\b\b\b\b\b\b\b\b\b\b\b\r8/8 [==============================] - 0s 12ms/step - loss: 2.0328e-04\n",
      "Epoch 19/50\n",
      "6/8 [=====================>........] - ETA: 0s - loss: 2.0372e-04"
     ]
    },
    {
     "output_type": "stream",
     "name": "stderr",
     "text": [
      "WARNING:tensorflow:Early stopping conditioned on metric `val_loss` which is not available. Available metrics are: loss\n"
     ]
    },
    {
     "output_type": "stream",
     "name": "stdout",
     "text": [
      "\b\b\b\b\b\b\b\b\b\b\b\b\b\b\b\b\b\b\b\b\b\b\b\b\b\b\b\b\b\b\b\b\b\b\b\b\b\b\b\b\b\b\b\b\b\b\b\b\b\b\b\b\b\b\b\b\b\b\b\b\b\b\b\b\b\r8/8 [==============================] - 0s 12ms/step - loss: 1.9628e-04\n",
      "Epoch 20/50\n",
      "6/8 [=====================>........] - ETA: 0s - loss: 2.2306e-04"
     ]
    },
    {
     "output_type": "stream",
     "name": "stderr",
     "text": [
      "WARNING:tensorflow:Early stopping conditioned on metric `val_loss` which is not available. Available metrics are: loss\n"
     ]
    },
    {
     "output_type": "stream",
     "name": "stdout",
     "text": [
      "\b\b\b\b\b\b\b\b\b\b\b\b\b\b\b\b\b\b\b\b\b\b\b\b\b\b\b\b\b\b\b\b\b\b\b\b\b\b\b\b\b\b\b\b\b\b\b\b\b\b\b\b\b\b\b\b\b\b\b\b\b\b\b\b\b\r8/8 [==============================] - 0s 12ms/step - loss: 2.1570e-04\n",
      "Epoch 21/50\n",
      "6/8 [=====================>........] - ETA: 0s - loss: 2.1944e-04"
     ]
    },
    {
     "output_type": "stream",
     "name": "stderr",
     "text": [
      "WARNING:tensorflow:Early stopping conditioned on metric `val_loss` which is not available. Available metrics are: loss\n"
     ]
    },
    {
     "output_type": "stream",
     "name": "stdout",
     "text": [
      "\b\b\b\b\b\b\b\b\b\b\b\b\b\b\b\b\b\b\b\b\b\b\b\b\b\b\b\b\b\b\b\b\b\b\b\b\b\b\b\b\b\b\b\b\b\b\b\b\b\b\b\b\b\b\b\b\b\b\b\b\b\b\b\b\b\r8/8 [==============================] - 0s 11ms/step - loss: 2.1089e-04\n",
      "Epoch 22/50\n",
      "6/8 [=====================>........] - ETA: 0s - loss: 2.0862e-04"
     ]
    },
    {
     "output_type": "stream",
     "name": "stderr",
     "text": [
      "WARNING:tensorflow:Early stopping conditioned on metric `val_loss` which is not available. Available metrics are: loss\n"
     ]
    },
    {
     "output_type": "stream",
     "name": "stdout",
     "text": [
      "\b\b\b\b\b\b\b\b\b\b\b\b\b\b\b\b\b\b\b\b\b\b\b\b\b\b\b\b\b\b\b\b\b\b\b\b\b\b\b\b\b\b\b\b\b\b\b\b\b\b\b\b\b\b\b\b\b\b\b\b\b\b\b\b\b\r8/8 [==============================] - 0s 11ms/step - loss: 2.0250e-04\n",
      "Epoch 23/50\n",
      "6/8 [=====================>........] - ETA: 0s - loss: 1.8320e-04"
     ]
    },
    {
     "output_type": "stream",
     "name": "stderr",
     "text": [
      "WARNING:tensorflow:Early stopping conditioned on metric `val_loss` which is not available. Available metrics are: loss\n"
     ]
    },
    {
     "output_type": "stream",
     "name": "stdout",
     "text": [
      "\b\b\b\b\b\b\b\b\b\b\b\b\b\b\b\b\b\b\b\b\b\b\b\b\b\b\b\b\b\b\b\b\b\b\b\b\b\b\b\b\b\b\b\b\b\b\b\b\b\b\b\b\b\b\b\b\b\b\b\b\b\b\b\b\b\r8/8 [==============================] - 0s 12ms/step - loss: 1.8333e-04\n",
      "Epoch 24/50\n",
      "6/8 [=====================>........] - ETA: 0s - loss: 2.2492e-04"
     ]
    },
    {
     "output_type": "stream",
     "name": "stderr",
     "text": [
      "WARNING:tensorflow:Early stopping conditioned on metric `val_loss` which is not available. Available metrics are: loss\n"
     ]
    },
    {
     "output_type": "stream",
     "name": "stdout",
     "text": [
      "\b\b\b\b\b\b\b\b\b\b\b\b\b\b\b\b\b\b\b\b\b\b\b\b\b\b\b\b\b\b\b\b\b\b\b\b\b\b\b\b\b\b\b\b\b\b\b\b\b\b\b\b\b\b\b\b\b\b\b\b\b\b\b\b\b\r8/8 [==============================] - 0s 12ms/step - loss: 2.0897e-04\n",
      "Epoch 25/50\n",
      "6/8 [=====================>........] - ETA: 0s - loss: 2.1500e-04"
     ]
    },
    {
     "output_type": "stream",
     "name": "stderr",
     "text": [
      "WARNING:tensorflow:Early stopping conditioned on metric `val_loss` which is not available. Available metrics are: loss\n"
     ]
    },
    {
     "output_type": "stream",
     "name": "stdout",
     "text": [
      "\b\b\b\b\b\b\b\b\b\b\b\b\b\b\b\b\b\b\b\b\b\b\b\b\b\b\b\b\b\b\b\b\b\b\b\b\b\b\b\b\b\b\b\b\b\b\b\b\b\b\b\b\b\b\b\b\b\b\b\b\b\b\b\b\b\r8/8 [==============================] - 0s 12ms/step - loss: 2.0316e-04\n",
      "Epoch 26/50\n",
      "5/8 [=================>............] - ETA: 0s - loss: 1.7864e-04"
     ]
    },
    {
     "output_type": "stream",
     "name": "stderr",
     "text": [
      "WARNING:tensorflow:Early stopping conditioned on metric `val_loss` which is not available. Available metrics are: loss\n"
     ]
    },
    {
     "output_type": "stream",
     "name": "stdout",
     "text": [
      "\b\b\b\b\b\b\b\b\b\b\b\b\b\b\b\b\b\b\b\b\b\b\b\b\b\b\b\b\b\b\b\b\b\b\b\b\b\b\b\b\b\b\b\b\b\b\b\b\b\b\b\b\b\b\b\b\b\b\b\b\b\b\b\b\b\r8/8 [==============================] - 0s 12ms/step - loss: 1.8746e-04\n",
      "Epoch 27/50\n",
      "5/8 [=================>............] - ETA: 0s - loss: 1.7866e-04"
     ]
    },
    {
     "output_type": "stream",
     "name": "stderr",
     "text": [
      "WARNING:tensorflow:Early stopping conditioned on metric `val_loss` which is not available. Available metrics are: loss\n"
     ]
    },
    {
     "output_type": "stream",
     "name": "stdout",
     "text": [
      "\b\b\b\b\b\b\b\b\b\b\b\b\b\b\b\b\b\b\b\b\b\b\b\b\b\b\b\b\b\b\b\b\b\b\b\b\b\b\b\b\b\b\b\b\b\b\b\b\b\b\b\b\b\b\b\b\b\b\b\b\b\b\b\b\b\r8/8 [==============================] - 0s 12ms/step - loss: 1.9813e-04\n",
      "Epoch 28/50\n",
      "6/8 [=====================>........] - ETA: 0s - loss: 2.0092e-04"
     ]
    },
    {
     "output_type": "stream",
     "name": "stderr",
     "text": [
      "WARNING:tensorflow:Early stopping conditioned on metric `val_loss` which is not available. Available metrics are: loss\n"
     ]
    },
    {
     "output_type": "stream",
     "name": "stdout",
     "text": [
      "\b\b\b\b\b\b\b\b\b\b\b\b\b\b\b\b\b\b\b\b\b\b\b\b\b\b\b\b\b\b\b\b\b\b\b\b\b\b\b\b\b\b\b\b\b\b\b\b\b\b\b\b\b\b\b\b\b\b\b\b\b\b\b\b\b\r8/8 [==============================] - 0s 11ms/step - loss: 1.9097e-04\n",
      "Epoch 29/50\n",
      "6/8 [=====================>........] - ETA: 0s - loss: 1.8547e-04"
     ]
    },
    {
     "output_type": "stream",
     "name": "stderr",
     "text": [
      "WARNING:tensorflow:Early stopping conditioned on metric `val_loss` which is not available. Available metrics are: loss\n"
     ]
    },
    {
     "output_type": "stream",
     "name": "stdout",
     "text": [
      "\b\b\b\b\b\b\b\b\b\b\b\b\b\b\b\b\b\b\b\b\b\b\b\b\b\b\b\b\b\b\b\b\b\b\b\b\b\b\b\b\b\b\b\b\b\b\b\b\b\b\b\b\b\b\b\b\b\b\b\b\b\b\b\b\b\r8/8 [==============================] - 0s 12ms/step - loss: 1.7965e-04\n",
      "Epoch 30/50\n",
      "6/8 [=====================>........] - ETA: 0s - loss: 1.8954e-04"
     ]
    },
    {
     "output_type": "stream",
     "name": "stderr",
     "text": [
      "WARNING:tensorflow:Early stopping conditioned on metric `val_loss` which is not available. Available metrics are: loss\n"
     ]
    },
    {
     "output_type": "stream",
     "name": "stdout",
     "text": [
      "\b\b\b\b\b\b\b\b\b\b\b\b\b\b\b\b\b\b\b\b\b\b\b\b\b\b\b\b\b\b\b\b\b\b\b\b\b\b\b\b\b\b\b\b\b\b\b\b\b\b\b\b\b\b\b\b\b\b\b\b\b\b\b\b\b\r8/8 [==============================] - 0s 12ms/step - loss: 1.8063e-04\n",
      "Epoch 31/50\n",
      "6/8 [=====================>........] - ETA: 0s - loss: 1.8408e-04"
     ]
    },
    {
     "output_type": "stream",
     "name": "stderr",
     "text": [
      "WARNING:tensorflow:Early stopping conditioned on metric `val_loss` which is not available. Available metrics are: loss\n"
     ]
    },
    {
     "output_type": "stream",
     "name": "stdout",
     "text": [
      "\b\b\b\b\b\b\b\b\b\b\b\b\b\b\b\b\b\b\b\b\b\b\b\b\b\b\b\b\b\b\b\b\b\b\b\b\b\b\b\b\b\b\b\b\b\b\b\b\b\b\b\b\b\b\b\b\b\b\b\b\b\b\b\b\b\r8/8 [==============================] - 0s 12ms/step - loss: 1.7831e-04\n",
      "Epoch 32/50\n",
      "6/8 [=====================>........] - ETA: 0s - loss: 1.8129e-04"
     ]
    },
    {
     "output_type": "stream",
     "name": "stderr",
     "text": [
      "WARNING:tensorflow:Early stopping conditioned on metric `val_loss` which is not available. Available metrics are: loss\n"
     ]
    },
    {
     "output_type": "stream",
     "name": "stdout",
     "text": [
      "\b\b\b\b\b\b\b\b\b\b\b\b\b\b\b\b\b\b\b\b\b\b\b\b\b\b\b\b\b\b\b\b\b\b\b\b\b\b\b\b\b\b\b\b\b\b\b\b\b\b\b\b\b\b\b\b\b\b\b\b\b\b\b\b\b\r8/8 [==============================] - 0s 12ms/step - loss: 1.6978e-04\n",
      "Epoch 33/50\n",
      "6/8 [=====================>........] - ETA: 0s - loss: 2.1570e-04"
     ]
    },
    {
     "output_type": "stream",
     "name": "stderr",
     "text": [
      "WARNING:tensorflow:Early stopping conditioned on metric `val_loss` which is not available. Available metrics are: loss\n"
     ]
    },
    {
     "output_type": "stream",
     "name": "stdout",
     "text": [
      "\b\b\b\b\b\b\b\b\b\b\b\b\b\b\b\b\b\b\b\b\b\b\b\b\b\b\b\b\b\b\b\b\b\b\b\b\b\b\b\b\b\b\b\b\b\b\b\b\b\b\b\b\b\b\b\b\b\b\b\b\b\b\b\b\b\r8/8 [==============================] - 0s 12ms/step - loss: 1.9937e-04\n",
      "Epoch 34/50\n",
      "6/8 [=====================>........] - ETA: 0s - loss: 1.9399e-04"
     ]
    },
    {
     "output_type": "stream",
     "name": "stderr",
     "text": [
      "WARNING:tensorflow:Early stopping conditioned on metric `val_loss` which is not available. Available metrics are: loss\n"
     ]
    },
    {
     "output_type": "stream",
     "name": "stdout",
     "text": [
      "\b\b\b\b\b\b\b\b\b\b\b\b\b\b\b\b\b\b\b\b\b\b\b\b\b\b\b\b\b\b\b\b\b\b\b\b\b\b\b\b\b\b\b\b\b\b\b\b\b\b\b\b\b\b\b\b\b\b\b\b\b\b\b\b\b\r8/8 [==============================] - 0s 12ms/step - loss: 1.8646e-04\n",
      "Epoch 35/50\n",
      "6/8 [=====================>........] - ETA: 0s - loss: 1.9518e-04"
     ]
    },
    {
     "output_type": "stream",
     "name": "stderr",
     "text": [
      "WARNING:tensorflow:Early stopping conditioned on metric `val_loss` which is not available. Available metrics are: loss\n"
     ]
    },
    {
     "output_type": "stream",
     "name": "stdout",
     "text": [
      "\b\b\b\b\b\b\b\b\b\b\b\b\b\b\b\b\b\b\b\b\b\b\b\b\b\b\b\b\b\b\b\b\b\b\b\b\b\b\b\b\b\b\b\b\b\b\b\b\b\b\b\b\b\b\b\b\b\b\b\b\b\b\b\b\b\r8/8 [==============================] - 0s 13ms/step - loss: 1.8159e-04\n",
      "Epoch 36/50\n",
      "6/8 [=====================>........] - ETA: 0s - loss: 1.9083e-04"
     ]
    },
    {
     "output_type": "stream",
     "name": "stderr",
     "text": [
      "WARNING:tensorflow:Early stopping conditioned on metric `val_loss` which is not available. Available metrics are: loss\n"
     ]
    },
    {
     "output_type": "stream",
     "name": "stdout",
     "text": [
      "\b\b\b\b\b\b\b\b\b\b\b\b\b\b\b\b\b\b\b\b\b\b\b\b\b\b\b\b\b\b\b\b\b\b\b\b\b\b\b\b\b\b\b\b\b\b\b\b\b\b\b\b\b\b\b\b\b\b\b\b\b\b\b\b\b\r8/8 [==============================] - 0s 12ms/step - loss: 1.7633e-04\n",
      "Epoch 37/50\n",
      "6/8 [=====================>........] - ETA: 0s - loss: 2.0992e-04"
     ]
    },
    {
     "output_type": "stream",
     "name": "stderr",
     "text": [
      "WARNING:tensorflow:Early stopping conditioned on metric `val_loss` which is not available. Available metrics are: loss\n"
     ]
    },
    {
     "output_type": "stream",
     "name": "stdout",
     "text": [
      "\b\b\b\b\b\b\b\b\b\b\b\b\b\b\b\b\b\b\b\b\b\b\b\b\b\b\b\b\b\b\b\b\b\b\b\b\b\b\b\b\b\b\b\b\b\b\b\b\b\b\b\b\b\b\b\b\b\b\b\b\b\b\b\b\b\r8/8 [==============================] - 0s 11ms/step - loss: 1.9138e-04\n",
      "Epoch 38/50\n",
      "6/8 [=====================>........] - ETA: 0s - loss: 1.7269e-04"
     ]
    },
    {
     "output_type": "stream",
     "name": "stderr",
     "text": [
      "WARNING:tensorflow:Early stopping conditioned on metric `val_loss` which is not available. Available metrics are: loss\n"
     ]
    },
    {
     "output_type": "stream",
     "name": "stdout",
     "text": [
      "\b\b\b\b\b\b\b\b\b\b\b\b\b\b\b\b\b\b\b\b\b\b\b\b\b\b\b\b\b\b\b\b\b\b\b\b\b\b\b\b\b\b\b\b\b\b\b\b\b\b\b\b\b\b\b\b\b\b\b\b\b\b\b\b\b\r8/8 [==============================] - 0s 12ms/step - loss: 1.7343e-04\n",
      "Epoch 39/50\n",
      "6/8 [=====================>........] - ETA: 0s - loss: 2.0227e-04"
     ]
    },
    {
     "output_type": "stream",
     "name": "stderr",
     "text": [
      "WARNING:tensorflow:Early stopping conditioned on metric `val_loss` which is not available. Available metrics are: loss\n"
     ]
    },
    {
     "output_type": "stream",
     "name": "stdout",
     "text": [
      "\b\b\b\b\b\b\b\b\b\b\b\b\b\b\b\b\b\b\b\b\b\b\b\b\b\b\b\b\b\b\b\b\b\b\b\b\b\b\b\b\b\b\b\b\b\b\b\b\b\b\b\b\b\b\b\b\b\b\b\b\b\b\b\b\b\r8/8 [==============================] - 0s 12ms/step - loss: 1.9344e-04\n",
      "Epoch 40/50\n",
      "6/8 [=====================>........] - ETA: 0s - loss: 2.1567e-04"
     ]
    },
    {
     "output_type": "stream",
     "name": "stderr",
     "text": [
      "WARNING:tensorflow:Early stopping conditioned on metric `val_loss` which is not available. Available metrics are: loss\n"
     ]
    },
    {
     "output_type": "stream",
     "name": "stdout",
     "text": [
      "\b\b\b\b\b\b\b\b\b\b\b\b\b\b\b\b\b\b\b\b\b\b\b\b\b\b\b\b\b\b\b\b\b\b\b\b\b\b\b\b\b\b\b\b\b\b\b\b\b\b\b\b\b\b\b\b\b\b\b\b\b\b\b\b\b\r8/8 [==============================] - 0s 12ms/step - loss: 2.0764e-04\n",
      "Epoch 41/50\n",
      "8/8 [==============================] - ETA: 0s - loss: 2.1317e-04"
     ]
    },
    {
     "output_type": "stream",
     "name": "stderr",
     "text": [
      "WARNING:tensorflow:Early stopping conditioned on metric `val_loss` which is not available. Available metrics are: loss\n"
     ]
    },
    {
     "output_type": "stream",
     "name": "stdout",
     "text": [
      "\b\b\b\b\b\b\b\b\b\b\b\b\b\b\b\b\b\b\b\b\b\b\b\b\b\b\b\b\b\b\b\b\b\b\b\b\b\b\b\b\b\b\b\b\b\b\b\b\b\b\b\b\b\b\b\b\b\b\b\b\b\b\b\b\b\r8/8 [==============================] - 0s 16ms/step - loss: 2.1317e-04\n",
      "Epoch 42/50\n",
      "7/8 [=========================>....] - ETA: 0s - loss: 1.8728e-04"
     ]
    },
    {
     "output_type": "stream",
     "name": "stderr",
     "text": [
      "WARNING:tensorflow:Early stopping conditioned on metric `val_loss` which is not available. Available metrics are: loss\n"
     ]
    },
    {
     "output_type": "stream",
     "name": "stdout",
     "text": [
      "\b\b\b\b\b\b\b\b\b\b\b\b\b\b\b\b\b\b\b\b\b\b\b\b\b\b\b\b\b\b\b\b\b\b\b\b\b\b\b\b\b\b\b\b\b\b\b\b\b\b\b\b\b\b\b\b\b\b\b\b\b\b\b\b\b\r8/8 [==============================] - 0s 19ms/step - loss: 1.8507e-04\n",
      "Epoch 43/50\n",
      "7/8 [=========================>....] - ETA: 0s - loss: 1.8019e-04"
     ]
    },
    {
     "output_type": "stream",
     "name": "stderr",
     "text": [
      "WARNING:tensorflow:Early stopping conditioned on metric `val_loss` which is not available. Available metrics are: loss\n"
     ]
    },
    {
     "output_type": "stream",
     "name": "stdout",
     "text": [
      "\b\b\b\b\b\b\b\b\b\b\b\b\b\b\b\b\b\b\b\b\b\b\b\b\b\b\b\b\b\b\b\b\b\b\b\b\b\b\b\b\b\b\b\b\b\b\b\b\b\b\b\b\b\b\b\b\b\b\b\b\b\b\b\b\b\r8/8 [==============================] - 0s 18ms/step - loss: 1.7819e-04\n",
      "Epoch 44/50\n",
      "7/8 [=========================>....] - ETA: 0s - loss: 1.6344e-04"
     ]
    },
    {
     "output_type": "stream",
     "name": "stderr",
     "text": [
      "WARNING:tensorflow:Early stopping conditioned on metric `val_loss` which is not available. Available metrics are: loss\n"
     ]
    },
    {
     "output_type": "stream",
     "name": "stdout",
     "text": [
      "\b\b\b\b\b\b\b\b\b\b\b\b\b\b\b\b\b\b\b\b\b\b\b\b\b\b\b\b\b\b\b\b\b\b\b\b\b\b\b\b\b\b\b\b\b\b\b\b\b\b\b\b\b\b\b\b\b\b\b\b\b\b\b\b\b\r8/8 [==============================] - 0s 20ms/step - loss: 1.6159e-04\n",
      "Epoch 45/50\n",
      "7/8 [=========================>....] - ETA: 0s - loss: 1.7383e-04"
     ]
    },
    {
     "output_type": "stream",
     "name": "stderr",
     "text": [
      "WARNING:tensorflow:Early stopping conditioned on metric `val_loss` which is not available. Available metrics are: loss\n"
     ]
    },
    {
     "output_type": "stream",
     "name": "stdout",
     "text": [
      "\b\b\b\b\b\b\b\b\b\b\b\b\b\b\b\b\b\b\b\b\b\b\b\b\b\b\b\b\b\b\b\b\b\b\b\b\b\b\b\b\b\b\b\b\b\b\b\b\b\b\b\b\b\b\b\b\b\b\b\b\b\b\b\b\b\r8/8 [==============================] - 0s 18ms/step - loss: 1.6986e-04\n",
      "Epoch 46/50\n",
      "7/8 [=========================>....] - ETA: 0s - loss: 1.7538e-04"
     ]
    },
    {
     "output_type": "stream",
     "name": "stderr",
     "text": [
      "WARNING:tensorflow:Early stopping conditioned on metric `val_loss` which is not available. Available metrics are: loss\n"
     ]
    },
    {
     "output_type": "stream",
     "name": "stdout",
     "text": [
      "\b\b\b\b\b\b\b\b\b\b\b\b\b\b\b\b\b\b\b\b\b\b\b\b\b\b\b\b\b\b\b\b\b\b\b\b\b\b\b\b\b\b\b\b\b\b\b\b\b\b\b\b\b\b\b\b\b\b\b\b\b\b\b\b\b\r8/8 [==============================] - 0s 18ms/step - loss: 1.7599e-04\n",
      "Epoch 47/50\n",
      "7/8 [=========================>....] - ETA: 0s - loss: 1.6595e-04"
     ]
    },
    {
     "output_type": "stream",
     "name": "stderr",
     "text": [
      "WARNING:tensorflow:Early stopping conditioned on metric `val_loss` which is not available. Available metrics are: loss\n"
     ]
    },
    {
     "output_type": "stream",
     "name": "stdout",
     "text": [
      "\b\b\b\b\b\b\b\b\b\b\b\b\b\b\b\b\b\b\b\b\b\b\b\b\b\b\b\b\b\b\b\b\b\b\b\b\b\b\b\b\b\b\b\b\b\b\b\b\b\b\b\b\b\b\b\b\b\b\b\b\b\b\b\b\b\r8/8 [==============================] - 0s 18ms/step - loss: 1.6412e-04\n",
      "Epoch 48/50\n",
      "7/8 [=========================>....] - ETA: 0s - loss: 1.5376e-04"
     ]
    },
    {
     "output_type": "stream",
     "name": "stderr",
     "text": [
      "WARNING:tensorflow:Early stopping conditioned on metric `val_loss` which is not available. Available metrics are: loss\n"
     ]
    },
    {
     "output_type": "stream",
     "name": "stdout",
     "text": [
      "\b\b\b\b\b\b\b\b\b\b\b\b\b\b\b\b\b\b\b\b\b\b\b\b\b\b\b\b\b\b\b\b\b\b\b\b\b\b\b\b\b\b\b\b\b\b\b\b\b\b\b\b\b\b\b\b\b\b\b\b\b\b\b\b\b\r8/8 [==============================] - 0s 18ms/step - loss: 1.5184e-04\n",
      "Epoch 49/50\n",
      "7/8 [=========================>....] - ETA: 0s - loss: 1.5225e-04"
     ]
    },
    {
     "output_type": "stream",
     "name": "stderr",
     "text": [
      "WARNING:tensorflow:Early stopping conditioned on metric `val_loss` which is not available. Available metrics are: loss\n"
     ]
    },
    {
     "output_type": "stream",
     "name": "stdout",
     "text": [
      "\b\b\b\b\b\b\b\b\b\b\b\b\b\b\b\b\b\b\b\b\b\b\b\b\b\b\b\b\b\b\b\b\b\b\b\b\b\b\b\b\b\b\b\b\b\b\b\b\b\b\b\b\b\b\b\b\b\b\b\b\b\b\b\b\b\r8/8 [==============================] - 0s 18ms/step - loss: 1.5075e-04\n",
      "Epoch 50/50\n",
      "7/8 [=========================>....] - ETA: 0s - loss: 1.4621e-04"
     ]
    },
    {
     "output_type": "stream",
     "name": "stderr",
     "text": [
      "WARNING:tensorflow:Early stopping conditioned on metric `val_loss` which is not available. Available metrics are: loss\n"
     ]
    },
    {
     "output_type": "stream",
     "name": "stdout",
     "text": [
      "8/8 [==============================] - 0s 18ms/step - loss: 1.4217e-04\n",
      "8/8 [==============================] - 1s 5ms/step\n"
     ]
    }
   ]
  },
  {
   "cell_type": "code",
   "source": [
    "# # Calculating RMSE...\n",
    "# rmse = sqrt(mean_squared_error(y_test, y_pred))\n",
    "# print('Root Mean Squared Error: ', rmse)"
   ],
   "metadata": {
    "id": "WW4cayvO5VVV",
    "pycharm": {
     "name": "#%%\n"
    }
   },
   "execution_count": null,
   "outputs": []
  },
  {
   "cell_type": "code",
   "source": [
    "# float to 1 or 0 value...\n",
    "def prediction(series):\n",
    "    return series.apply(lambda x: +1 if x > 0 else 0)"
   ],
   "metadata": {
    "id": "BZfrwmYaEWJu",
    "pycharm": {
     "name": "#%%\n"
    }
   },
   "execution_count": null,
   "outputs": []
  },
  {
   "cell_type": "code",
   "source": [
    "# y_test_s = prediction(y_test)\n",
    "\n",
    "y_pred_s = prediction(pd.Series(y_pred.squeeze()))"
   ],
   "metadata": {
    "id": "Pvp0mCC0Jk4O",
    "pycharm": {
     "name": "#%%\n"
    }
   },
   "execution_count": null,
   "outputs": []
  },
  {
   "cell_type": "code",
   "source": [
    "# y_test_s.value_counts()"
   ],
   "metadata": {
    "id": "C6xmhoBWD3Hc",
    "pycharm": {
     "name": "#%%\n"
    }
   },
   "execution_count": null,
   "outputs": []
  },
  {
   "cell_type": "code",
   "source": [
    "y_pred_s.value_counts()"
   ],
   "metadata": {
    "colab": {
     "base_uri": "https://localhost:8080/"
    },
    "id": "DQ9xajspBoMQ",
    "outputId": "260fa3a5-f0f5-4319-dd2f-3b2f2313489d",
    "pycharm": {
     "name": "#%%\n"
    }
   },
   "execution_count": null,
   "outputs": [
    {
     "output_type": "execute_result",
     "data": {
      "text/plain": [
       "1    236\n",
       "0      1\n",
       "dtype: int64"
      ]
     },
     "metadata": {},
     "execution_count": 18
    }
   ]
  },
  {
   "cell_type": "code",
   "source": [
    "# Save data...\n",
    "y_pred_s.to_csv('prediction_data_2021.csv', header=True)"
   ],
   "metadata": {
    "id": "p56xW4SEVRQB",
    "pycharm": {
     "name": "#%%\n"
    }
   },
   "execution_count": null,
   "outputs": []
  },
  {
   "cell_type": "code",
   "source": [
    "plot_data = pd.DataFrame({\n",
    "    'Trade Date': trade_Date,\n",
    "    'Actual': y_test,\n",
    "    'Predicted': y_pred_series\n",
    "})\n",
    "\n",
    "plt.figure(figsize=(12, 6))\n",
    "plt.plot(plot_data['Trade Date'], plot_data['Predicted'], label='Predicted', color='red')\n",
    "plt.plot(plot_data['Trade Date'], plot_data['Actual'], label='Actual', color='blue')\n",
    "plt.title('Stock Price Prediction')\n",
    "plt.xlabel('Trade Date')\n",
    "plt.ylabel('Stock Price')\n",
    "plt.legend()\n",
    "plt.grid(True)\n",
    "plt.show()"
   ],
   "metadata": {
    "colab": {
     "base_uri": "https://localhost:8080/",
     "height": 476
    },
    "id": "NYDDTvQ8dcCX",
    "outputId": "e67f6db7-2650-4c18-95ff-814351edaa2d",
    "pycharm": {
     "name": "#%%\n"
    }
   },
   "execution_count": null,
   "outputs": [
    {
     "output_type": "display_data",
     "data": {
      "text/plain": [
       "<Figure size 1200x600 with 1 Axes>"
      ],
      "image/png": "[encoded data removed]"
     },
     "metadata": {}
    }
   ]
  },
  {
   "cell_type": "code",
   "source": [
    "score = accuracy_score(y_test_s, y_pred_s)\n",
    "score"
   ],
   "metadata": {
    "colab": {
     "base_uri": "https://localhost:8080/"
    },
    "id": "7pXSSK5l5VSp",
    "outputId": "250ada39-cacc-4585-d096-81dec424d429",
    "pycharm": {
     "name": "#%%\n"
    }
   },
   "execution_count": null,
   "outputs": [
    {
     "output_type": "execute_result",
     "data": {
      "text/plain": [
       "0.6848739495798319"
      ]
     },
     "metadata": {},
     "execution_count": 22
    }
   ]
  },
  {
   "cell_type": "code",
   "source": [
    "y_test_s_reset = y_test_s.reset_index(drop=True)\n",
    "y_pred_s_reset = y_pred_s.reset_index(drop=True)\n",
    "\n",
    "df_combined_reset = pd.DataFrame({'y_test_s': y_test_s_reset, 'y_pred_s': y_pred_s_reset})\n",
    "styled_df = df_combined_reset.style.set_table_attributes(\"style='display:inline'\")\n",
    "\n",
    "# Display the styled DataFrame...\n",
    "styled_df"
   ],
   "metadata": {
    "colab": {
     "base_uri": "https://localhost:8080/",
     "height": 1000
    },
    "id": "AWwFsfnfM3HP",
    "outputId": "88e025ff-bbef-41ec-f111-ab5807325584",
    "pycharm": {
     "name": "#%%\n"
    }
   },
   "execution_count": null,
   "outputs": [
    {
     "output_type": "execute_result",
     "data": {
      "text/plain": [
       "<pandas.io.formats.style.Styler at 0x7a9d11e20fa0>"
      ],
      "text/html": [
       "<style type=\"text/css\">\n",
       "</style>\n",
       "<table id=\"T_72cac\" class=\"dataframe\">\n",
       "  <thead>\n",
       "    <tr>\n",
       "      <th class=\"blank level0\" >&nbsp;</th>\n",
       "      <th id=\"T_72cac_level0_col0\" class=\"col_heading level0 col0\" >y_test_s</th>\n",
       "      <th id=\"T_72cac_level0_col1\" class=\"col_heading level0 col1\" >y_pred_s</th>\n",
       "    </tr>\n",
       "  </thead>\n",
       "  <tbody>\n",
       "    <tr>\n",
       "      <th id=\"T_72cac_level0_row0\" class=\"row_heading level0 row0\" >0</th>\n",
       "      <td id=\"T_72cac_row0_col0\" class=\"data row0 col0\" >1</td>\n",
       "      <td id=\"T_72cac_row0_col1\" class=\"data row0 col1\" >1</td>\n",
       "    </tr>\n",
       "    <tr>\n",
       "      <th id=\"T_72cac_level0_row1\" class=\"row_heading level0 row1\" >1</th>\n",
       "      <td id=\"T_72cac_row1_col0\" class=\"data row1 col0\" >1</td>\n",
       "      <td id=\"T_72cac_row1_col1\" class=\"data row1 col1\" >1</td>\n",
       "    </tr>\n",
       "    <tr>\n",
       "      <th id=\"T_72cac_level0_row2\" class=\"row_heading level0 row2\" >2</th>\n",
       "      <td id=\"T_72cac_row2_col0\" class=\"data row2 col0\" >1</td>\n",
       "      <td id=\"T_72cac_row2_col1\" class=\"data row2 col1\" >1</td>\n",
       "    </tr>\n",
       "    <tr>\n",
       "      <th id=\"T_72cac_level0_row3\" class=\"row_heading level0 row3\" >3</th>\n",
       "      <td id=\"T_72cac_row3_col0\" class=\"data row3 col0\" >1</td>\n",
       "      <td id=\"T_72cac_row3_col1\" class=\"data row3 col1\" >1</td>\n",
       "    </tr>\n",
       "    <tr>\n",
       "      <th id=\"T_72cac_level0_row4\" class=\"row_heading level0 row4\" >4</th>\n",
       "      <td id=\"T_72cac_row4_col0\" class=\"data row4 col0\" >1</td>\n",
       "      <td id=\"T_72cac_row4_col1\" class=\"data row4 col1\" >1</td>\n",
       "    </tr>\n",
       "    <tr>\n",
       "      <th id=\"T_72cac_level0_row5\" class=\"row_heading level0 row5\" >5</th>\n",
       "      <td id=\"T_72cac_row5_col0\" class=\"data row5 col0\" >1</td>\n",
       "      <td id=\"T_72cac_row5_col1\" class=\"data row5 col1\" >1</td>\n",
       "    </tr>\n",
       "    <tr>\n",
       "      <th id=\"T_72cac_level0_row6\" class=\"row_heading level0 row6\" >6</th>\n",
       "      <td id=\"T_72cac_row6_col0\" class=\"data row6 col0\" >1</td>\n",
       "      <td id=\"T_72cac_row6_col1\" class=\"data row6 col1\" >1</td>\n",
       "    </tr>\n",
       "    <tr>\n",
       "      <th id=\"T_72cac_level0_row7\" class=\"row_heading level0 row7\" >7</th>\n",
       "      <td id=\"T_72cac_row7_col0\" class=\"data row7 col0\" >0</td>\n",
       "      <td id=\"T_72cac_row7_col1\" class=\"data row7 col1\" >1</td>\n",
       "    </tr>\n",
       "    <tr>\n",
       "      <th id=\"T_72cac_level0_row8\" class=\"row_heading level0 row8\" >8</th>\n",
       "      <td id=\"T_72cac_row8_col0\" class=\"data row8 col0\" >0</td>\n",
       "      <td id=\"T_72cac_row8_col1\" class=\"data row8 col1\" >1</td>\n",
       "    </tr>\n",
       "    <tr>\n",
       "      <th id=\"T_72cac_level0_row9\" class=\"row_heading level0 row9\" >9</th>\n",
       "      <td id=\"T_72cac_row9_col0\" class=\"data row9 col0\" >1</td>\n",
       "      <td id=\"T_72cac_row9_col1\" class=\"data row9 col1\" >1</td>\n",
       "    </tr>\n",
       "    <tr>\n",
       "      <th id=\"T_72cac_level0_row10\" class=\"row_heading level0 row10\" >10</th>\n",
       "      <td id=\"T_72cac_row10_col0\" class=\"data row10 col0\" >1</td>\n",
       "      <td id=\"T_72cac_row10_col1\" class=\"data row10 col1\" >1</td>\n",
       "    </tr>\n",
       "    <tr>\n",
       "      <th id=\"T_72cac_level0_row11\" class=\"row_heading level0 row11\" >11</th>\n",
       "      <td id=\"T_72cac_row11_col0\" class=\"data row11 col0\" >0</td>\n",
       "      <td id=\"T_72cac_row11_col1\" class=\"data row11 col1\" >1</td>\n",
       "    </tr>\n",
       "    <tr>\n",
       "      <th id=\"T_72cac_level0_row12\" class=\"row_heading level0 row12\" >12</th>\n",
       "      <td id=\"T_72cac_row12_col0\" class=\"data row12 col0\" >1</td>\n",
       "      <td id=\"T_72cac_row12_col1\" class=\"data row12 col1\" >1</td>\n",
       "    </tr>\n",
       "    <tr>\n",
       "      <th id=\"T_72cac_level0_row13\" class=\"row_heading level0 row13\" >13</th>\n",
       "      <td id=\"T_72cac_row13_col0\" class=\"data row13 col0\" >1</td>\n",
       "      <td id=\"T_72cac_row13_col1\" class=\"data row13 col1\" >1</td>\n",
       "    </tr>\n",
       "    <tr>\n",
       "      <th id=\"T_72cac_level0_row14\" class=\"row_heading level0 row14\" >14</th>\n",
       "      <td id=\"T_72cac_row14_col0\" class=\"data row14 col0\" >1</td>\n",
       "      <td id=\"T_72cac_row14_col1\" class=\"data row14 col1\" >1</td>\n",
       "    </tr>\n",
       "    <tr>\n",
       "      <th id=\"T_72cac_level0_row15\" class=\"row_heading level0 row15\" >15</th>\n",
       "      <td id=\"T_72cac_row15_col0\" class=\"data row15 col0\" >1</td>\n",
       "      <td id=\"T_72cac_row15_col1\" class=\"data row15 col1\" >1</td>\n",
       "    </tr>\n",
       "    <tr>\n",
       "      <th id=\"T_72cac_level0_row16\" class=\"row_heading level0 row16\" >16</th>\n",
       "      <td id=\"T_72cac_row16_col0\" class=\"data row16 col0\" >1</td>\n",
       "      <td id=\"T_72cac_row16_col1\" class=\"data row16 col1\" >1</td>\n",
       "    </tr>\n",
       "    <tr>\n",
       "      <th id=\"T_72cac_level0_row17\" class=\"row_heading level0 row17\" >17</th>\n",
       "      <td id=\"T_72cac_row17_col0\" class=\"data row17 col0\" >1</td>\n",
       "      <td id=\"T_72cac_row17_col1\" class=\"data row17 col1\" >1</td>\n",
       "    </tr>\n",
       "    <tr>\n",
       "      <th id=\"T_72cac_level0_row18\" class=\"row_heading level0 row18\" >18</th>\n",
       "      <td id=\"T_72cac_row18_col0\" class=\"data row18 col0\" >1</td>\n",
       "      <td id=\"T_72cac_row18_col1\" class=\"data row18 col1\" >1</td>\n",
       "    </tr>\n",
       "    <tr>\n",
       "      <th id=\"T_72cac_level0_row19\" class=\"row_heading level0 row19\" >19</th>\n",
       "      <td id=\"T_72cac_row19_col0\" class=\"data row19 col0\" >1</td>\n",
       "      <td id=\"T_72cac_row19_col1\" class=\"data row19 col1\" >1</td>\n",
       "    </tr>\n",
       "    <tr>\n",
       "      <th id=\"T_72cac_level0_row20\" class=\"row_heading level0 row20\" >20</th>\n",
       "      <td id=\"T_72cac_row20_col0\" class=\"data row20 col0\" >1</td>\n",
       "      <td id=\"T_72cac_row20_col1\" class=\"data row20 col1\" >1</td>\n",
       "    </tr>\n",
       "    <tr>\n",
       "      <th id=\"T_72cac_level0_row21\" class=\"row_heading level0 row21\" >21</th>\n",
       "      <td id=\"T_72cac_row21_col0\" class=\"data row21 col0\" >1</td>\n",
       "      <td id=\"T_72cac_row21_col1\" class=\"data row21 col1\" >1</td>\n",
       "    </tr>\n",
       "    <tr>\n",
       "      <th id=\"T_72cac_level0_row22\" class=\"row_heading level0 row22\" >22</th>\n",
       "      <td id=\"T_72cac_row22_col0\" class=\"data row22 col0\" >1</td>\n",
       "      <td id=\"T_72cac_row22_col1\" class=\"data row22 col1\" >1</td>\n",
       "    </tr>\n",
       "    <tr>\n",
       "      <th id=\"T_72cac_level0_row23\" class=\"row_heading level0 row23\" >23</th>\n",
       "      <td id=\"T_72cac_row23_col0\" class=\"data row23 col0\" >0</td>\n",
       "      <td id=\"T_72cac_row23_col1\" class=\"data row23 col1\" >1</td>\n",
       "    </tr>\n",
       "    <tr>\n",
       "      <th id=\"T_72cac_level0_row24\" class=\"row_heading level0 row24\" >24</th>\n",
       "      <td id=\"T_72cac_row24_col0\" class=\"data row24 col0\" >0</td>\n",
       "      <td id=\"T_72cac_row24_col1\" class=\"data row24 col1\" >1</td>\n",
       "    </tr>\n",
       "    <tr>\n",
       "      <th id=\"T_72cac_level0_row25\" class=\"row_heading level0 row25\" >25</th>\n",
       "      <td id=\"T_72cac_row25_col0\" class=\"data row25 col0\" >1</td>\n",
       "      <td id=\"T_72cac_row25_col1\" class=\"data row25 col1\" >1</td>\n",
       "    </tr>\n",
       "    <tr>\n",
       "      <th id=\"T_72cac_level0_row26\" class=\"row_heading level0 row26\" >26</th>\n",
       "      <td id=\"T_72cac_row26_col0\" class=\"data row26 col0\" >0</td>\n",
       "      <td id=\"T_72cac_row26_col1\" class=\"data row26 col1\" >1</td>\n",
       "    </tr>\n",
       "    <tr>\n",
       "      <th id=\"T_72cac_level0_row27\" class=\"row_heading level0 row27\" >27</th>\n",
       "      <td id=\"T_72cac_row27_col0\" class=\"data row27 col0\" >0</td>\n",
       "      <td id=\"T_72cac_row27_col1\" class=\"data row27 col1\" >1</td>\n",
       "    </tr>\n",
       "    <tr>\n",
       "      <th id=\"T_72cac_level0_row28\" class=\"row_heading level0 row28\" >28</th>\n",
       "      <td id=\"T_72cac_row28_col0\" class=\"data row28 col0\" >0</td>\n",
       "      <td id=\"T_72cac_row28_col1\" class=\"data row28 col1\" >1</td>\n",
       "    </tr>\n",
       "    <tr>\n",
       "      <th id=\"T_72cac_level0_row29\" class=\"row_heading level0 row29\" >29</th>\n",
       "      <td id=\"T_72cac_row29_col0\" class=\"data row29 col0\" >0</td>\n",
       "      <td id=\"T_72cac_row29_col1\" class=\"data row29 col1\" >1</td>\n",
       "    </tr>\n",
       "    <tr>\n",
       "      <th id=\"T_72cac_level0_row30\" class=\"row_heading level0 row30\" >30</th>\n",
       "      <td id=\"T_72cac_row30_col0\" class=\"data row30 col0\" >0</td>\n",
       "      <td id=\"T_72cac_row30_col1\" class=\"data row30 col1\" >1</td>\n",
       "    </tr>\n",
       "    <tr>\n",
       "      <th id=\"T_72cac_level0_row31\" class=\"row_heading level0 row31\" >31</th>\n",
       "      <td id=\"T_72cac_row31_col0\" class=\"data row31 col0\" >0</td>\n",
       "      <td id=\"T_72cac_row31_col1\" class=\"data row31 col1\" >1</td>\n",
       "    </tr>\n",
       "    <tr>\n",
       "      <th id=\"T_72cac_level0_row32\" class=\"row_heading level0 row32\" >32</th>\n",
       "      <td id=\"T_72cac_row32_col0\" class=\"data row32 col0\" >0</td>\n",
       "      <td id=\"T_72cac_row32_col1\" class=\"data row32 col1\" >1</td>\n",
       "    </tr>\n",
       "    <tr>\n",
       "      <th id=\"T_72cac_level0_row33\" class=\"row_heading level0 row33\" >33</th>\n",
       "      <td id=\"T_72cac_row33_col0\" class=\"data row33 col0\" >0</td>\n",
       "      <td id=\"T_72cac_row33_col1\" class=\"data row33 col1\" >1</td>\n",
       "    </tr>\n",
       "    <tr>\n",
       "      <th id=\"T_72cac_level0_row34\" class=\"row_heading level0 row34\" >34</th>\n",
       "      <td id=\"T_72cac_row34_col0\" class=\"data row34 col0\" >0</td>\n",
       "      <td id=\"T_72cac_row34_col1\" class=\"data row34 col1\" >1</td>\n",
       "    </tr>\n",
       "    <tr>\n",
       "      <th id=\"T_72cac_level0_row35\" class=\"row_heading level0 row35\" >35</th>\n",
       "      <td id=\"T_72cac_row35_col0\" class=\"data row35 col0\" >1</td>\n",
       "      <td id=\"T_72cac_row35_col1\" class=\"data row35 col1\" >1</td>\n",
       "    </tr>\n",
       "    <tr>\n",
       "      <th id=\"T_72cac_level0_row36\" class=\"row_heading level0 row36\" >36</th>\n",
       "      <td id=\"T_72cac_row36_col0\" class=\"data row36 col0\" >1</td>\n",
       "      <td id=\"T_72cac_row36_col1\" class=\"data row36 col1\" >1</td>\n",
       "    </tr>\n",
       "    <tr>\n",
       "      <th id=\"T_72cac_level0_row37\" class=\"row_heading level0 row37\" >37</th>\n",
       "      <td id=\"T_72cac_row37_col0\" class=\"data row37 col0\" >1</td>\n",
       "      <td id=\"T_72cac_row37_col1\" class=\"data row37 col1\" >1</td>\n",
       "    </tr>\n",
       "    <tr>\n",
       "      <th id=\"T_72cac_level0_row38\" class=\"row_heading level0 row38\" >38</th>\n",
       "      <td id=\"T_72cac_row38_col0\" class=\"data row38 col0\" >1</td>\n",
       "      <td id=\"T_72cac_row38_col1\" class=\"data row38 col1\" >1</td>\n",
       "    </tr>\n",
       "    <tr>\n",
       "      <th id=\"T_72cac_level0_row39\" class=\"row_heading level0 row39\" >39</th>\n",
       "      <td id=\"T_72cac_row39_col0\" class=\"data row39 col0\" >1</td>\n",
       "      <td id=\"T_72cac_row39_col1\" class=\"data row39 col1\" >1</td>\n",
       "    </tr>\n",
       "    <tr>\n",
       "      <th id=\"T_72cac_level0_row40\" class=\"row_heading level0 row40\" >40</th>\n",
       "      <td id=\"T_72cac_row40_col0\" class=\"data row40 col0\" >1</td>\n",
       "      <td id=\"T_72cac_row40_col1\" class=\"data row40 col1\" >1</td>\n",
       "    </tr>\n",
       "    <tr>\n",
       "      <th id=\"T_72cac_level0_row41\" class=\"row_heading level0 row41\" >41</th>\n",
       "      <td id=\"T_72cac_row41_col0\" class=\"data row41 col0\" >1</td>\n",
       "      <td id=\"T_72cac_row41_col1\" class=\"data row41 col1\" >1</td>\n",
       "    </tr>\n",
       "    <tr>\n",
       "      <th id=\"T_72cac_level0_row42\" class=\"row_heading level0 row42\" >42</th>\n",
       "      <td id=\"T_72cac_row42_col0\" class=\"data row42 col0\" >1</td>\n",
       "      <td id=\"T_72cac_row42_col1\" class=\"data row42 col1\" >1</td>\n",
       "    </tr>\n",
       "    <tr>\n",
       "      <th id=\"T_72cac_level0_row43\" class=\"row_heading level0 row43\" >43</th>\n",
       "      <td id=\"T_72cac_row43_col0\" class=\"data row43 col0\" >1</td>\n",
       "      <td id=\"T_72cac_row43_col1\" class=\"data row43 col1\" >1</td>\n",
       "    </tr>\n",
       "    <tr>\n",
       "      <th id=\"T_72cac_level0_row44\" class=\"row_heading level0 row44\" >44</th>\n",
       "      <td id=\"T_72cac_row44_col0\" class=\"data row44 col0\" >0</td>\n",
       "      <td id=\"T_72cac_row44_col1\" class=\"data row44 col1\" >1</td>\n",
       "    </tr>\n",
       "    <tr>\n",
       "      <th id=\"T_72cac_level0_row45\" class=\"row_heading level0 row45\" >45</th>\n",
       "      <td id=\"T_72cac_row45_col0\" class=\"data row45 col0\" >0</td>\n",
       "      <td id=\"T_72cac_row45_col1\" class=\"data row45 col1\" >1</td>\n",
       "    </tr>\n",
       "    <tr>\n",
       "      <th id=\"T_72cac_level0_row46\" class=\"row_heading level0 row46\" >46</th>\n",
       "      <td id=\"T_72cac_row46_col0\" class=\"data row46 col0\" >0</td>\n",
       "      <td id=\"T_72cac_row46_col1\" class=\"data row46 col1\" >1</td>\n",
       "    </tr>\n",
       "    <tr>\n",
       "      <th id=\"T_72cac_level0_row47\" class=\"row_heading level0 row47\" >47</th>\n",
       "      <td id=\"T_72cac_row47_col0\" class=\"data row47 col0\" >0</td>\n",
       "      <td id=\"T_72cac_row47_col1\" class=\"data row47 col1\" >1</td>\n",
       "    </tr>\n",
       "    <tr>\n",
       "      <th id=\"T_72cac_level0_row48\" class=\"row_heading level0 row48\" >48</th>\n",
       "      <td id=\"T_72cac_row48_col0\" class=\"data row48 col0\" >0</td>\n",
       "      <td id=\"T_72cac_row48_col1\" class=\"data row48 col1\" >1</td>\n",
       "    </tr>\n",
       "    <tr>\n",
       "      <th id=\"T_72cac_level0_row49\" class=\"row_heading level0 row49\" >49</th>\n",
       "      <td id=\"T_72cac_row49_col0\" class=\"data row49 col0\" >0</td>\n",
       "      <td id=\"T_72cac_row49_col1\" class=\"data row49 col1\" >1</td>\n",
       "    </tr>\n",
       "    <tr>\n",
       "      <th id=\"T_72cac_level0_row50\" class=\"row_heading level0 row50\" >50</th>\n",
       "      <td id=\"T_72cac_row50_col0\" class=\"data row50 col0\" >1</td>\n",
       "      <td id=\"T_72cac_row50_col1\" class=\"data row50 col1\" >1</td>\n",
       "    </tr>\n",
       "    <tr>\n",
       "      <th id=\"T_72cac_level0_row51\" class=\"row_heading level0 row51\" >51</th>\n",
       "      <td id=\"T_72cac_row51_col0\" class=\"data row51 col0\" >1</td>\n",
       "      <td id=\"T_72cac_row51_col1\" class=\"data row51 col1\" >1</td>\n",
       "    </tr>\n",
       "    <tr>\n",
       "      <th id=\"T_72cac_level0_row52\" class=\"row_heading level0 row52\" >52</th>\n",
       "      <td id=\"T_72cac_row52_col0\" class=\"data row52 col0\" >1</td>\n",
       "      <td id=\"T_72cac_row52_col1\" class=\"data row52 col1\" >1</td>\n",
       "    </tr>\n",
       "    <tr>\n",
       "      <th id=\"T_72cac_level0_row53\" class=\"row_heading level0 row53\" >53</th>\n",
       "      <td id=\"T_72cac_row53_col0\" class=\"data row53 col0\" >1</td>\n",
       "      <td id=\"T_72cac_row53_col1\" class=\"data row53 col1\" >1</td>\n",
       "    </tr>\n",
       "    <tr>\n",
       "      <th id=\"T_72cac_level0_row54\" class=\"row_heading level0 row54\" >54</th>\n",
       "      <td id=\"T_72cac_row54_col0\" class=\"data row54 col0\" >1</td>\n",
       "      <td id=\"T_72cac_row54_col1\" class=\"data row54 col1\" >1</td>\n",
       "    </tr>\n",
       "    <tr>\n",
       "      <th id=\"T_72cac_level0_row55\" class=\"row_heading level0 row55\" >55</th>\n",
       "      <td id=\"T_72cac_row55_col0\" class=\"data row55 col0\" >1</td>\n",
       "      <td id=\"T_72cac_row55_col1\" class=\"data row55 col1\" >1</td>\n",
       "    </tr>\n",
       "    <tr>\n",
       "      <th id=\"T_72cac_level0_row56\" class=\"row_heading level0 row56\" >56</th>\n",
       "      <td id=\"T_72cac_row56_col0\" class=\"data row56 col0\" >1</td>\n",
       "      <td id=\"T_72cac_row56_col1\" class=\"data row56 col1\" >1</td>\n",
       "    </tr>\n",
       "    <tr>\n",
       "      <th id=\"T_72cac_level0_row57\" class=\"row_heading level0 row57\" >57</th>\n",
       "      <td id=\"T_72cac_row57_col0\" class=\"data row57 col0\" >1</td>\n",
       "      <td id=\"T_72cac_row57_col1\" class=\"data row57 col1\" >1</td>\n",
       "    </tr>\n",
       "    <tr>\n",
       "      <th id=\"T_72cac_level0_row58\" class=\"row_heading level0 row58\" >58</th>\n",
       "      <td id=\"T_72cac_row58_col0\" class=\"data row58 col0\" >1</td>\n",
       "      <td id=\"T_72cac_row58_col1\" class=\"data row58 col1\" >1</td>\n",
       "    </tr>\n",
       "    <tr>\n",
       "      <th id=\"T_72cac_level0_row59\" class=\"row_heading level0 row59\" >59</th>\n",
       "      <td id=\"T_72cac_row59_col0\" class=\"data row59 col0\" >1</td>\n",
       "      <td id=\"T_72cac_row59_col1\" class=\"data row59 col1\" >1</td>\n",
       "    </tr>\n",
       "    <tr>\n",
       "      <th id=\"T_72cac_level0_row60\" class=\"row_heading level0 row60\" >60</th>\n",
       "      <td id=\"T_72cac_row60_col0\" class=\"data row60 col0\" >1</td>\n",
       "      <td id=\"T_72cac_row60_col1\" class=\"data row60 col1\" >1</td>\n",
       "    </tr>\n",
       "    <tr>\n",
       "      <th id=\"T_72cac_level0_row61\" class=\"row_heading level0 row61\" >61</th>\n",
       "      <td id=\"T_72cac_row61_col0\" class=\"data row61 col0\" >1</td>\n",
       "      <td id=\"T_72cac_row61_col1\" class=\"data row61 col1\" >1</td>\n",
       "    </tr>\n",
       "    <tr>\n",
       "      <th id=\"T_72cac_level0_row62\" class=\"row_heading level0 row62\" >62</th>\n",
       "      <td id=\"T_72cac_row62_col0\" class=\"data row62 col0\" >1</td>\n",
       "      <td id=\"T_72cac_row62_col1\" class=\"data row62 col1\" >1</td>\n",
       "    </tr>\n",
       "    <tr>\n",
       "      <th id=\"T_72cac_level0_row63\" class=\"row_heading level0 row63\" >63</th>\n",
       "      <td id=\"T_72cac_row63_col0\" class=\"data row63 col0\" >1</td>\n",
       "      <td id=\"T_72cac_row63_col1\" class=\"data row63 col1\" >1</td>\n",
       "    </tr>\n",
       "    <tr>\n",
       "      <th id=\"T_72cac_level0_row64\" class=\"row_heading level0 row64\" >64</th>\n",
       "      <td id=\"T_72cac_row64_col0\" class=\"data row64 col0\" >1</td>\n",
       "      <td id=\"T_72cac_row64_col1\" class=\"data row64 col1\" >1</td>\n",
       "    </tr>\n",
       "    <tr>\n",
       "      <th id=\"T_72cac_level0_row65\" class=\"row_heading level0 row65\" >65</th>\n",
       "      <td id=\"T_72cac_row65_col0\" class=\"data row65 col0\" >1</td>\n",
       "      <td id=\"T_72cac_row65_col1\" class=\"data row65 col1\" >1</td>\n",
       "    </tr>\n",
       "    <tr>\n",
       "      <th id=\"T_72cac_level0_row66\" class=\"row_heading level0 row66\" >66</th>\n",
       "      <td id=\"T_72cac_row66_col0\" class=\"data row66 col0\" >1</td>\n",
       "      <td id=\"T_72cac_row66_col1\" class=\"data row66 col1\" >1</td>\n",
       "    </tr>\n",
       "    <tr>\n",
       "      <th id=\"T_72cac_level0_row67\" class=\"row_heading level0 row67\" >67</th>\n",
       "      <td id=\"T_72cac_row67_col0\" class=\"data row67 col0\" >1</td>\n",
       "      <td id=\"T_72cac_row67_col1\" class=\"data row67 col1\" >1</td>\n",
       "    </tr>\n",
       "    <tr>\n",
       "      <th id=\"T_72cac_level0_row68\" class=\"row_heading level0 row68\" >68</th>\n",
       "      <td id=\"T_72cac_row68_col0\" class=\"data row68 col0\" >1</td>\n",
       "      <td id=\"T_72cac_row68_col1\" class=\"data row68 col1\" >1</td>\n",
       "    </tr>\n",
       "    <tr>\n",
       "      <th id=\"T_72cac_level0_row69\" class=\"row_heading level0 row69\" >69</th>\n",
       "      <td id=\"T_72cac_row69_col0\" class=\"data row69 col0\" >1</td>\n",
       "      <td id=\"T_72cac_row69_col1\" class=\"data row69 col1\" >1</td>\n",
       "    </tr>\n",
       "    <tr>\n",
       "      <th id=\"T_72cac_level0_row70\" class=\"row_heading level0 row70\" >70</th>\n",
       "      <td id=\"T_72cac_row70_col0\" class=\"data row70 col0\" >1</td>\n",
       "      <td id=\"T_72cac_row70_col1\" class=\"data row70 col1\" >1</td>\n",
       "    </tr>\n",
       "    <tr>\n",
       "      <th id=\"T_72cac_level0_row71\" class=\"row_heading level0 row71\" >71</th>\n",
       "      <td id=\"T_72cac_row71_col0\" class=\"data row71 col0\" >1</td>\n",
       "      <td id=\"T_72cac_row71_col1\" class=\"data row71 col1\" >1</td>\n",
       "    </tr>\n",
       "    <tr>\n",
       "      <th id=\"T_72cac_level0_row72\" class=\"row_heading level0 row72\" >72</th>\n",
       "      <td id=\"T_72cac_row72_col0\" class=\"data row72 col0\" >1</td>\n",
       "      <td id=\"T_72cac_row72_col1\" class=\"data row72 col1\" >1</td>\n",
       "    </tr>\n",
       "    <tr>\n",
       "      <th id=\"T_72cac_level0_row73\" class=\"row_heading level0 row73\" >73</th>\n",
       "      <td id=\"T_72cac_row73_col0\" class=\"data row73 col0\" >0</td>\n",
       "      <td id=\"T_72cac_row73_col1\" class=\"data row73 col1\" >1</td>\n",
       "    </tr>\n",
       "    <tr>\n",
       "      <th id=\"T_72cac_level0_row74\" class=\"row_heading level0 row74\" >74</th>\n",
       "      <td id=\"T_72cac_row74_col0\" class=\"data row74 col0\" >1</td>\n",
       "      <td id=\"T_72cac_row74_col1\" class=\"data row74 col1\" >1</td>\n",
       "    </tr>\n",
       "    <tr>\n",
       "      <th id=\"T_72cac_level0_row75\" class=\"row_heading level0 row75\" >75</th>\n",
       "      <td id=\"T_72cac_row75_col0\" class=\"data row75 col0\" >1</td>\n",
       "      <td id=\"T_72cac_row75_col1\" class=\"data row75 col1\" >1</td>\n",
       "    </tr>\n",
       "    <tr>\n",
       "      <th id=\"T_72cac_level0_row76\" class=\"row_heading level0 row76\" >76</th>\n",
       "      <td id=\"T_72cac_row76_col0\" class=\"data row76 col0\" >1</td>\n",
       "      <td id=\"T_72cac_row76_col1\" class=\"data row76 col1\" >1</td>\n",
       "    </tr>\n",
       "    <tr>\n",
       "      <th id=\"T_72cac_level0_row77\" class=\"row_heading level0 row77\" >77</th>\n",
       "      <td id=\"T_72cac_row77_col0\" class=\"data row77 col0\" >1</td>\n",
       "      <td id=\"T_72cac_row77_col1\" class=\"data row77 col1\" >1</td>\n",
       "    </tr>\n",
       "    <tr>\n",
       "      <th id=\"T_72cac_level0_row78\" class=\"row_heading level0 row78\" >78</th>\n",
       "      <td id=\"T_72cac_row78_col0\" class=\"data row78 col0\" >0</td>\n",
       "      <td id=\"T_72cac_row78_col1\" class=\"data row78 col1\" >1</td>\n",
       "    </tr>\n",
       "    <tr>\n",
       "      <th id=\"T_72cac_level0_row79\" class=\"row_heading level0 row79\" >79</th>\n",
       "      <td id=\"T_72cac_row79_col0\" class=\"data row79 col0\" >0</td>\n",
       "      <td id=\"T_72cac_row79_col1\" class=\"data row79 col1\" >1</td>\n",
       "    </tr>\n",
       "    <tr>\n",
       "      <th id=\"T_72cac_level0_row80\" class=\"row_heading level0 row80\" >80</th>\n",
       "      <td id=\"T_72cac_row80_col0\" class=\"data row80 col0\" >0</td>\n",
       "      <td id=\"T_72cac_row80_col1\" class=\"data row80 col1\" >1</td>\n",
       "    </tr>\n",
       "    <tr>\n",
       "      <th id=\"T_72cac_level0_row81\" class=\"row_heading level0 row81\" >81</th>\n",
       "      <td id=\"T_72cac_row81_col0\" class=\"data row81 col0\" >0</td>\n",
       "      <td id=\"T_72cac_row81_col1\" class=\"data row81 col1\" >1</td>\n",
       "    </tr>\n",
       "    <tr>\n",
       "      <th id=\"T_72cac_level0_row82\" class=\"row_heading level0 row82\" >82</th>\n",
       "      <td id=\"T_72cac_row82_col0\" class=\"data row82 col0\" >1</td>\n",
       "      <td id=\"T_72cac_row82_col1\" class=\"data row82 col1\" >1</td>\n",
       "    </tr>\n",
       "    <tr>\n",
       "      <th id=\"T_72cac_level0_row83\" class=\"row_heading level0 row83\" >83</th>\n",
       "      <td id=\"T_72cac_row83_col0\" class=\"data row83 col0\" >0</td>\n",
       "      <td id=\"T_72cac_row83_col1\" class=\"data row83 col1\" >1</td>\n",
       "    </tr>\n",
       "    <tr>\n",
       "      <th id=\"T_72cac_level0_row84\" class=\"row_heading level0 row84\" >84</th>\n",
       "      <td id=\"T_72cac_row84_col0\" class=\"data row84 col0\" >0</td>\n",
       "      <td id=\"T_72cac_row84_col1\" class=\"data row84 col1\" >1</td>\n",
       "    </tr>\n",
       "    <tr>\n",
       "      <th id=\"T_72cac_level0_row85\" class=\"row_heading level0 row85\" >85</th>\n",
       "      <td id=\"T_72cac_row85_col0\" class=\"data row85 col0\" >0</td>\n",
       "      <td id=\"T_72cac_row85_col1\" class=\"data row85 col1\" >1</td>\n",
       "    </tr>\n",
       "    <tr>\n",
       "      <th id=\"T_72cac_level0_row86\" class=\"row_heading level0 row86\" >86</th>\n",
       "      <td id=\"T_72cac_row86_col0\" class=\"data row86 col0\" >0</td>\n",
       "      <td id=\"T_72cac_row86_col1\" class=\"data row86 col1\" >1</td>\n",
       "    </tr>\n",
       "    <tr>\n",
       "      <th id=\"T_72cac_level0_row87\" class=\"row_heading level0 row87\" >87</th>\n",
       "      <td id=\"T_72cac_row87_col0\" class=\"data row87 col0\" >1</td>\n",
       "      <td id=\"T_72cac_row87_col1\" class=\"data row87 col1\" >1</td>\n",
       "    </tr>\n",
       "    <tr>\n",
       "      <th id=\"T_72cac_level0_row88\" class=\"row_heading level0 row88\" >88</th>\n",
       "      <td id=\"T_72cac_row88_col0\" class=\"data row88 col0\" >1</td>\n",
       "      <td id=\"T_72cac_row88_col1\" class=\"data row88 col1\" >0</td>\n",
       "    </tr>\n",
       "    <tr>\n",
       "      <th id=\"T_72cac_level0_row89\" class=\"row_heading level0 row89\" >89</th>\n",
       "      <td id=\"T_72cac_row89_col0\" class=\"data row89 col0\" >1</td>\n",
       "      <td id=\"T_72cac_row89_col1\" class=\"data row89 col1\" >1</td>\n",
       "    </tr>\n",
       "    <tr>\n",
       "      <th id=\"T_72cac_level0_row90\" class=\"row_heading level0 row90\" >90</th>\n",
       "      <td id=\"T_72cac_row90_col0\" class=\"data row90 col0\" >1</td>\n",
       "      <td id=\"T_72cac_row90_col1\" class=\"data row90 col1\" >1</td>\n",
       "    </tr>\n",
       "    <tr>\n",
       "      <th id=\"T_72cac_level0_row91\" class=\"row_heading level0 row91\" >91</th>\n",
       "      <td id=\"T_72cac_row91_col0\" class=\"data row91 col0\" >1</td>\n",
       "      <td id=\"T_72cac_row91_col1\" class=\"data row91 col1\" >1</td>\n",
       "    </tr>\n",
       "    <tr>\n",
       "      <th id=\"T_72cac_level0_row92\" class=\"row_heading level0 row92\" >92</th>\n",
       "      <td id=\"T_72cac_row92_col0\" class=\"data row92 col0\" >1</td>\n",
       "      <td id=\"T_72cac_row92_col1\" class=\"data row92 col1\" >1</td>\n",
       "    </tr>\n",
       "    <tr>\n",
       "      <th id=\"T_72cac_level0_row93\" class=\"row_heading level0 row93\" >93</th>\n",
       "      <td id=\"T_72cac_row93_col0\" class=\"data row93 col0\" >1</td>\n",
       "      <td id=\"T_72cac_row93_col1\" class=\"data row93 col1\" >1</td>\n",
       "    </tr>\n",
       "    <tr>\n",
       "      <th id=\"T_72cac_level0_row94\" class=\"row_heading level0 row94\" >94</th>\n",
       "      <td id=\"T_72cac_row94_col0\" class=\"data row94 col0\" >1</td>\n",
       "      <td id=\"T_72cac_row94_col1\" class=\"data row94 col1\" >1</td>\n",
       "    </tr>\n",
       "    <tr>\n",
       "      <th id=\"T_72cac_level0_row95\" class=\"row_heading level0 row95\" >95</th>\n",
       "      <td id=\"T_72cac_row95_col0\" class=\"data row95 col0\" >1</td>\n",
       "      <td id=\"T_72cac_row95_col1\" class=\"data row95 col1\" >1</td>\n",
       "    </tr>\n",
       "    <tr>\n",
       "      <th id=\"T_72cac_level0_row96\" class=\"row_heading level0 row96\" >96</th>\n",
       "      <td id=\"T_72cac_row96_col0\" class=\"data row96 col0\" >1</td>\n",
       "      <td id=\"T_72cac_row96_col1\" class=\"data row96 col1\" >1</td>\n",
       "    </tr>\n",
       "    <tr>\n",
       "      <th id=\"T_72cac_level0_row97\" class=\"row_heading level0 row97\" >97</th>\n",
       "      <td id=\"T_72cac_row97_col0\" class=\"data row97 col0\" >1</td>\n",
       "      <td id=\"T_72cac_row97_col1\" class=\"data row97 col1\" >1</td>\n",
       "    </tr>\n",
       "    <tr>\n",
       "      <th id=\"T_72cac_level0_row98\" class=\"row_heading level0 row98\" >98</th>\n",
       "      <td id=\"T_72cac_row98_col0\" class=\"data row98 col0\" >1</td>\n",
       "      <td id=\"T_72cac_row98_col1\" class=\"data row98 col1\" >1</td>\n",
       "    </tr>\n",
       "    <tr>\n",
       "      <th id=\"T_72cac_level0_row99\" class=\"row_heading level0 row99\" >99</th>\n",
       "      <td id=\"T_72cac_row99_col0\" class=\"data row99 col0\" >1</td>\n",
       "      <td id=\"T_72cac_row99_col1\" class=\"data row99 col1\" >1</td>\n",
       "    </tr>\n",
       "    <tr>\n",
       "      <th id=\"T_72cac_level0_row100\" class=\"row_heading level0 row100\" >100</th>\n",
       "      <td id=\"T_72cac_row100_col0\" class=\"data row100 col0\" >1</td>\n",
       "      <td id=\"T_72cac_row100_col1\" class=\"data row100 col1\" >1</td>\n",
       "    </tr>\n",
       "    <tr>\n",
       "      <th id=\"T_72cac_level0_row101\" class=\"row_heading level0 row101\" >101</th>\n",
       "      <td id=\"T_72cac_row101_col0\" class=\"data row101 col0\" >1</td>\n",
       "      <td id=\"T_72cac_row101_col1\" class=\"data row101 col1\" >1</td>\n",
       "    </tr>\n",
       "    <tr>\n",
       "      <th id=\"T_72cac_level0_row102\" class=\"row_heading level0 row102\" >102</th>\n",
       "      <td id=\"T_72cac_row102_col0\" class=\"data row102 col0\" >1</td>\n",
       "      <td id=\"T_72cac_row102_col1\" class=\"data row102 col1\" >1</td>\n",
       "    </tr>\n",
       "    <tr>\n",
       "      <th id=\"T_72cac_level0_row103\" class=\"row_heading level0 row103\" >103</th>\n",
       "      <td id=\"T_72cac_row103_col0\" class=\"data row103 col0\" >1</td>\n",
       "      <td id=\"T_72cac_row103_col1\" class=\"data row103 col1\" >1</td>\n",
       "    </tr>\n",
       "    <tr>\n",
       "      <th id=\"T_72cac_level0_row104\" class=\"row_heading level0 row104\" >104</th>\n",
       "      <td id=\"T_72cac_row104_col0\" class=\"data row104 col0\" >0</td>\n",
       "      <td id=\"T_72cac_row104_col1\" class=\"data row104 col1\" >1</td>\n",
       "    </tr>\n",
       "    <tr>\n",
       "      <th id=\"T_72cac_level0_row105\" class=\"row_heading level0 row105\" >105</th>\n",
       "      <td id=\"T_72cac_row105_col0\" class=\"data row105 col0\" >0</td>\n",
       "      <td id=\"T_72cac_row105_col1\" class=\"data row105 col1\" >1</td>\n",
       "    </tr>\n",
       "    <tr>\n",
       "      <th id=\"T_72cac_level0_row106\" class=\"row_heading level0 row106\" >106</th>\n",
       "      <td id=\"T_72cac_row106_col0\" class=\"data row106 col0\" >0</td>\n",
       "      <td id=\"T_72cac_row106_col1\" class=\"data row106 col1\" >1</td>\n",
       "    </tr>\n",
       "    <tr>\n",
       "      <th id=\"T_72cac_level0_row107\" class=\"row_heading level0 row107\" >107</th>\n",
       "      <td id=\"T_72cac_row107_col0\" class=\"data row107 col0\" >1</td>\n",
       "      <td id=\"T_72cac_row107_col1\" class=\"data row107 col1\" >1</td>\n",
       "    </tr>\n",
       "    <tr>\n",
       "      <th id=\"T_72cac_level0_row108\" class=\"row_heading level0 row108\" >108</th>\n",
       "      <td id=\"T_72cac_row108_col0\" class=\"data row108 col0\" >0</td>\n",
       "      <td id=\"T_72cac_row108_col1\" class=\"data row108 col1\" >1</td>\n",
       "    </tr>\n",
       "    <tr>\n",
       "      <th id=\"T_72cac_level0_row109\" class=\"row_heading level0 row109\" >109</th>\n",
       "      <td id=\"T_72cac_row109_col0\" class=\"data row109 col0\" >1</td>\n",
       "      <td id=\"T_72cac_row109_col1\" class=\"data row109 col1\" >1</td>\n",
       "    </tr>\n",
       "    <tr>\n",
       "      <th id=\"T_72cac_level0_row110\" class=\"row_heading level0 row110\" >110</th>\n",
       "      <td id=\"T_72cac_row110_col0\" class=\"data row110 col0\" >1</td>\n",
       "      <td id=\"T_72cac_row110_col1\" class=\"data row110 col1\" >1</td>\n",
       "    </tr>\n",
       "    <tr>\n",
       "      <th id=\"T_72cac_level0_row111\" class=\"row_heading level0 row111\" >111</th>\n",
       "      <td id=\"T_72cac_row111_col0\" class=\"data row111 col0\" >1</td>\n",
       "      <td id=\"T_72cac_row111_col1\" class=\"data row111 col1\" >1</td>\n",
       "    </tr>\n",
       "    <tr>\n",
       "      <th id=\"T_72cac_level0_row112\" class=\"row_heading level0 row112\" >112</th>\n",
       "      <td id=\"T_72cac_row112_col0\" class=\"data row112 col0\" >1</td>\n",
       "      <td id=\"T_72cac_row112_col1\" class=\"data row112 col1\" >1</td>\n",
       "    </tr>\n",
       "    <tr>\n",
       "      <th id=\"T_72cac_level0_row113\" class=\"row_heading level0 row113\" >113</th>\n",
       "      <td id=\"T_72cac_row113_col0\" class=\"data row113 col0\" >1</td>\n",
       "      <td id=\"T_72cac_row113_col1\" class=\"data row113 col1\" >1</td>\n",
       "    </tr>\n",
       "    <tr>\n",
       "      <th id=\"T_72cac_level0_row114\" class=\"row_heading level0 row114\" >114</th>\n",
       "      <td id=\"T_72cac_row114_col0\" class=\"data row114 col0\" >1</td>\n",
       "      <td id=\"T_72cac_row114_col1\" class=\"data row114 col1\" >1</td>\n",
       "    </tr>\n",
       "    <tr>\n",
       "      <th id=\"T_72cac_level0_row115\" class=\"row_heading level0 row115\" >115</th>\n",
       "      <td id=\"T_72cac_row115_col0\" class=\"data row115 col0\" >1</td>\n",
       "      <td id=\"T_72cac_row115_col1\" class=\"data row115 col1\" >1</td>\n",
       "    </tr>\n",
       "    <tr>\n",
       "      <th id=\"T_72cac_level0_row116\" class=\"row_heading level0 row116\" >116</th>\n",
       "      <td id=\"T_72cac_row116_col0\" class=\"data row116 col0\" >1</td>\n",
       "      <td id=\"T_72cac_row116_col1\" class=\"data row116 col1\" >1</td>\n",
       "    </tr>\n",
       "    <tr>\n",
       "      <th id=\"T_72cac_level0_row117\" class=\"row_heading level0 row117\" >117</th>\n",
       "      <td id=\"T_72cac_row117_col0\" class=\"data row117 col0\" >1</td>\n",
       "      <td id=\"T_72cac_row117_col1\" class=\"data row117 col1\" >1</td>\n",
       "    </tr>\n",
       "    <tr>\n",
       "      <th id=\"T_72cac_level0_row118\" class=\"row_heading level0 row118\" >118</th>\n",
       "      <td id=\"T_72cac_row118_col0\" class=\"data row118 col0\" >1</td>\n",
       "      <td id=\"T_72cac_row118_col1\" class=\"data row118 col1\" >1</td>\n",
       "    </tr>\n",
       "    <tr>\n",
       "      <th id=\"T_72cac_level0_row119\" class=\"row_heading level0 row119\" >119</th>\n",
       "      <td id=\"T_72cac_row119_col0\" class=\"data row119 col0\" >1</td>\n",
       "      <td id=\"T_72cac_row119_col1\" class=\"data row119 col1\" >1</td>\n",
       "    </tr>\n",
       "    <tr>\n",
       "      <th id=\"T_72cac_level0_row120\" class=\"row_heading level0 row120\" >120</th>\n",
       "      <td id=\"T_72cac_row120_col0\" class=\"data row120 col0\" >1</td>\n",
       "      <td id=\"T_72cac_row120_col1\" class=\"data row120 col1\" >1</td>\n",
       "    </tr>\n",
       "    <tr>\n",
       "      <th id=\"T_72cac_level0_row121\" class=\"row_heading level0 row121\" >121</th>\n",
       "      <td id=\"T_72cac_row121_col0\" class=\"data row121 col0\" >1</td>\n",
       "      <td id=\"T_72cac_row121_col1\" class=\"data row121 col1\" >1</td>\n",
       "    </tr>\n",
       "    <tr>\n",
       "      <th id=\"T_72cac_level0_row122\" class=\"row_heading level0 row122\" >122</th>\n",
       "      <td id=\"T_72cac_row122_col0\" class=\"data row122 col0\" >1</td>\n",
       "      <td id=\"T_72cac_row122_col1\" class=\"data row122 col1\" >1</td>\n",
       "    </tr>\n",
       "    <tr>\n",
       "      <th id=\"T_72cac_level0_row123\" class=\"row_heading level0 row123\" >123</th>\n",
       "      <td id=\"T_72cac_row123_col0\" class=\"data row123 col0\" >1</td>\n",
       "      <td id=\"T_72cac_row123_col1\" class=\"data row123 col1\" >1</td>\n",
       "    </tr>\n",
       "    <tr>\n",
       "      <th id=\"T_72cac_level0_row124\" class=\"row_heading level0 row124\" >124</th>\n",
       "      <td id=\"T_72cac_row124_col0\" class=\"data row124 col0\" >0</td>\n",
       "      <td id=\"T_72cac_row124_col1\" class=\"data row124 col1\" >1</td>\n",
       "    </tr>\n",
       "    <tr>\n",
       "      <th id=\"T_72cac_level0_row125\" class=\"row_heading level0 row125\" >125</th>\n",
       "      <td id=\"T_72cac_row125_col0\" class=\"data row125 col0\" >0</td>\n",
       "      <td id=\"T_72cac_row125_col1\" class=\"data row125 col1\" >1</td>\n",
       "    </tr>\n",
       "    <tr>\n",
       "      <th id=\"T_72cac_level0_row126\" class=\"row_heading level0 row126\" >126</th>\n",
       "      <td id=\"T_72cac_row126_col0\" class=\"data row126 col0\" >0</td>\n",
       "      <td id=\"T_72cac_row126_col1\" class=\"data row126 col1\" >1</td>\n",
       "    </tr>\n",
       "    <tr>\n",
       "      <th id=\"T_72cac_level0_row127\" class=\"row_heading level0 row127\" >127</th>\n",
       "      <td id=\"T_72cac_row127_col0\" class=\"data row127 col0\" >1</td>\n",
       "      <td id=\"T_72cac_row127_col1\" class=\"data row127 col1\" >0</td>\n",
       "    </tr>\n",
       "    <tr>\n",
       "      <th id=\"T_72cac_level0_row128\" class=\"row_heading level0 row128\" >128</th>\n",
       "      <td id=\"T_72cac_row128_col0\" class=\"data row128 col0\" >0</td>\n",
       "      <td id=\"T_72cac_row128_col1\" class=\"data row128 col1\" >1</td>\n",
       "    </tr>\n",
       "    <tr>\n",
       "      <th id=\"T_72cac_level0_row129\" class=\"row_heading level0 row129\" >129</th>\n",
       "      <td id=\"T_72cac_row129_col0\" class=\"data row129 col0\" >1</td>\n",
       "      <td id=\"T_72cac_row129_col1\" class=\"data row129 col1\" >1</td>\n",
       "    </tr>\n",
       "    <tr>\n",
       "      <th id=\"T_72cac_level0_row130\" class=\"row_heading level0 row130\" >130</th>\n",
       "      <td id=\"T_72cac_row130_col0\" class=\"data row130 col0\" >1</td>\n",
       "      <td id=\"T_72cac_row130_col1\" class=\"data row130 col1\" >1</td>\n",
       "    </tr>\n",
       "    <tr>\n",
       "      <th id=\"T_72cac_level0_row131\" class=\"row_heading level0 row131\" >131</th>\n",
       "      <td id=\"T_72cac_row131_col0\" class=\"data row131 col0\" >1</td>\n",
       "      <td id=\"T_72cac_row131_col1\" class=\"data row131 col1\" >1</td>\n",
       "    </tr>\n",
       "    <tr>\n",
       "      <th id=\"T_72cac_level0_row132\" class=\"row_heading level0 row132\" >132</th>\n",
       "      <td id=\"T_72cac_row132_col0\" class=\"data row132 col0\" >1</td>\n",
       "      <td id=\"T_72cac_row132_col1\" class=\"data row132 col1\" >1</td>\n",
       "    </tr>\n",
       "    <tr>\n",
       "      <th id=\"T_72cac_level0_row133\" class=\"row_heading level0 row133\" >133</th>\n",
       "      <td id=\"T_72cac_row133_col0\" class=\"data row133 col0\" >1</td>\n",
       "      <td id=\"T_72cac_row133_col1\" class=\"data row133 col1\" >1</td>\n",
       "    </tr>\n",
       "    <tr>\n",
       "      <th id=\"T_72cac_level0_row134\" class=\"row_heading level0 row134\" >134</th>\n",
       "      <td id=\"T_72cac_row134_col0\" class=\"data row134 col0\" >1</td>\n",
       "      <td id=\"T_72cac_row134_col1\" class=\"data row134 col1\" >0</td>\n",
       "    </tr>\n",
       "    <tr>\n",
       "      <th id=\"T_72cac_level0_row135\" class=\"row_heading level0 row135\" >135</th>\n",
       "      <td id=\"T_72cac_row135_col0\" class=\"data row135 col0\" >1</td>\n",
       "      <td id=\"T_72cac_row135_col1\" class=\"data row135 col1\" >1</td>\n",
       "    </tr>\n",
       "    <tr>\n",
       "      <th id=\"T_72cac_level0_row136\" class=\"row_heading level0 row136\" >136</th>\n",
       "      <td id=\"T_72cac_row136_col0\" class=\"data row136 col0\" >1</td>\n",
       "      <td id=\"T_72cac_row136_col1\" class=\"data row136 col1\" >1</td>\n",
       "    </tr>\n",
       "    <tr>\n",
       "      <th id=\"T_72cac_level0_row137\" class=\"row_heading level0 row137\" >137</th>\n",
       "      <td id=\"T_72cac_row137_col0\" class=\"data row137 col0\" >1</td>\n",
       "      <td id=\"T_72cac_row137_col1\" class=\"data row137 col1\" >1</td>\n",
       "    </tr>\n",
       "    <tr>\n",
       "      <th id=\"T_72cac_level0_row138\" class=\"row_heading level0 row138\" >138</th>\n",
       "      <td id=\"T_72cac_row138_col0\" class=\"data row138 col0\" >1</td>\n",
       "      <td id=\"T_72cac_row138_col1\" class=\"data row138 col1\" >1</td>\n",
       "    </tr>\n",
       "    <tr>\n",
       "      <th id=\"T_72cac_level0_row139\" class=\"row_heading level0 row139\" >139</th>\n",
       "      <td id=\"T_72cac_row139_col0\" class=\"data row139 col0\" >1</td>\n",
       "      <td id=\"T_72cac_row139_col1\" class=\"data row139 col1\" >1</td>\n",
       "    </tr>\n",
       "    <tr>\n",
       "      <th id=\"T_72cac_level0_row140\" class=\"row_heading level0 row140\" >140</th>\n",
       "      <td id=\"T_72cac_row140_col0\" class=\"data row140 col0\" >1</td>\n",
       "      <td id=\"T_72cac_row140_col1\" class=\"data row140 col1\" >1</td>\n",
       "    </tr>\n",
       "    <tr>\n",
       "      <th id=\"T_72cac_level0_row141\" class=\"row_heading level0 row141\" >141</th>\n",
       "      <td id=\"T_72cac_row141_col0\" class=\"data row141 col0\" >1</td>\n",
       "      <td id=\"T_72cac_row141_col1\" class=\"data row141 col1\" >1</td>\n",
       "    </tr>\n",
       "    <tr>\n",
       "      <th id=\"T_72cac_level0_row142\" class=\"row_heading level0 row142\" >142</th>\n",
       "      <td id=\"T_72cac_row142_col0\" class=\"data row142 col0\" >1</td>\n",
       "      <td id=\"T_72cac_row142_col1\" class=\"data row142 col1\" >1</td>\n",
       "    </tr>\n",
       "    <tr>\n",
       "      <th id=\"T_72cac_level0_row143\" class=\"row_heading level0 row143\" >143</th>\n",
       "      <td id=\"T_72cac_row143_col0\" class=\"data row143 col0\" >0</td>\n",
       "      <td id=\"T_72cac_row143_col1\" class=\"data row143 col1\" >1</td>\n",
       "    </tr>\n",
       "    <tr>\n",
       "      <th id=\"T_72cac_level0_row144\" class=\"row_heading level0 row144\" >144</th>\n",
       "      <td id=\"T_72cac_row144_col0\" class=\"data row144 col0\" >0</td>\n",
       "      <td id=\"T_72cac_row144_col1\" class=\"data row144 col1\" >1</td>\n",
       "    </tr>\n",
       "    <tr>\n",
       "      <th id=\"T_72cac_level0_row145\" class=\"row_heading level0 row145\" >145</th>\n",
       "      <td id=\"T_72cac_row145_col0\" class=\"data row145 col0\" >1</td>\n",
       "      <td id=\"T_72cac_row145_col1\" class=\"data row145 col1\" >1</td>\n",
       "    </tr>\n",
       "    <tr>\n",
       "      <th id=\"T_72cac_level0_row146\" class=\"row_heading level0 row146\" >146</th>\n",
       "      <td id=\"T_72cac_row146_col0\" class=\"data row146 col0\" >1</td>\n",
       "      <td id=\"T_72cac_row146_col1\" class=\"data row146 col1\" >1</td>\n",
       "    </tr>\n",
       "    <tr>\n",
       "      <th id=\"T_72cac_level0_row147\" class=\"row_heading level0 row147\" >147</th>\n",
       "      <td id=\"T_72cac_row147_col0\" class=\"data row147 col0\" >1</td>\n",
       "      <td id=\"T_72cac_row147_col1\" class=\"data row147 col1\" >1</td>\n",
       "    </tr>\n",
       "    <tr>\n",
       "      <th id=\"T_72cac_level0_row148\" class=\"row_heading level0 row148\" >148</th>\n",
       "      <td id=\"T_72cac_row148_col0\" class=\"data row148 col0\" >1</td>\n",
       "      <td id=\"T_72cac_row148_col1\" class=\"data row148 col1\" >1</td>\n",
       "    </tr>\n",
       "    <tr>\n",
       "      <th id=\"T_72cac_level0_row149\" class=\"row_heading level0 row149\" >149</th>\n",
       "      <td id=\"T_72cac_row149_col0\" class=\"data row149 col0\" >1</td>\n",
       "      <td id=\"T_72cac_row149_col1\" class=\"data row149 col1\" >1</td>\n",
       "    </tr>\n",
       "    <tr>\n",
       "      <th id=\"T_72cac_level0_row150\" class=\"row_heading level0 row150\" >150</th>\n",
       "      <td id=\"T_72cac_row150_col0\" class=\"data row150 col0\" >1</td>\n",
       "      <td id=\"T_72cac_row150_col1\" class=\"data row150 col1\" >1</td>\n",
       "    </tr>\n",
       "    <tr>\n",
       "      <th id=\"T_72cac_level0_row151\" class=\"row_heading level0 row151\" >151</th>\n",
       "      <td id=\"T_72cac_row151_col0\" class=\"data row151 col0\" >1</td>\n",
       "      <td id=\"T_72cac_row151_col1\" class=\"data row151 col1\" >1</td>\n",
       "    </tr>\n",
       "    <tr>\n",
       "      <th id=\"T_72cac_level0_row152\" class=\"row_heading level0 row152\" >152</th>\n",
       "      <td id=\"T_72cac_row152_col0\" class=\"data row152 col0\" >1</td>\n",
       "      <td id=\"T_72cac_row152_col1\" class=\"data row152 col1\" >1</td>\n",
       "    </tr>\n",
       "    <tr>\n",
       "      <th id=\"T_72cac_level0_row153\" class=\"row_heading level0 row153\" >153</th>\n",
       "      <td id=\"T_72cac_row153_col0\" class=\"data row153 col0\" >1</td>\n",
       "      <td id=\"T_72cac_row153_col1\" class=\"data row153 col1\" >1</td>\n",
       "    </tr>\n",
       "    <tr>\n",
       "      <th id=\"T_72cac_level0_row154\" class=\"row_heading level0 row154\" >154</th>\n",
       "      <td id=\"T_72cac_row154_col0\" class=\"data row154 col0\" >1</td>\n",
       "      <td id=\"T_72cac_row154_col1\" class=\"data row154 col1\" >1</td>\n",
       "    </tr>\n",
       "    <tr>\n",
       "      <th id=\"T_72cac_level0_row155\" class=\"row_heading level0 row155\" >155</th>\n",
       "      <td id=\"T_72cac_row155_col0\" class=\"data row155 col0\" >1</td>\n",
       "      <td id=\"T_72cac_row155_col1\" class=\"data row155 col1\" >1</td>\n",
       "    </tr>\n",
       "    <tr>\n",
       "      <th id=\"T_72cac_level0_row156\" class=\"row_heading level0 row156\" >156</th>\n",
       "      <td id=\"T_72cac_row156_col0\" class=\"data row156 col0\" >1</td>\n",
       "      <td id=\"T_72cac_row156_col1\" class=\"data row156 col1\" >1</td>\n",
       "    </tr>\n",
       "    <tr>\n",
       "      <th id=\"T_72cac_level0_row157\" class=\"row_heading level0 row157\" >157</th>\n",
       "      <td id=\"T_72cac_row157_col0\" class=\"data row157 col0\" >1</td>\n",
       "      <td id=\"T_72cac_row157_col1\" class=\"data row157 col1\" >1</td>\n",
       "    </tr>\n",
       "    <tr>\n",
       "      <th id=\"T_72cac_level0_row158\" class=\"row_heading level0 row158\" >158</th>\n",
       "      <td id=\"T_72cac_row158_col0\" class=\"data row158 col0\" >0</td>\n",
       "      <td id=\"T_72cac_row158_col1\" class=\"data row158 col1\" >1</td>\n",
       "    </tr>\n",
       "    <tr>\n",
       "      <th id=\"T_72cac_level0_row159\" class=\"row_heading level0 row159\" >159</th>\n",
       "      <td id=\"T_72cac_row159_col0\" class=\"data row159 col0\" >0</td>\n",
       "      <td id=\"T_72cac_row159_col1\" class=\"data row159 col1\" >1</td>\n",
       "    </tr>\n",
       "    <tr>\n",
       "      <th id=\"T_72cac_level0_row160\" class=\"row_heading level0 row160\" >160</th>\n",
       "      <td id=\"T_72cac_row160_col0\" class=\"data row160 col0\" >0</td>\n",
       "      <td id=\"T_72cac_row160_col1\" class=\"data row160 col1\" >1</td>\n",
       "    </tr>\n",
       "    <tr>\n",
       "      <th id=\"T_72cac_level0_row161\" class=\"row_heading level0 row161\" >161</th>\n",
       "      <td id=\"T_72cac_row161_col0\" class=\"data row161 col0\" >0</td>\n",
       "      <td id=\"T_72cac_row161_col1\" class=\"data row161 col1\" >1</td>\n",
       "    </tr>\n",
       "    <tr>\n",
       "      <th id=\"T_72cac_level0_row162\" class=\"row_heading level0 row162\" >162</th>\n",
       "      <td id=\"T_72cac_row162_col0\" class=\"data row162 col0\" >0</td>\n",
       "      <td id=\"T_72cac_row162_col1\" class=\"data row162 col1\" >1</td>\n",
       "    </tr>\n",
       "    <tr>\n",
       "      <th id=\"T_72cac_level0_row163\" class=\"row_heading level0 row163\" >163</th>\n",
       "      <td id=\"T_72cac_row163_col0\" class=\"data row163 col0\" >0</td>\n",
       "      <td id=\"T_72cac_row163_col1\" class=\"data row163 col1\" >1</td>\n",
       "    </tr>\n",
       "    <tr>\n",
       "      <th id=\"T_72cac_level0_row164\" class=\"row_heading level0 row164\" >164</th>\n",
       "      <td id=\"T_72cac_row164_col0\" class=\"data row164 col0\" >0</td>\n",
       "      <td id=\"T_72cac_row164_col1\" class=\"data row164 col1\" >1</td>\n",
       "    </tr>\n",
       "    <tr>\n",
       "      <th id=\"T_72cac_level0_row165\" class=\"row_heading level0 row165\" >165</th>\n",
       "      <td id=\"T_72cac_row165_col0\" class=\"data row165 col0\" >0</td>\n",
       "      <td id=\"T_72cac_row165_col1\" class=\"data row165 col1\" >1</td>\n",
       "    </tr>\n",
       "    <tr>\n",
       "      <th id=\"T_72cac_level0_row166\" class=\"row_heading level0 row166\" >166</th>\n",
       "      <td id=\"T_72cac_row166_col0\" class=\"data row166 col0\" >0</td>\n",
       "      <td id=\"T_72cac_row166_col1\" class=\"data row166 col1\" >1</td>\n",
       "    </tr>\n",
       "    <tr>\n",
       "      <th id=\"T_72cac_level0_row167\" class=\"row_heading level0 row167\" >167</th>\n",
       "      <td id=\"T_72cac_row167_col0\" class=\"data row167 col0\" >0</td>\n",
       "      <td id=\"T_72cac_row167_col1\" class=\"data row167 col1\" >1</td>\n",
       "    </tr>\n",
       "    <tr>\n",
       "      <th id=\"T_72cac_level0_row168\" class=\"row_heading level0 row168\" >168</th>\n",
       "      <td id=\"T_72cac_row168_col0\" class=\"data row168 col0\" >0</td>\n",
       "      <td id=\"T_72cac_row168_col1\" class=\"data row168 col1\" >1</td>\n",
       "    </tr>\n",
       "    <tr>\n",
       "      <th id=\"T_72cac_level0_row169\" class=\"row_heading level0 row169\" >169</th>\n",
       "      <td id=\"T_72cac_row169_col0\" class=\"data row169 col0\" >0</td>\n",
       "      <td id=\"T_72cac_row169_col1\" class=\"data row169 col1\" >1</td>\n",
       "    </tr>\n",
       "    <tr>\n",
       "      <th id=\"T_72cac_level0_row170\" class=\"row_heading level0 row170\" >170</th>\n",
       "      <td id=\"T_72cac_row170_col0\" class=\"data row170 col0\" >0</td>\n",
       "      <td id=\"T_72cac_row170_col1\" class=\"data row170 col1\" >1</td>\n",
       "    </tr>\n",
       "    <tr>\n",
       "      <th id=\"T_72cac_level0_row171\" class=\"row_heading level0 row171\" >171</th>\n",
       "      <td id=\"T_72cac_row171_col0\" class=\"data row171 col0\" >0</td>\n",
       "      <td id=\"T_72cac_row171_col1\" class=\"data row171 col1\" >1</td>\n",
       "    </tr>\n",
       "    <tr>\n",
       "      <th id=\"T_72cac_level0_row172\" class=\"row_heading level0 row172\" >172</th>\n",
       "      <td id=\"T_72cac_row172_col0\" class=\"data row172 col0\" >0</td>\n",
       "      <td id=\"T_72cac_row172_col1\" class=\"data row172 col1\" >1</td>\n",
       "    </tr>\n",
       "    <tr>\n",
       "      <th id=\"T_72cac_level0_row173\" class=\"row_heading level0 row173\" >173</th>\n",
       "      <td id=\"T_72cac_row173_col0\" class=\"data row173 col0\" >1</td>\n",
       "      <td id=\"T_72cac_row173_col1\" class=\"data row173 col1\" >0</td>\n",
       "    </tr>\n",
       "    <tr>\n",
       "      <th id=\"T_72cac_level0_row174\" class=\"row_heading level0 row174\" >174</th>\n",
       "      <td id=\"T_72cac_row174_col0\" class=\"data row174 col0\" >0</td>\n",
       "      <td id=\"T_72cac_row174_col1\" class=\"data row174 col1\" >0</td>\n",
       "    </tr>\n",
       "    <tr>\n",
       "      <th id=\"T_72cac_level0_row175\" class=\"row_heading level0 row175\" >175</th>\n",
       "      <td id=\"T_72cac_row175_col0\" class=\"data row175 col0\" >0</td>\n",
       "      <td id=\"T_72cac_row175_col1\" class=\"data row175 col1\" >1</td>\n",
       "    </tr>\n",
       "    <tr>\n",
       "      <th id=\"T_72cac_level0_row176\" class=\"row_heading level0 row176\" >176</th>\n",
       "      <td id=\"T_72cac_row176_col0\" class=\"data row176 col0\" >0</td>\n",
       "      <td id=\"T_72cac_row176_col1\" class=\"data row176 col1\" >1</td>\n",
       "    </tr>\n",
       "    <tr>\n",
       "      <th id=\"T_72cac_level0_row177\" class=\"row_heading level0 row177\" >177</th>\n",
       "      <td id=\"T_72cac_row177_col0\" class=\"data row177 col0\" >0</td>\n",
       "      <td id=\"T_72cac_row177_col1\" class=\"data row177 col1\" >1</td>\n",
       "    </tr>\n",
       "    <tr>\n",
       "      <th id=\"T_72cac_level0_row178\" class=\"row_heading level0 row178\" >178</th>\n",
       "      <td id=\"T_72cac_row178_col0\" class=\"data row178 col0\" >0</td>\n",
       "      <td id=\"T_72cac_row178_col1\" class=\"data row178 col1\" >1</td>\n",
       "    </tr>\n",
       "    <tr>\n",
       "      <th id=\"T_72cac_level0_row179\" class=\"row_heading level0 row179\" >179</th>\n",
       "      <td id=\"T_72cac_row179_col0\" class=\"data row179 col0\" >1</td>\n",
       "      <td id=\"T_72cac_row179_col1\" class=\"data row179 col1\" >0</td>\n",
       "    </tr>\n",
       "    <tr>\n",
       "      <th id=\"T_72cac_level0_row180\" class=\"row_heading level0 row180\" >180</th>\n",
       "      <td id=\"T_72cac_row180_col0\" class=\"data row180 col0\" >0</td>\n",
       "      <td id=\"T_72cac_row180_col1\" class=\"data row180 col1\" >1</td>\n",
       "    </tr>\n",
       "    <tr>\n",
       "      <th id=\"T_72cac_level0_row181\" class=\"row_heading level0 row181\" >181</th>\n",
       "      <td id=\"T_72cac_row181_col0\" class=\"data row181 col0\" >1</td>\n",
       "      <td id=\"T_72cac_row181_col1\" class=\"data row181 col1\" >1</td>\n",
       "    </tr>\n",
       "    <tr>\n",
       "      <th id=\"T_72cac_level0_row182\" class=\"row_heading level0 row182\" >182</th>\n",
       "      <td id=\"T_72cac_row182_col0\" class=\"data row182 col0\" >1</td>\n",
       "      <td id=\"T_72cac_row182_col1\" class=\"data row182 col1\" >1</td>\n",
       "    </tr>\n",
       "    <tr>\n",
       "      <th id=\"T_72cac_level0_row183\" class=\"row_heading level0 row183\" >183</th>\n",
       "      <td id=\"T_72cac_row183_col0\" class=\"data row183 col0\" >1</td>\n",
       "      <td id=\"T_72cac_row183_col1\" class=\"data row183 col1\" >1</td>\n",
       "    </tr>\n",
       "    <tr>\n",
       "      <th id=\"T_72cac_level0_row184\" class=\"row_heading level0 row184\" >184</th>\n",
       "      <td id=\"T_72cac_row184_col0\" class=\"data row184 col0\" >1</td>\n",
       "      <td id=\"T_72cac_row184_col1\" class=\"data row184 col1\" >1</td>\n",
       "    </tr>\n",
       "    <tr>\n",
       "      <th id=\"T_72cac_level0_row185\" class=\"row_heading level0 row185\" >185</th>\n",
       "      <td id=\"T_72cac_row185_col0\" class=\"data row185 col0\" >1</td>\n",
       "      <td id=\"T_72cac_row185_col1\" class=\"data row185 col1\" >1</td>\n",
       "    </tr>\n",
       "    <tr>\n",
       "      <th id=\"T_72cac_level0_row186\" class=\"row_heading level0 row186\" >186</th>\n",
       "      <td id=\"T_72cac_row186_col0\" class=\"data row186 col0\" >1</td>\n",
       "      <td id=\"T_72cac_row186_col1\" class=\"data row186 col1\" >1</td>\n",
       "    </tr>\n",
       "    <tr>\n",
       "      <th id=\"T_72cac_level0_row187\" class=\"row_heading level0 row187\" >187</th>\n",
       "      <td id=\"T_72cac_row187_col0\" class=\"data row187 col0\" >1</td>\n",
       "      <td id=\"T_72cac_row187_col1\" class=\"data row187 col1\" >1</td>\n",
       "    </tr>\n",
       "    <tr>\n",
       "      <th id=\"T_72cac_level0_row188\" class=\"row_heading level0 row188\" >188</th>\n",
       "      <td id=\"T_72cac_row188_col0\" class=\"data row188 col0\" >1</td>\n",
       "      <td id=\"T_72cac_row188_col1\" class=\"data row188 col1\" >1</td>\n",
       "    </tr>\n",
       "    <tr>\n",
       "      <th id=\"T_72cac_level0_row189\" class=\"row_heading level0 row189\" >189</th>\n",
       "      <td id=\"T_72cac_row189_col0\" class=\"data row189 col0\" >1</td>\n",
       "      <td id=\"T_72cac_row189_col1\" class=\"data row189 col1\" >1</td>\n",
       "    </tr>\n",
       "    <tr>\n",
       "      <th id=\"T_72cac_level0_row190\" class=\"row_heading level0 row190\" >190</th>\n",
       "      <td id=\"T_72cac_row190_col0\" class=\"data row190 col0\" >1</td>\n",
       "      <td id=\"T_72cac_row190_col1\" class=\"data row190 col1\" >1</td>\n",
       "    </tr>\n",
       "    <tr>\n",
       "      <th id=\"T_72cac_level0_row191\" class=\"row_heading level0 row191\" >191</th>\n",
       "      <td id=\"T_72cac_row191_col0\" class=\"data row191 col0\" >1</td>\n",
       "      <td id=\"T_72cac_row191_col1\" class=\"data row191 col1\" >1</td>\n",
       "    </tr>\n",
       "    <tr>\n",
       "      <th id=\"T_72cac_level0_row192\" class=\"row_heading level0 row192\" >192</th>\n",
       "      <td id=\"T_72cac_row192_col0\" class=\"data row192 col0\" >1</td>\n",
       "      <td id=\"T_72cac_row192_col1\" class=\"data row192 col1\" >1</td>\n",
       "    </tr>\n",
       "    <tr>\n",
       "      <th id=\"T_72cac_level0_row193\" class=\"row_heading level0 row193\" >193</th>\n",
       "      <td id=\"T_72cac_row193_col0\" class=\"data row193 col0\" >1</td>\n",
       "      <td id=\"T_72cac_row193_col1\" class=\"data row193 col1\" >1</td>\n",
       "    </tr>\n",
       "    <tr>\n",
       "      <th id=\"T_72cac_level0_row194\" class=\"row_heading level0 row194\" >194</th>\n",
       "      <td id=\"T_72cac_row194_col0\" class=\"data row194 col0\" >1</td>\n",
       "      <td id=\"T_72cac_row194_col1\" class=\"data row194 col1\" >1</td>\n",
       "    </tr>\n",
       "    <tr>\n",
       "      <th id=\"T_72cac_level0_row195\" class=\"row_heading level0 row195\" >195</th>\n",
       "      <td id=\"T_72cac_row195_col0\" class=\"data row195 col0\" >1</td>\n",
       "      <td id=\"T_72cac_row195_col1\" class=\"data row195 col1\" >1</td>\n",
       "    </tr>\n",
       "    <tr>\n",
       "      <th id=\"T_72cac_level0_row196\" class=\"row_heading level0 row196\" >196</th>\n",
       "      <td id=\"T_72cac_row196_col0\" class=\"data row196 col0\" >1</td>\n",
       "      <td id=\"T_72cac_row196_col1\" class=\"data row196 col1\" >1</td>\n",
       "    </tr>\n",
       "    <tr>\n",
       "      <th id=\"T_72cac_level0_row197\" class=\"row_heading level0 row197\" >197</th>\n",
       "      <td id=\"T_72cac_row197_col0\" class=\"data row197 col0\" >1</td>\n",
       "      <td id=\"T_72cac_row197_col1\" class=\"data row197 col1\" >1</td>\n",
       "    </tr>\n",
       "    <tr>\n",
       "      <th id=\"T_72cac_level0_row198\" class=\"row_heading level0 row198\" >198</th>\n",
       "      <td id=\"T_72cac_row198_col0\" class=\"data row198 col0\" >1</td>\n",
       "      <td id=\"T_72cac_row198_col1\" class=\"data row198 col1\" >1</td>\n",
       "    </tr>\n",
       "    <tr>\n",
       "      <th id=\"T_72cac_level0_row199\" class=\"row_heading level0 row199\" >199</th>\n",
       "      <td id=\"T_72cac_row199_col0\" class=\"data row199 col0\" >1</td>\n",
       "      <td id=\"T_72cac_row199_col1\" class=\"data row199 col1\" >1</td>\n",
       "    </tr>\n",
       "    <tr>\n",
       "      <th id=\"T_72cac_level0_row200\" class=\"row_heading level0 row200\" >200</th>\n",
       "      <td id=\"T_72cac_row200_col0\" class=\"data row200 col0\" >1</td>\n",
       "      <td id=\"T_72cac_row200_col1\" class=\"data row200 col1\" >1</td>\n",
       "    </tr>\n",
       "    <tr>\n",
       "      <th id=\"T_72cac_level0_row201\" class=\"row_heading level0 row201\" >201</th>\n",
       "      <td id=\"T_72cac_row201_col0\" class=\"data row201 col0\" >1</td>\n",
       "      <td id=\"T_72cac_row201_col1\" class=\"data row201 col1\" >1</td>\n",
       "    </tr>\n",
       "    <tr>\n",
       "      <th id=\"T_72cac_level0_row202\" class=\"row_heading level0 row202\" >202</th>\n",
       "      <td id=\"T_72cac_row202_col0\" class=\"data row202 col0\" >1</td>\n",
       "      <td id=\"T_72cac_row202_col1\" class=\"data row202 col1\" >1</td>\n",
       "    </tr>\n",
       "    <tr>\n",
       "      <th id=\"T_72cac_level0_row203\" class=\"row_heading level0 row203\" >203</th>\n",
       "      <td id=\"T_72cac_row203_col0\" class=\"data row203 col0\" >1</td>\n",
       "      <td id=\"T_72cac_row203_col1\" class=\"data row203 col1\" >1</td>\n",
       "    </tr>\n",
       "    <tr>\n",
       "      <th id=\"T_72cac_level0_row204\" class=\"row_heading level0 row204\" >204</th>\n",
       "      <td id=\"T_72cac_row204_col0\" class=\"data row204 col0\" >1</td>\n",
       "      <td id=\"T_72cac_row204_col1\" class=\"data row204 col1\" >1</td>\n",
       "    </tr>\n",
       "    <tr>\n",
       "      <th id=\"T_72cac_level0_row205\" class=\"row_heading level0 row205\" >205</th>\n",
       "      <td id=\"T_72cac_row205_col0\" class=\"data row205 col0\" >1</td>\n",
       "      <td id=\"T_72cac_row205_col1\" class=\"data row205 col1\" >1</td>\n",
       "    </tr>\n",
       "    <tr>\n",
       "      <th id=\"T_72cac_level0_row206\" class=\"row_heading level0 row206\" >206</th>\n",
       "      <td id=\"T_72cac_row206_col0\" class=\"data row206 col0\" >1</td>\n",
       "      <td id=\"T_72cac_row206_col1\" class=\"data row206 col1\" >1</td>\n",
       "    </tr>\n",
       "    <tr>\n",
       "      <th id=\"T_72cac_level0_row207\" class=\"row_heading level0 row207\" >207</th>\n",
       "      <td id=\"T_72cac_row207_col0\" class=\"data row207 col0\" >1</td>\n",
       "      <td id=\"T_72cac_row207_col1\" class=\"data row207 col1\" >1</td>\n",
       "    </tr>\n",
       "    <tr>\n",
       "      <th id=\"T_72cac_level0_row208\" class=\"row_heading level0 row208\" >208</th>\n",
       "      <td id=\"T_72cac_row208_col0\" class=\"data row208 col0\" >1</td>\n",
       "      <td id=\"T_72cac_row208_col1\" class=\"data row208 col1\" >1</td>\n",
       "    </tr>\n",
       "    <tr>\n",
       "      <th id=\"T_72cac_level0_row209\" class=\"row_heading level0 row209\" >209</th>\n",
       "      <td id=\"T_72cac_row209_col0\" class=\"data row209 col0\" >1</td>\n",
       "      <td id=\"T_72cac_row209_col1\" class=\"data row209 col1\" >0</td>\n",
       "    </tr>\n",
       "    <tr>\n",
       "      <th id=\"T_72cac_level0_row210\" class=\"row_heading level0 row210\" >210</th>\n",
       "      <td id=\"T_72cac_row210_col0\" class=\"data row210 col0\" >1</td>\n",
       "      <td id=\"T_72cac_row210_col1\" class=\"data row210 col1\" >1</td>\n",
       "    </tr>\n",
       "    <tr>\n",
       "      <th id=\"T_72cac_level0_row211\" class=\"row_heading level0 row211\" >211</th>\n",
       "      <td id=\"T_72cac_row211_col0\" class=\"data row211 col0\" >1</td>\n",
       "      <td id=\"T_72cac_row211_col1\" class=\"data row211 col1\" >1</td>\n",
       "    </tr>\n",
       "    <tr>\n",
       "      <th id=\"T_72cac_level0_row212\" class=\"row_heading level0 row212\" >212</th>\n",
       "      <td id=\"T_72cac_row212_col0\" class=\"data row212 col0\" >0</td>\n",
       "      <td id=\"T_72cac_row212_col1\" class=\"data row212 col1\" >0</td>\n",
       "    </tr>\n",
       "    <tr>\n",
       "      <th id=\"T_72cac_level0_row213\" class=\"row_heading level0 row213\" >213</th>\n",
       "      <td id=\"T_72cac_row213_col0\" class=\"data row213 col0\" >1</td>\n",
       "      <td id=\"T_72cac_row213_col1\" class=\"data row213 col1\" >0</td>\n",
       "    </tr>\n",
       "    <tr>\n",
       "      <th id=\"T_72cac_level0_row214\" class=\"row_heading level0 row214\" >214</th>\n",
       "      <td id=\"T_72cac_row214_col0\" class=\"data row214 col0\" >1</td>\n",
       "      <td id=\"T_72cac_row214_col1\" class=\"data row214 col1\" >0</td>\n",
       "    </tr>\n",
       "    <tr>\n",
       "      <th id=\"T_72cac_level0_row215\" class=\"row_heading level0 row215\" >215</th>\n",
       "      <td id=\"T_72cac_row215_col0\" class=\"data row215 col0\" >0</td>\n",
       "      <td id=\"T_72cac_row215_col1\" class=\"data row215 col1\" >0</td>\n",
       "    </tr>\n",
       "    <tr>\n",
       "      <th id=\"T_72cac_level0_row216\" class=\"row_heading level0 row216\" >216</th>\n",
       "      <td id=\"T_72cac_row216_col0\" class=\"data row216 col0\" >0</td>\n",
       "      <td id=\"T_72cac_row216_col1\" class=\"data row216 col1\" >0</td>\n",
       "    </tr>\n",
       "    <tr>\n",
       "      <th id=\"T_72cac_level0_row217\" class=\"row_heading level0 row217\" >217</th>\n",
       "      <td id=\"T_72cac_row217_col0\" class=\"data row217 col0\" >0</td>\n",
       "      <td id=\"T_72cac_row217_col1\" class=\"data row217 col1\" >0</td>\n",
       "    </tr>\n",
       "    <tr>\n",
       "      <th id=\"T_72cac_level0_row218\" class=\"row_heading level0 row218\" >218</th>\n",
       "      <td id=\"T_72cac_row218_col0\" class=\"data row218 col0\" >0</td>\n",
       "      <td id=\"T_72cac_row218_col1\" class=\"data row218 col1\" >0</td>\n",
       "    </tr>\n",
       "    <tr>\n",
       "      <th id=\"T_72cac_level0_row219\" class=\"row_heading level0 row219\" >219</th>\n",
       "      <td id=\"T_72cac_row219_col0\" class=\"data row219 col0\" >0</td>\n",
       "      <td id=\"T_72cac_row219_col1\" class=\"data row219 col1\" >0</td>\n",
       "    </tr>\n",
       "    <tr>\n",
       "      <th id=\"T_72cac_level0_row220\" class=\"row_heading level0 row220\" >220</th>\n",
       "      <td id=\"T_72cac_row220_col0\" class=\"data row220 col0\" >0</td>\n",
       "      <td id=\"T_72cac_row220_col1\" class=\"data row220 col1\" >0</td>\n",
       "    </tr>\n",
       "    <tr>\n",
       "      <th id=\"T_72cac_level0_row221\" class=\"row_heading level0 row221\" >221</th>\n",
       "      <td id=\"T_72cac_row221_col0\" class=\"data row221 col0\" >1</td>\n",
       "      <td id=\"T_72cac_row221_col1\" class=\"data row221 col1\" >0</td>\n",
       "    </tr>\n",
       "    <tr>\n",
       "      <th id=\"T_72cac_level0_row222\" class=\"row_heading level0 row222\" >222</th>\n",
       "      <td id=\"T_72cac_row222_col0\" class=\"data row222 col0\" >0</td>\n",
       "      <td id=\"T_72cac_row222_col1\" class=\"data row222 col1\" >1</td>\n",
       "    </tr>\n",
       "    <tr>\n",
       "      <th id=\"T_72cac_level0_row223\" class=\"row_heading level0 row223\" >223</th>\n",
       "      <td id=\"T_72cac_row223_col0\" class=\"data row223 col0\" >1</td>\n",
       "      <td id=\"T_72cac_row223_col1\" class=\"data row223 col1\" >1</td>\n",
       "    </tr>\n",
       "    <tr>\n",
       "      <th id=\"T_72cac_level0_row224\" class=\"row_heading level0 row224\" >224</th>\n",
       "      <td id=\"T_72cac_row224_col0\" class=\"data row224 col0\" >1</td>\n",
       "      <td id=\"T_72cac_row224_col1\" class=\"data row224 col1\" >1</td>\n",
       "    </tr>\n",
       "    <tr>\n",
       "      <th id=\"T_72cac_level0_row225\" class=\"row_heading level0 row225\" >225</th>\n",
       "      <td id=\"T_72cac_row225_col0\" class=\"data row225 col0\" >1</td>\n",
       "      <td id=\"T_72cac_row225_col1\" class=\"data row225 col1\" >1</td>\n",
       "    </tr>\n",
       "    <tr>\n",
       "      <th id=\"T_72cac_level0_row226\" class=\"row_heading level0 row226\" >226</th>\n",
       "      <td id=\"T_72cac_row226_col0\" class=\"data row226 col0\" >1</td>\n",
       "      <td id=\"T_72cac_row226_col1\" class=\"data row226 col1\" >1</td>\n",
       "    </tr>\n",
       "    <tr>\n",
       "      <th id=\"T_72cac_level0_row227\" class=\"row_heading level0 row227\" >227</th>\n",
       "      <td id=\"T_72cac_row227_col0\" class=\"data row227 col0\" >1</td>\n",
       "      <td id=\"T_72cac_row227_col1\" class=\"data row227 col1\" >1</td>\n",
       "    </tr>\n",
       "    <tr>\n",
       "      <th id=\"T_72cac_level0_row228\" class=\"row_heading level0 row228\" >228</th>\n",
       "      <td id=\"T_72cac_row228_col0\" class=\"data row228 col0\" >1</td>\n",
       "      <td id=\"T_72cac_row228_col1\" class=\"data row228 col1\" >1</td>\n",
       "    </tr>\n",
       "    <tr>\n",
       "      <th id=\"T_72cac_level0_row229\" class=\"row_heading level0 row229\" >229</th>\n",
       "      <td id=\"T_72cac_row229_col0\" class=\"data row229 col0\" >1</td>\n",
       "      <td id=\"T_72cac_row229_col1\" class=\"data row229 col1\" >1</td>\n",
       "    </tr>\n",
       "    <tr>\n",
       "      <th id=\"T_72cac_level0_row230\" class=\"row_heading level0 row230\" >230</th>\n",
       "      <td id=\"T_72cac_row230_col0\" class=\"data row230 col0\" >1</td>\n",
       "      <td id=\"T_72cac_row230_col1\" class=\"data row230 col1\" >1</td>\n",
       "    </tr>\n",
       "    <tr>\n",
       "      <th id=\"T_72cac_level0_row231\" class=\"row_heading level0 row231\" >231</th>\n",
       "      <td id=\"T_72cac_row231_col0\" class=\"data row231 col0\" >1</td>\n",
       "      <td id=\"T_72cac_row231_col1\" class=\"data row231 col1\" >1</td>\n",
       "    </tr>\n",
       "    <tr>\n",
       "      <th id=\"T_72cac_level0_row232\" class=\"row_heading level0 row232\" >232</th>\n",
       "      <td id=\"T_72cac_row232_col0\" class=\"data row232 col0\" >0</td>\n",
       "      <td id=\"T_72cac_row232_col1\" class=\"data row232 col1\" >1</td>\n",
       "    </tr>\n",
       "    <tr>\n",
       "      <th id=\"T_72cac_level0_row233\" class=\"row_heading level0 row233\" >233</th>\n",
       "      <td id=\"T_72cac_row233_col0\" class=\"data row233 col0\" >0</td>\n",
       "      <td id=\"T_72cac_row233_col1\" class=\"data row233 col1\" >1</td>\n",
       "    </tr>\n",
       "    <tr>\n",
       "      <th id=\"T_72cac_level0_row234\" class=\"row_heading level0 row234\" >234</th>\n",
       "      <td id=\"T_72cac_row234_col0\" class=\"data row234 col0\" >0</td>\n",
       "      <td id=\"T_72cac_row234_col1\" class=\"data row234 col1\" >1</td>\n",
       "    </tr>\n",
       "    <tr>\n",
       "      <th id=\"T_72cac_level0_row235\" class=\"row_heading level0 row235\" >235</th>\n",
       "      <td id=\"T_72cac_row235_col0\" class=\"data row235 col0\" >0</td>\n",
       "      <td id=\"T_72cac_row235_col1\" class=\"data row235 col1\" >1</td>\n",
       "    </tr>\n",
       "    <tr>\n",
       "      <th id=\"T_72cac_level0_row236\" class=\"row_heading level0 row236\" >236</th>\n",
       "      <td id=\"T_72cac_row236_col0\" class=\"data row236 col0\" >0</td>\n",
       "      <td id=\"T_72cac_row236_col1\" class=\"data row236 col1\" >1</td>\n",
       "    </tr>\n",
       "    <tr>\n",
       "      <th id=\"T_72cac_level0_row237\" class=\"row_heading level0 row237\" >237</th>\n",
       "      <td id=\"T_72cac_row237_col0\" class=\"data row237 col0\" >0</td>\n",
       "      <td id=\"T_72cac_row237_col1\" class=\"data row237 col1\" >1</td>\n",
       "    </tr>\n",
       "  </tbody>\n",
       "</table>\n"
      ]
     },
     "metadata": {},
     "execution_count": 23
    }
   ]
  },
  {
   "cell_type": "code",
   "source": [
    "# On Future Data...\n",
    "# future_data\n",
    "# Top n Correlation with the target variable...\n",
    "future_data_correlation_with_target = test_data.corrwith(future_data['StockPriceIn10days']).abs()\n",
    "\n",
    "# Sorting and removing target variable's correlation...\n",
    "future_data_correlation_with_target = future_data_correlation_with_target.sort_values(ascending=False).drop('StockPriceIn10days')\n",
    "\n",
    "# Select the top n variables...\n",
    "future_data_correlation_with_target_n = future_data_correlation_with_target.head(33).index\n",
    "\n",
    "future_data_n_df = pd.DataFrame(future_data_correlation_with_target_n, columns=['Top n Variables'])\n",
    "future_data_n_df.style.set_table_attributes(\"style='display:inline'\")"
   ],
   "metadata": {
    "id": "NV4yXAJ5QCxX",
    "colab": {
     "base_uri": "https://localhost:8080/",
     "height": 1000
    },
    "outputId": "17668393-0a15-4cad-dc8a-8e5753dcd30d",
    "pycharm": {
     "name": "#%%\n"
    }
   },
   "execution_count": null,
   "outputs": [
    {
     "output_type": "stream",
     "name": "stderr",
     "text": [
      "<ipython-input-24-94ae630614c2>:4: FutureWarning: The default value of numeric_only in DataFrame.corrwith is deprecated. In a future version, it will default to False. Select only valid columns or specify the value of numeric_only to silence this warning.\n",
      "  future_data_correlation_with_target = test_data.corrwith(future_data['StockPriceIn10days']).abs()\n"
     ]
    },
    {
     "output_type": "execute_result",
     "data": {
      "text/plain": [
       "<pandas.io.formats.style.Styler at 0x7a9cfee80550>"
      ],
      "text/html": [
       "<style type=\"text/css\">\n",
       "</style>\n",
       "<table id=\"T_9cf90\" class=\"dataframe\">\n",
       "  <thead>\n",
       "    <tr>\n",
       "      <th class=\"blank level0\" >&nbsp;</th>\n",
       "      <th id=\"T_9cf90_level0_col0\" class=\"col_heading level0 col0\" >Top n Variables</th>\n",
       "    </tr>\n",
       "  </thead>\n",
       "  <tbody>\n",
       "    <tr>\n",
       "      <th id=\"T_9cf90_level0_row0\" class=\"row_heading level0 row0\" >0</th>\n",
       "      <td id=\"T_9cf90_row0_col0\" class=\"data row0 col0\" >Predict></td>\n",
       "    </tr>\n",
       "    <tr>\n",
       "      <th id=\"T_9cf90_level0_row1\" class=\"row_heading level0 row1\" >1</th>\n",
       "      <td id=\"T_9cf90_row1_col0\" class=\"data row1 col0\" >pxAtmIv</td>\n",
       "    </tr>\n",
       "    <tr>\n",
       "      <th id=\"T_9cf90_level0_row2\" class=\"row_heading level0 row2\" >2</th>\n",
       "      <td id=\"T_9cf90_row2_col0\" class=\"data row2 col0\" >orFcst20d</td>\n",
       "    </tr>\n",
       "    <tr>\n",
       "      <th id=\"T_9cf90_level0_row3\" class=\"row_heading level0 row3\" >3</th>\n",
       "      <td id=\"T_9cf90_row3_col0\" class=\"data row3 col0\" >orIvFcst20d</td>\n",
       "    </tr>\n",
       "    <tr>\n",
       "      <th id=\"T_9cf90_level0_row4\" class=\"row_heading level0 row4\" >4</th>\n",
       "      <td id=\"T_9cf90_row4_col0\" class=\"data row4 col0\" >orFcstInf</td>\n",
       "    </tr>\n",
       "    <tr>\n",
       "      <th id=\"T_9cf90_level0_row5\" class=\"row_heading level0 row5\" >5</th>\n",
       "      <td id=\"T_9cf90_row5_col0\" class=\"data row5 col0\" >orIvXern20d</td>\n",
       "    </tr>\n",
       "    <tr>\n",
       "      <th id=\"T_9cf90_level0_row6\" class=\"row_heading level0 row6\" >6</th>\n",
       "      <td id=\"T_9cf90_row6_col0\" class=\"data row6 col0\" >orIvXernInf</td>\n",
       "    </tr>\n",
       "    <tr>\n",
       "      <th id=\"T_9cf90_level0_row7\" class=\"row_heading level0 row7\" >7</th>\n",
       "      <td id=\"T_9cf90_row7_col0\" class=\"data row7 col0\" >volOfVol</td>\n",
       "    </tr>\n",
       "    <tr>\n",
       "      <th id=\"T_9cf90_level0_row8\" class=\"row_heading level0 row8\" >8</th>\n",
       "      <td id=\"T_9cf90_row8_col0\" class=\"data row8 col0\" >volOfIvol</td>\n",
       "    </tr>\n",
       "    <tr>\n",
       "      <th id=\"T_9cf90_level0_row9\" class=\"row_heading level0 row9\" >9</th>\n",
       "      <td id=\"T_9cf90_row9_col0\" class=\"data row9 col0\" >slope</td>\n",
       "    </tr>\n",
       "    <tr>\n",
       "      <th id=\"T_9cf90_level0_row10\" class=\"row_heading level0 row10\" >10</th>\n",
       "      <td id=\"T_9cf90_row10_col0\" class=\"data row10 col0\" >slopeInf</td>\n",
       "    </tr>\n",
       "    <tr>\n",
       "      <th id=\"T_9cf90_level0_row11\" class=\"row_heading level0 row11\" >11</th>\n",
       "      <td id=\"T_9cf90_row11_col0\" class=\"data row11 col0\" >slopeFcst</td>\n",
       "    </tr>\n",
       "    <tr>\n",
       "      <th id=\"T_9cf90_level0_row12\" class=\"row_heading level0 row12\" >12</th>\n",
       "      <td id=\"T_9cf90_row12_col0\" class=\"data row12 col0\" >slopeFcstInf</td>\n",
       "    </tr>\n",
       "    <tr>\n",
       "      <th id=\"T_9cf90_level0_row13\" class=\"row_heading level0 row13\" >13</th>\n",
       "      <td id=\"T_9cf90_row13_col0\" class=\"data row13 col0\" >deriv</td>\n",
       "    </tr>\n",
       "    <tr>\n",
       "      <th id=\"T_9cf90_level0_row14\" class=\"row_heading level0 row14\" >14</th>\n",
       "      <td id=\"T_9cf90_row14_col0\" class=\"data row14 col0\" >derivInf</td>\n",
       "    </tr>\n",
       "    <tr>\n",
       "      <th id=\"T_9cf90_level0_row15\" class=\"row_heading level0 row15\" >15</th>\n",
       "      <td id=\"T_9cf90_row15_col0\" class=\"data row15 col0\" >derivFcst</td>\n",
       "    </tr>\n",
       "    <tr>\n",
       "      <th id=\"T_9cf90_level0_row16\" class=\"row_heading level0 row16\" >16</th>\n",
       "      <td id=\"T_9cf90_row16_col0\" class=\"data row16 col0\" >derivFcstInf</td>\n",
       "    </tr>\n",
       "    <tr>\n",
       "      <th id=\"T_9cf90_level0_row17\" class=\"row_heading level0 row17\" >17</th>\n",
       "      <td id=\"T_9cf90_row17_col0\" class=\"data row17 col0\" >mktWidthVol</td>\n",
       "    </tr>\n",
       "    <tr>\n",
       "      <th id=\"T_9cf90_level0_row18\" class=\"row_heading level0 row18\" >18</th>\n",
       "      <td id=\"T_9cf90_row18_col0\" class=\"data row18 col0\" >mktWidthVolInf</td>\n",
       "    </tr>\n",
       "    <tr>\n",
       "      <th id=\"T_9cf90_level0_row19\" class=\"row_heading level0 row19\" >19</th>\n",
       "      <td id=\"T_9cf90_row19_col0\" class=\"data row19 col0\" >orHv1d</td>\n",
       "    </tr>\n",
       "    <tr>\n",
       "      <th id=\"T_9cf90_level0_row20\" class=\"row_heading level0 row20\" >20</th>\n",
       "      <td id=\"T_9cf90_row20_col0\" class=\"data row20 col0\" >orHv5d</td>\n",
       "    </tr>\n",
       "    <tr>\n",
       "      <th id=\"T_9cf90_level0_row21\" class=\"row_heading level0 row21\" >21</th>\n",
       "      <td id=\"T_9cf90_row21_col0\" class=\"data row21 col0\" >orHv10d</td>\n",
       "    </tr>\n",
       "    <tr>\n",
       "      <th id=\"T_9cf90_level0_row22\" class=\"row_heading level0 row22\" >22</th>\n",
       "      <td id=\"T_9cf90_row22_col0\" class=\"data row22 col0\" >orHv20d</td>\n",
       "    </tr>\n",
       "    <tr>\n",
       "      <th id=\"T_9cf90_level0_row23\" class=\"row_heading level0 row23\" >23</th>\n",
       "      <td id=\"T_9cf90_row23_col0\" class=\"data row23 col0\" >orHv60d</td>\n",
       "    </tr>\n",
       "    <tr>\n",
       "      <th id=\"T_9cf90_level0_row24\" class=\"row_heading level0 row24\" >24</th>\n",
       "      <td id=\"T_9cf90_row24_col0\" class=\"data row24 col0\" >orHv90d</td>\n",
       "    </tr>\n",
       "    <tr>\n",
       "      <th id=\"T_9cf90_level0_row25\" class=\"row_heading level0 row25\" >25</th>\n",
       "      <td id=\"T_9cf90_row25_col0\" class=\"data row25 col0\" >clsHv5d</td>\n",
       "    </tr>\n",
       "    <tr>\n",
       "      <th id=\"T_9cf90_level0_row26\" class=\"row_heading level0 row26\" >26</th>\n",
       "      <td id=\"T_9cf90_row26_col0\" class=\"data row26 col0\" >clsHv10d</td>\n",
       "    </tr>\n",
       "    <tr>\n",
       "      <th id=\"T_9cf90_level0_row27\" class=\"row_heading level0 row27\" >27</th>\n",
       "      <td id=\"T_9cf90_row27_col0\" class=\"data row27 col0\" >clsHv20d</td>\n",
       "    </tr>\n",
       "    <tr>\n",
       "      <th id=\"T_9cf90_level0_row28\" class=\"row_heading level0 row28\" >28</th>\n",
       "      <td id=\"T_9cf90_row28_col0\" class=\"data row28 col0\" >clsHv60d</td>\n",
       "    </tr>\n",
       "    <tr>\n",
       "      <th id=\"T_9cf90_level0_row29\" class=\"row_heading level0 row29\" >29</th>\n",
       "      <td id=\"T_9cf90_row29_col0\" class=\"data row29 col0\" >clsHv90d</td>\n",
       "    </tr>\n",
       "    <tr>\n",
       "      <th id=\"T_9cf90_level0_row30\" class=\"row_heading level0 row30\" >30</th>\n",
       "      <td id=\"T_9cf90_row30_col0\" class=\"data row30 col0\" >iv10d</td>\n",
       "    </tr>\n",
       "    <tr>\n",
       "      <th id=\"T_9cf90_level0_row31\" class=\"row_heading level0 row31\" >31</th>\n",
       "      <td id=\"T_9cf90_row31_col0\" class=\"data row31 col0\" >iv20d</td>\n",
       "    </tr>\n",
       "    <tr>\n",
       "      <th id=\"T_9cf90_level0_row32\" class=\"row_heading level0 row32\" >32</th>\n",
       "      <td id=\"T_9cf90_row32_col0\" class=\"data row32 col0\" >iv30d</td>\n",
       "    </tr>\n",
       "  </tbody>\n",
       "</table>\n"
      ]
     },
     "metadata": {},
     "execution_count": 24
    }
   ]
  },
  {
   "cell_type": "code",
   "source": [
    "future_data_ = future_data[data_correlation_with_target_n].copy()"
   ],
   "metadata": {
    "id": "NZpEQydz2aBq",
    "pycharm": {
     "name": "#%%\n"
    }
   },
   "execution_count": null,
   "outputs": []
  },
  {
   "cell_type": "code",
   "source": [
    "future_data_scaled = scaler.transform(future_data_)\n",
    "\n",
    "# Reshape the input to be [samples, time steps, features]...\n",
    "future_data_reshaped = np.reshape(future_data_scaled, (future_data_scaled.shape[0], 1, future_data_scaled.shape[1]))"
   ],
   "metadata": {
    "id": "x_U63ilB1Jq5",
    "pycharm": {
     "name": "#%%\n"
    }
   },
   "execution_count": null,
   "outputs": []
  },
  {
   "cell_type": "code",
   "source": [
    "# Predicting on Future Data...\n",
    "future_data_pred = model.predict(future_data_reshaped)"
   ],
   "metadata": {
    "colab": {
     "base_uri": "https://localhost:8080/"
    },
    "id": "bVYOtUo12_J7",
    "outputId": "7cb83d79-79e6-49e6-d7fb-149e171d0d1c",
    "pycharm": {
     "name": "#%%\n"
    }
   },
   "execution_count": null,
   "outputs": [
    {
     "output_type": "stream",
     "name": "stdout",
     "text": [
      "8/8 [==============================] - 0s 5ms/step\n"
     ]
    }
   ]
  },
  {
   "cell_type": "code",
   "source": [
    "future_data_pred_seq = prediction(pd.Series(future_data_pred.squeeze()))\n",
    "\n",
    "future_data_pred_seq.to_csv('future_data_pred_seq.csv', header=True)"
   ],
   "metadata": {
    "id": "60xMMurN3Ryb",
    "pycharm": {
     "name": "#%%\n"
    }
   },
   "execution_count": null,
   "outputs": []
  },
  {
   "cell_type": "code",
   "source": [
    "future_data_pred_seq.value_counts()"
   ],
   "metadata": {
    "colab": {
     "base_uri": "https://localhost:8080/"
    },
    "id": "O1OZ_hUwDJS9",
    "outputId": "400d2454-d48a-43ef-c4f6-4bcf4cb3249e",
    "pycharm": {
     "name": "#%%\n"
    }
   },
   "execution_count": null,
   "outputs": [
    {
     "output_type": "execute_result",
     "data": {
      "text/plain": [
       "0    162\n",
       "1     75\n",
       "dtype: int64"
      ]
     },
     "metadata": {},
     "execution_count": 31
    }
   ]
  },
  {
   "cell_type": "code",
   "source": [
    "# Done..."
   ],
   "metadata": {
    "id": "NFE_AkjI3ken",
    "pycharm": {
     "name": "#%%\n"
    }
   },
   "execution_count": null,
   "outputs": []
  }
 ]
}